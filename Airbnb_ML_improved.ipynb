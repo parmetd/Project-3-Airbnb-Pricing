{
 "cells": [
  {
   "cell_type": "markdown",
   "metadata": {},
   "source": [
    "# Version 1.3 5/8/2019"
   ]
  },
  {
   "cell_type": "code",
   "execution_count": 42,
   "metadata": {},
   "outputs": [],
   "source": [
    "# Dependencies\n",
    "\n",
    "# Import linear algebra and data manipulation\n",
    "import numpy as np\n",
    "import pandas as pd\n",
    "\n",
    "# Import plotting packages\n",
    "import matplotlib.pyplot as plt\n",
    "%matplotlib inline\n",
    "\n",
    "# Import machine learning for Linear Regression, Random Forest and measuring metrics\n",
    "from sklearn.linear_model import LinearRegression\n",
    "from sklearn.ensemble import RandomForestRegressor\n",
    "import xgboost\n",
    "from sklearn.metrics import r2_score, mean_squared_error\n",
    "from sklearn.model_selection import train_test_split\n",
    "from sklearn import metrics\n",
    "import math\n",
    "\n",
    "# Deep Learning\n",
    "from keras.models import Sequential\n",
    "from keras.layers import Dense\n",
    "from keras.models import load_model\n",
    "from keras.utils import to_categorical\n",
    "\n",
    "# KNN\n",
    "from sklearn.neighbors import KNeighborsClassifier\n",
    "\n",
    "# Lasso, Ridge, Elasticnet models\n",
    "from sklearn.linear_model import Lasso\n",
    "from sklearn.linear_model import Ridge\n",
    "from sklearn.linear_model import ElasticNet"
   ]
  },
  {
   "cell_type": "code",
   "execution_count": 2,
   "metadata": {},
   "outputs": [
    {
     "name": "stdout",
     "output_type": "stream",
     "text": [
      "listings.csv dataset contains information on 3723 listings provided by 2732 hosts.\n"
     ]
    }
   ],
   "source": [
    "#read the dataset\n",
    "listings_df = pd.read_csv('./listings.csv')\n",
    "\n",
    "#find number of listings and number of hosts\n",
    "listings_number = listings_df['id'].count()\n",
    "hosts_number = len(listings_df['host_id'].unique())\n",
    "\n",
    "print('listings.csv dataset contains information on %d listings provided by %d hosts.' % (listings_number, \n",
    "                                                                                          hosts_number))"
   ]
  },
  {
   "cell_type": "markdown",
   "metadata": {},
   "source": [
    "# New Data Cleaning Process"
   ]
  },
  {
   "cell_type": "code",
   "execution_count": 3,
   "metadata": {},
   "outputs": [],
   "source": [
    "#Helper functions for dataset cleaning\n",
    "def get_host_since_year(row):\n",
    "    ''' Get year from a date represented as a string '''\n",
    "    try:\n",
    "        host_since = int(row['host_since'].split('-')[0])\n",
    "    except:\n",
    "        host_since = np.nan\n",
    "    return host_since\n",
    "\n",
    "def get_val_from_list(row, column_name, value):\n",
    "    ''' Fill in dummy column for values '''\n",
    "    val = 0.0\n",
    "    try:\n",
    "        vals = row[column_name].replace('[', '').replace(\"'\", '').replace(\"]\", '').replace('\"', '').replace('{', '').replace('}', '').split(',')\n",
    "        if value in vals:\n",
    "            val = 1.0\n",
    "    except:\n",
    "        val = 0.0\n",
    "    return val\n",
    "\n",
    "def split_list_into_columns(df, column_name, max_dummies_num = 10):\n",
    "    ''' Split values in columns, which contain lists (for example, amenities) '''\n",
    "    \n",
    "    # get dictionary of unique values in lists across dataset rows\n",
    "    values_dict = {}\n",
    "\n",
    "    for unique_value in df[column_name].unique(): \n",
    "        for value in unique_value.replace('[', '').replace(\"'\", '').replace(\"]\", '').replace('\"', '').replace('{', '').replace('}', '').split(','):\n",
    "            if value in values_dict:\n",
    "                values_dict[value] = values_dict[value] + 1\n",
    "            else:\n",
    "                values_dict[value] = 0\n",
    "                \n",
    "    values_sorted = sorted(values_dict.items(), key=lambda kv: kv[1], reverse = True)\n",
    "      \n",
    "    # split into columns\n",
    "    for value in values_sorted[: max_dummies_num]:\n",
    "        df[column_name + '_' + value[0]] = df.apply(lambda row: get_val_from_list(row, column_name, value[0]),axis=1)\n",
    "        \n",
    "    return\n",
    "\n",
    "def get_extra_people_fee(row):\n",
    "    ''' Return 1 when the is fee for exatra people '''\n",
    "    if row['extra_people'] == '$0.00':\n",
    "        return 0.0\n",
    "    else:\n",
    "        return 1.0\n",
    "\n",
    "#Main dataset cleaning function\n",
    "def clean_dataset(listings_df):\n",
    "    '''\n",
    "    INPUT\n",
    "    listings_df - pandas dataframe containing listings data \n",
    "        \n",
    "    OUTPUT\n",
    "    df - cleaned dataset, which contains merged tables:\n",
    "    1. irrelevant columns are dropped;\n",
    "    2. string containing dates are converted into numbers;\n",
    "    3. columns, containing lists, are split into several columns (for example, amenities)\n",
    "    4. missing values are imputed with mean or mode.\n",
    "    '''\n",
    "   \n",
    "    #drop the irrelevant columns\n",
    "    columns_to_drop = ['host_id','host_location','host_acceptance_rate','host_neighbourhood',\n",
    "                   'host_total_listings_count', 'weekly_price', 'monthly_price',\n",
    "                   'security_deposit', 'cleaning_fee', 'calendar_updated',\n",
    "                   'listing_url','last_scraped' ,'scrape_id', 'name', 'summary', 'space', 'description',\n",
    "                   'experiences_offered', 'street', 'neighbourhood', 'neighbourhood_cleansed', 'zipcode',\n",
    "                   'neighborhood_overview', 'notes', 'transit', 'thumbnail_url', 'medium_url', 'picture_url',\n",
    "                   'xl_picture_url', 'host_url', 'host_name', 'host_about', 'host_thumbnail_url', 'host_picture_url',\n",
    "                   'city', 'state', 'market', 'smart_location', 'country_code', 'country', 'latitude', 'longitude',\n",
    "                   'is_location_exact', 'square_feet', 'has_availability', 'neighbourhood_group_cleansed',\n",
    "                   'availability_60', 'availability_90', 'availability_365', 'calendar_last_scraped',\n",
    "                  'first_review', 'last_review', 'requires_license', 'license', 'jurisdiction_names',\n",
    "                  'reviews_per_month']\n",
    "    df = listings_df.drop(columns = columns_to_drop) \n",
    "     \n",
    "    #convert price to number\n",
    "    df['price'] = df['price'].str.replace(r'\\$','').str.replace(r'\\,','').astype(float)\n",
    "    \n",
    "    #convert host_since date into number and fill in missing values, drop the original column\n",
    "    df['host_since_year'] = df.apply(lambda row: get_host_since_year(row),axis=1)\n",
    "    df['host_since_year'].fillna(df['host_since_year'].mean(), inplace = True)\n",
    "    df = df.drop(columns = ['host_since'])\n",
    "    \n",
    "    #convert host_response_rate into number and fill in missing values, drop the original column\n",
    "    df['host_response_rate_num'] = df['host_response_rate'].astype(str)\n",
    "    df['host_response_rate_num'] = df['host_response_rate_num'].str.replace(\"%\", \"\").astype(\"float\")\n",
    "    df['host_response_rate_num'].fillna(df['host_response_rate_num'].mean(), inplace = True)\n",
    "    \n",
    "    df['host_response_rate_buckets'] = pd.qcut(df['host_response_rate_num'], 5, labels=False, duplicates = 'drop')\n",
    "    \n",
    "    df = df.drop(columns = ['host_response_rate', 'host_response_rate_num'])\n",
    "    \n",
    "    #fill missing values with mean value for host_listings_count\n",
    "    df['host_listings_count'].fillna(df['host_listings_count'].mean(), inplace = True)\n",
    "    \n",
    "    #split host_verifications into dummy columns and drop the original column\n",
    "    split_list_into_columns(df, 'host_verifications')\n",
    "    df = df.drop(columns = ['host_verifications'])\n",
    "    \n",
    "    #fill in missing values for bathrooms, bedrooms and beds with mode\n",
    "    df['bathrooms'] = df['bathrooms'].fillna(df['bathrooms'].mode()[0])\n",
    "    df['bedrooms'] = df['bedrooms'].fillna(df['bedrooms'].mode()[0])\n",
    "    df['beds'] = df['beds'].fillna(df['beds'].mode()[0])\n",
    "    \n",
    "    #split amenities into dummy columns and drop the original column\n",
    "    split_list_into_columns(df, 'amenities')\n",
    "    df = df.drop(columns = ['amenities'])\n",
    "    \n",
    "    #turn extra people fee into binary column (1 - if fee for extra people is charged, 0 - otherwise)\n",
    "    df['extra_people_fee'] = df.apply(lambda row: get_extra_people_fee(row),axis=1)\n",
    "    df = df.drop(columns = ['extra_people'])\n",
    "    \n",
    "    #fill missing values for review scores columns\n",
    "    review_scores_columns = ['review_scores_rating', 'review_scores_accuracy', 'review_scores_cleanliness',\n",
    "                         'review_scores_checkin', 'review_scores_communication', 'review_scores_location',\n",
    "                        'review_scores_value']\n",
    "    for column in review_scores_columns:\n",
    "        df[column].fillna(df[column].mean(), inplace = True)\n",
    "    \n",
    "    return df"
   ]
  },
  {
   "cell_type": "code",
   "execution_count": 4,
   "metadata": {},
   "outputs": [],
   "source": [
    "# apply functions above to clean dataset\n",
    "df = clean_dataset(listings_df)"
   ]
  },
  {
   "cell_type": "markdown",
   "metadata": {},
   "source": [
    "# EDA"
   ]
  },
  {
   "cell_type": "code",
   "execution_count": 5,
   "metadata": {},
   "outputs": [
    {
     "data": {
      "text/plain": [
       "['id',\n",
       " 'host_response_time',\n",
       " 'host_is_superhost',\n",
       " 'host_listings_count',\n",
       " 'host_has_profile_pic',\n",
       " 'host_identity_verified',\n",
       " 'property_type',\n",
       " 'room_type',\n",
       " 'accommodates',\n",
       " 'bathrooms',\n",
       " 'bedrooms',\n",
       " 'beds',\n",
       " 'bed_type',\n",
       " 'price',\n",
       " 'guests_included',\n",
       " 'minimum_nights',\n",
       " 'maximum_nights',\n",
       " 'availability_30',\n",
       " 'number_of_reviews',\n",
       " 'review_scores_rating',\n",
       " 'review_scores_accuracy',\n",
       " 'review_scores_cleanliness',\n",
       " 'review_scores_checkin',\n",
       " 'review_scores_communication',\n",
       " 'review_scores_location',\n",
       " 'review_scores_value',\n",
       " 'instant_bookable',\n",
       " 'cancellation_policy',\n",
       " 'require_guest_profile_picture',\n",
       " 'require_guest_phone_verification',\n",
       " 'calculated_host_listings_count',\n",
       " 'host_since_year',\n",
       " 'host_response_rate_buckets',\n",
       " 'host_verifications_email',\n",
       " 'host_verifications_ phone',\n",
       " 'host_verifications_ reviews',\n",
       " 'host_verifications_ jumio',\n",
       " 'host_verifications_ facebook',\n",
       " 'host_verifications_ kba',\n",
       " 'host_verifications_ linkedin',\n",
       " 'host_verifications_ google',\n",
       " 'host_verifications_phone',\n",
       " 'host_verifications_ manual_offline',\n",
       " 'amenities_Air Conditioning',\n",
       " 'amenities_Heating',\n",
       " 'amenities_Wireless Internet',\n",
       " 'amenities_Kitchen',\n",
       " 'amenities_Smoke Detector',\n",
       " 'amenities_Washer',\n",
       " 'amenities_Dryer',\n",
       " 'amenities_Internet',\n",
       " 'amenities_Essentials',\n",
       " 'amenities_TV',\n",
       " 'extra_people_fee']"
      ]
     },
     "execution_count": 5,
     "metadata": {},
     "output_type": "execute_result"
    }
   ],
   "source": [
    "df.columns.tolist()"
   ]
  },
  {
   "cell_type": "code",
   "execution_count": 6,
   "metadata": {},
   "outputs": [
    {
     "name": "stdout",
     "output_type": "stream",
     "text": [
      "Minimum price per listing is $10.0.\n",
      "Maximum price per listing is $2822.0.\n",
      "Average price per listing is $149.16599516518937.\n"
     ]
    }
   ],
   "source": [
    "#find minimum, maximum and average price for listing\n",
    "min_price = df['price'].min()\n",
    "max_price = df['price'].max()\n",
    "mean_price = df['price'].mean()\n",
    "\n",
    "print(f'Minimum price per listing is ${min_price}.')\n",
    "print(f'Maximum price per listing is ${max_price}.')\n",
    "print(f'Average price per listing is ${mean_price}.')"
   ]
  },
  {
   "cell_type": "code",
   "execution_count": 7,
   "metadata": {},
   "outputs": [
    {
     "data": {
      "text/plain": [
       "695.0"
      ]
     },
     "execution_count": 7,
     "metadata": {},
     "output_type": "execute_result"
    }
   ],
   "source": [
    "df = df[df['price'] <= 699]\n",
    "df['price'].max()\n"
   ]
  },
  {
   "cell_type": "code",
   "execution_count": 8,
   "metadata": {},
   "outputs": [
    {
     "data": {
      "text/plain": [
       "30"
      ]
     },
     "execution_count": 8,
     "metadata": {},
     "output_type": "execute_result"
    }
   ],
   "source": [
    "df = df[df['minimum_nights'] <= 31]\n",
    "df['minimum_nights'].max()"
   ]
  },
  {
   "cell_type": "code",
   "execution_count": 9,
   "metadata": {},
   "outputs": [
    {
     "data": {
      "text/plain": [
       "(3274, 54)"
      ]
     },
     "execution_count": 9,
     "metadata": {},
     "output_type": "execute_result"
    }
   ],
   "source": [
    "golden_df = df.dropna()\n",
    "golden_df.shape"
   ]
  },
  {
   "cell_type": "code",
   "execution_count": 10,
   "metadata": {},
   "outputs": [],
   "source": [
    "#creating CSV file of the improved golden version \n",
    "\n",
    "golden_df.to_csv('goldenimproved.csv')"
   ]
  },
  {
   "cell_type": "markdown",
   "metadata": {},
   "source": [
    "# ML Modeling"
   ]
  },
  {
   "cell_type": "code",
   "execution_count": 11,
   "metadata": {},
   "outputs": [],
   "source": [
    "linear_regression = 0\n",
    "random_forest = 0"
   ]
  },
  {
   "cell_type": "code",
   "execution_count": 12,
   "metadata": {},
   "outputs": [],
   "source": [
    "def lr_rf(X, y, TEST_SIZE, RAND_STATE):\n",
    "    X_train, X_test, y_train, y_test = train_test_split(X, y, test_size=TEST_SIZE, random_state=RAND_STATE)\n",
    "    model = LinearRegression()\n",
    "    model.fit(X_train, y_train)\n",
    "    predictions = model.predict(X_test)\n",
    "    MSE = mean_squared_error(y_test, predictions)\n",
    "    Error_lr = round(math.sqrt(MSE),2)\n",
    "    r2 = model.score(X_test, y_test)\n",
    "    r2a_lr = 1 - (1-model.score(X_test, y_test))*(len(y_test)-1)/(len(y_test)-X_test.shape[1]-1)\n",
    "    linear_regression = r2a_lr\n",
    "    print('Linear Regression Results:')\n",
    "    print(f''' MSE: {MSE}, \\n R2: {r2}, \\n Radjusted: {r2a_lr} \\n Error: {Error_lr} \\n \\n''')\n",
    "    print('----------------------------------------')\n",
    "    regressor = RandomForestRegressor(n_estimators=2000, random_state=RAND_STATE)  \n",
    "    regressor.fit(X_train, y_train)  \n",
    "    y_pred = regressor.predict(X_test)  \n",
    "    print('Random Forest Results:')\n",
    "    print('Mean Absolute Error:', metrics.mean_absolute_error(y_test, y_pred))  \n",
    "    print('Mean Squared Error:', metrics.mean_squared_error(y_test, y_pred))  \n",
    "    print(f'R: {regressor.score(X_test, y_test)}')\n",
    "    r2a_rf = 1 - (1-regressor.score(X_test, y_test))*(len(y_test)-1)/(len(y_test)-X_test.shape[1]-1)\n",
    "    random_forest = r2a_rf\n",
    "    print(f'RAdjusted: {r2a_rf}')\n",
    "    print('Root Mean Squared Error:', np.sqrt(metrics.mean_squared_error(y_test, y_pred))) "
   ]
  },
  {
   "cell_type": "code",
   "execution_count": 13,
   "metadata": {},
   "outputs": [],
   "source": [
    "#turn categorical columns into dummies\n",
    "cat_columns = list(golden_df.select_dtypes(include=['object']).columns)\n",
    "    \n",
    "for col in  cat_columns:\n",
    "    golden_df = pd.concat([golden_df.drop(col, axis=1), pd.get_dummies(golden_df[col], prefix=col, prefix_sep='_',\n",
    "\n",
    "                                                         drop_first=True, dummy_na=True)], axis=1)\n"
   ]
  },
  {
   "cell_type": "code",
   "execution_count": 14,
   "metadata": {},
   "outputs": [
    {
     "name": "stdout",
     "output_type": "stream",
     "text": [
      "(3274, 80) (3274,)\n"
     ]
    }
   ],
   "source": [
    "X = golden_df.drop(columns = ['price', 'id'])\n",
    "y = golden_df[\"price\"]\n",
    "print(X.shape, y.shape)"
   ]
  },
  {
   "cell_type": "code",
   "execution_count": 15,
   "metadata": {},
   "outputs": [
    {
     "name": "stdout",
     "output_type": "stream",
     "text": [
      "Linear Regression Results:\n",
      " MSE: 2835.1475881994365, \n",
      " R2: 0.6511192328188828, \n",
      " Radjusted: 0.6201763709846374 \n",
      " Error: 53.25 \n",
      " \n",
      "\n",
      "----------------------------------------\n",
      "Random Forest Results:\n",
      "Mean Absolute Error: 32.632378510762685\n",
      "Mean Squared Error: 2634.6259800756975\n",
      "R: 0.6757945381785699\n",
      "RAdjusted: 0.6470401734937424\n",
      "Root Mean Squared Error: 51.32860781353511\n"
     ]
    }
   ],
   "source": [
    "lr_rf(X, y, 0.3, 42)"
   ]
  },
  {
   "cell_type": "markdown",
   "metadata": {},
   "source": [
    "# Going to split on entire_home"
   ]
  },
  {
   "cell_type": "code",
   "execution_count": 16,
   "metadata": {},
   "outputs": [
    {
     "data": {
      "text/plain": [
       "Entire home/apt    2392\n",
       "Private room       1198\n",
       "Shared room         101\n",
       "Name: room_type, dtype: int64"
      ]
     },
     "execution_count": 16,
     "metadata": {},
     "output_type": "execute_result"
    }
   ],
   "source": [
    "#Viewing info on room_type\n",
    "df['room_type'].value_counts()"
   ]
  },
  {
   "cell_type": "code",
   "execution_count": 17,
   "metadata": {},
   "outputs": [],
   "source": [
    "entire_home = df[df['room_type'] == 'Entire home/apt'].copy()"
   ]
  },
  {
   "cell_type": "code",
   "execution_count": 18,
   "metadata": {},
   "outputs": [
    {
     "data": {
      "text/plain": [
       "(2132, 54)"
      ]
     },
     "execution_count": 18,
     "metadata": {},
     "output_type": "execute_result"
    }
   ],
   "source": [
    "entire_home = entire_home.dropna()\n",
    "entire_home.shape"
   ]
  },
  {
   "cell_type": "code",
   "execution_count": 19,
   "metadata": {},
   "outputs": [],
   "source": [
    "entire_home = entire_home.drop(columns = 'room_type') "
   ]
  },
  {
   "cell_type": "code",
   "execution_count": 20,
   "metadata": {},
   "outputs": [],
   "source": [
    "#turn categorical columns into dummies\n",
    "cat_columns = list(entire_home.select_dtypes(include=['object']).columns)\n",
    "    \n",
    "for col in  cat_columns:\n",
    "    entire_home = pd.concat([entire_home.drop(col, axis=1), pd.get_dummies(entire_home[col], prefix=col, prefix_sep='_',\n",
    "\n",
    "                                                         drop_first=True, dummy_na=True)], axis=1)"
   ]
  },
  {
   "cell_type": "code",
   "execution_count": 21,
   "metadata": {},
   "outputs": [
    {
     "name": "stdout",
     "output_type": "stream",
     "text": [
      "(2132, 74) (2132,)\n"
     ]
    }
   ],
   "source": [
    "X_entire = entire_home.drop(columns = ['price', 'id'])\n",
    "y_entire = entire_home[\"price\"]\n",
    "print(X_entire.shape, y_entire.shape)"
   ]
  },
  {
   "cell_type": "code",
   "execution_count": 22,
   "metadata": {},
   "outputs": [
    {
     "name": "stdout",
     "output_type": "stream",
     "text": [
      "Linear Regression Results:\n",
      " MSE: 1252697941.687473, \n",
      " R2: -128330.51337867649, \n",
      " Radjusted: -145138.53459995447 \n",
      " Error: 35393.47 \n",
      " \n",
      "\n",
      "----------------------------------------\n",
      "Random Forest Results:\n",
      "Mean Absolute Error: 40.52947378143266\n",
      "Mean Squared Error: 3768.4734140810965\n",
      "R: 0.6139421322071683\n",
      "RAdjusted: 0.5633788008502311\n",
      "Root Mean Squared Error: 61.38789305784241\n"
     ]
    }
   ],
   "source": [
    "lr_rf(X_entire, y_entire, 0.3, 42)"
   ]
  },
  {
   "cell_type": "markdown",
   "metadata": {},
   "source": [
    "# Strangely Entire Home fails now!"
   ]
  },
  {
   "cell_type": "markdown",
   "metadata": {},
   "source": [
    "# Deep Learning / Neural Network"
   ]
  },
  {
   "cell_type": "code",
   "execution_count": 65,
   "metadata": {},
   "outputs": [
    {
     "name": "stdout",
     "output_type": "stream",
     "text": [
      "(3274, 80) (3274,)\n"
     ]
    }
   ],
   "source": [
    "# #read the dataset\n",
    "# deep_data = pd.read_csv('./goldenimproved.csv')\n",
    "\n",
    "# Create Data\n",
    "X_dl = golden_df.drop(columns = ['price', 'id'])\n",
    "y_dl = golden_df[\"price\"]\n",
    "print(X_dl.shape, y_dl.shape)"
   ]
  },
  {
   "cell_type": "code",
   "execution_count": 66,
   "metadata": {},
   "outputs": [],
   "source": [
    "X_train, X_test, y_train, y_test = train_test_split(X_dl, y_dl, random_state=1)"
   ]
  },
  {
   "cell_type": "code",
   "execution_count": 67,
   "metadata": {},
   "outputs": [],
   "source": [
    "from sklearn.preprocessing import StandardScaler\n",
    "\n",
    "# Create a StandardScater model and fit it to the training data\n",
    "X_scaler = StandardScaler().fit(X_train)"
   ]
  },
  {
   "cell_type": "code",
   "execution_count": 68,
   "metadata": {},
   "outputs": [],
   "source": [
    "# Transform the training and testing data using the X_scaler\n",
    "\n",
    "X_train_scaled = X_scaler.transform(X_train)\n",
    "X_test_scaled = X_scaler.transform(X_test)"
   ]
  },
  {
   "cell_type": "code",
   "execution_count": 70,
   "metadata": {},
   "outputs": [],
   "source": [
    "# Create a Neural Network model here\n",
    "dl_model = Sequential()\n",
    "dl_model.add(Dense(units=100, activation='relu', input_dim=80))  #fits the shape\n",
    "dl_model.add(Dense(units=1, activation='linear')) #gives the 0 or 1\n",
    "#if the computer crashes due to memory go to 50 then 25 then 12 units then layer loss"
   ]
  },
  {
   "cell_type": "code",
   "execution_count": 71,
   "metadata": {},
   "outputs": [
    {
     "name": "stdout",
     "output_type": "stream",
     "text": [
      "_________________________________________________________________\n",
      "Layer (type)                 Output Shape              Param #   \n",
      "=================================================================\n",
      "dense_8 (Dense)              (None, 100)               8100      \n",
      "_________________________________________________________________\n",
      "dense_9 (Dense)              (None, 1)                 101       \n",
      "=================================================================\n",
      "Total params: 8,201\n",
      "Trainable params: 8,201\n",
      "Non-trainable params: 0\n",
      "_________________________________________________________________\n"
     ]
    }
   ],
   "source": [
    "dl_model.summary()"
   ]
  },
  {
   "cell_type": "code",
   "execution_count": 72,
   "metadata": {},
   "outputs": [],
   "source": [
    "# Compile the model\n",
    "dl_model.compile(optimizer='adam',\n",
    "              loss='mae',\n",
    "              metrics=['accuracy'])"
   ]
  },
  {
   "cell_type": "code",
   "execution_count": 73,
   "metadata": {},
   "outputs": [
    {
     "name": "stdout",
     "output_type": "stream",
     "text": [
      "Epoch 1/100\n",
      " - 0s - loss: 136.6461 - acc: 0.0000e+00\n",
      "Epoch 2/100\n",
      " - 0s - loss: 129.8748 - acc: 0.0000e+00\n",
      "Epoch 3/100\n",
      " - 0s - loss: 118.7064 - acc: 4.0733e-04\n",
      "Epoch 4/100\n",
      " - 0s - loss: 101.5505 - acc: 0.0012\n",
      "Epoch 5/100\n",
      " - 0s - loss: 80.1439 - acc: 0.0049\n",
      "Epoch 6/100\n",
      " - 0s - loss: 61.3866 - acc: 0.0069\n",
      "Epoch 7/100\n",
      " - 0s - loss: 48.5705 - acc: 0.0098\n",
      "Epoch 8/100\n",
      " - 0s - loss: 42.2790 - acc: 0.0134\n",
      "Epoch 9/100\n",
      " - 0s - loss: 39.5960 - acc: 0.0167\n",
      "Epoch 10/100\n",
      " - 0s - loss: 38.0167 - acc: 0.0171\n",
      "Epoch 11/100\n",
      " - 0s - loss: 36.9051 - acc: 0.0187\n",
      "Epoch 12/100\n",
      " - 0s - loss: 35.9529 - acc: 0.0122\n",
      "Epoch 13/100\n",
      " - 0s - loss: 35.2085 - acc: 0.0208\n",
      "Epoch 14/100\n",
      " - 0s - loss: 34.6064 - acc: 0.0163\n",
      "Epoch 15/100\n",
      " - 0s - loss: 34.1077 - acc: 0.0179\n",
      "Epoch 16/100\n",
      " - 0s - loss: 33.6187 - acc: 0.0257\n",
      "Epoch 17/100\n",
      " - 0s - loss: 33.2425 - acc: 0.0216\n",
      "Epoch 18/100\n",
      " - 0s - loss: 32.8476 - acc: 0.0204\n",
      "Epoch 19/100\n",
      " - 0s - loss: 32.5109 - acc: 0.0236\n",
      "Epoch 20/100\n",
      " - 0s - loss: 32.1871 - acc: 0.0183\n",
      "Epoch 21/100\n",
      " - 0s - loss: 31.8819 - acc: 0.0285\n",
      "Epoch 22/100\n",
      " - 0s - loss: 31.6169 - acc: 0.0240\n",
      "Epoch 23/100\n",
      " - 0s - loss: 31.3637 - acc: 0.0253\n",
      "Epoch 24/100\n",
      " - 0s - loss: 31.1431 - acc: 0.0261\n",
      "Epoch 25/100\n",
      " - 0s - loss: 30.9579 - acc: 0.0253\n",
      "Epoch 26/100\n",
      " - 0s - loss: 30.7691 - acc: 0.0297\n",
      "Epoch 27/100\n",
      " - 0s - loss: 30.6206 - acc: 0.0277\n",
      "Epoch 28/100\n",
      " - 0s - loss: 30.4820 - acc: 0.0208\n",
      "Epoch 29/100\n",
      " - 0s - loss: 30.2858 - acc: 0.0318\n",
      "Epoch 30/100\n",
      " - 0s - loss: 30.1344 - acc: 0.0326\n",
      "Epoch 31/100\n",
      " - 0s - loss: 30.0084 - acc: 0.0273\n",
      "Epoch 32/100\n",
      " - 0s - loss: 29.8967 - acc: 0.0314\n",
      "Epoch 33/100\n",
      " - 0s - loss: 29.7625 - acc: 0.0310\n",
      "Epoch 34/100\n",
      " - 0s - loss: 29.6382 - acc: 0.0297\n",
      "Epoch 35/100\n",
      " - 0s - loss: 29.5211 - acc: 0.0314\n",
      "Epoch 36/100\n",
      " - 0s - loss: 29.4598 - acc: 0.0346\n",
      "Epoch 37/100\n",
      " - 0s - loss: 29.2811 - acc: 0.0314\n",
      "Epoch 38/100\n",
      " - 0s - loss: 29.2039 - acc: 0.0391\n",
      "Epoch 39/100\n",
      " - 0s - loss: 29.1029 - acc: 0.0330\n",
      "Epoch 40/100\n",
      " - 0s - loss: 29.0029 - acc: 0.0350\n",
      "Epoch 41/100\n",
      " - 0s - loss: 28.8662 - acc: 0.0456\n",
      "Epoch 42/100\n",
      " - 0s - loss: 28.7668 - acc: 0.0415\n",
      "Epoch 43/100\n",
      " - 0s - loss: 28.6939 - acc: 0.0330\n",
      "Epoch 44/100\n",
      " - 0s - loss: 28.5955 - acc: 0.0342\n",
      "Epoch 45/100\n",
      " - 0s - loss: 28.4990 - acc: 0.0407\n",
      "Epoch 46/100\n",
      " - 0s - loss: 28.3740 - acc: 0.0432\n",
      "Epoch 47/100\n",
      " - 0s - loss: 28.2676 - acc: 0.0525\n",
      "Epoch 48/100\n",
      " - 0s - loss: 28.1942 - acc: 0.0411\n",
      "Epoch 49/100\n",
      " - 0s - loss: 28.1177 - acc: 0.0391\n",
      "Epoch 50/100\n",
      " - 0s - loss: 28.0437 - acc: 0.0407\n",
      "Epoch 51/100\n",
      " - 0s - loss: 27.9016 - acc: 0.0473\n",
      "Epoch 52/100\n",
      " - 0s - loss: 27.8280 - acc: 0.0440\n",
      "Epoch 53/100\n",
      " - 0s - loss: 27.7744 - acc: 0.0387\n",
      "Epoch 54/100\n",
      " - 0s - loss: 27.6525 - acc: 0.0485\n",
      "Epoch 55/100\n",
      " - 0s - loss: 27.6199 - acc: 0.0432\n",
      "Epoch 56/100\n",
      " - 0s - loss: 27.4870 - acc: 0.0473\n",
      "Epoch 57/100\n",
      " - 0s - loss: 27.4525 - acc: 0.0448\n",
      "Epoch 58/100\n",
      " - 0s - loss: 27.3829 - acc: 0.0477\n",
      "Epoch 59/100\n",
      " - 0s - loss: 27.2870 - acc: 0.0432\n",
      "Epoch 60/100\n",
      " - 0s - loss: 27.1833 - acc: 0.0534\n",
      "Epoch 61/100\n",
      " - 0s - loss: 27.1376 - acc: 0.0513\n",
      "Epoch 62/100\n",
      " - 0s - loss: 27.1014 - acc: 0.0493\n",
      "Epoch 63/100\n",
      " - 0s - loss: 26.9907 - acc: 0.0521\n",
      "Epoch 64/100\n",
      " - 0s - loss: 26.9360 - acc: 0.0485\n",
      "Epoch 65/100\n",
      " - 0s - loss: 26.8231 - acc: 0.0582\n",
      "Epoch 66/100\n",
      " - 0s - loss: 26.7619 - acc: 0.0517\n",
      "Epoch 67/100\n",
      " - 0s - loss: 26.7285 - acc: 0.0493\n",
      "Epoch 68/100\n",
      " - 0s - loss: 26.6031 - acc: 0.0497\n",
      "Epoch 69/100\n",
      " - 0s - loss: 26.5519 - acc: 0.0554\n",
      "Epoch 70/100\n",
      " - 0s - loss: 26.4911 - acc: 0.0554\n",
      "Epoch 71/100\n",
      " - 0s - loss: 26.3942 - acc: 0.0481\n",
      "Epoch 72/100\n",
      " - 0s - loss: 26.3483 - acc: 0.0501\n",
      "Epoch 73/100\n",
      " - 0s - loss: 26.2656 - acc: 0.0505\n",
      "Epoch 74/100\n",
      " - 0s - loss: 26.1840 - acc: 0.0525\n",
      "Epoch 75/100\n",
      " - 0s - loss: 26.1249 - acc: 0.0587\n",
      "Epoch 76/100\n",
      " - 0s - loss: 26.0740 - acc: 0.0489\n",
      "Epoch 77/100\n",
      " - 0s - loss: 26.0193 - acc: 0.0574\n",
      "Epoch 78/100\n",
      " - 0s - loss: 25.9664 - acc: 0.0505\n",
      "Epoch 79/100\n",
      " - 0s - loss: 25.8804 - acc: 0.0578\n",
      "Epoch 80/100\n",
      " - 0s - loss: 25.8244 - acc: 0.0554\n",
      "Epoch 81/100\n",
      " - 0s - loss: 25.7886 - acc: 0.0538\n",
      "Epoch 82/100\n",
      " - 0s - loss: 25.7349 - acc: 0.0611\n",
      "Epoch 83/100\n",
      " - 0s - loss: 25.6796 - acc: 0.0615\n",
      "Epoch 84/100\n",
      " - 0s - loss: 25.6450 - acc: 0.0538\n",
      "Epoch 85/100\n",
      " - 0s - loss: 25.5751 - acc: 0.0611\n",
      "Epoch 86/100\n",
      " - 0s - loss: 25.5159 - acc: 0.0611\n",
      "Epoch 87/100\n",
      " - 0s - loss: 25.4284 - acc: 0.0635\n",
      "Epoch 88/100\n",
      " - 0s - loss: 25.3821 - acc: 0.0664\n",
      "Epoch 89/100\n",
      " - 0s - loss: 25.3082 - acc: 0.0672\n",
      "Epoch 90/100\n",
      " - 0s - loss: 25.2650 - acc: 0.0664\n",
      "Epoch 91/100\n",
      " - 0s - loss: 25.2166 - acc: 0.0574\n",
      "Epoch 92/100\n",
      " - 0s - loss: 25.1669 - acc: 0.0640\n",
      "Epoch 93/100\n",
      " - 0s - loss: 25.1006 - acc: 0.0615\n",
      "Epoch 94/100\n",
      " - 0s - loss: 25.0663 - acc: 0.0631\n",
      "Epoch 95/100\n",
      " - 0s - loss: 24.9899 - acc: 0.0635\n",
      "Epoch 96/100\n",
      " - 0s - loss: 24.9541 - acc: 0.0664\n",
      "Epoch 97/100\n",
      " - 0s - loss: 24.9327 - acc: 0.0635\n",
      "Epoch 98/100\n",
      " - 0s - loss: 24.8995 - acc: 0.0709\n",
      "Epoch 99/100\n",
      " - 0s - loss: 24.8220 - acc: 0.0635\n",
      "Epoch 100/100\n",
      " - 0s - loss: 24.8010 - acc: 0.0587\n"
     ]
    },
    {
     "data": {
      "text/plain": [
       "<keras.callbacks.History at 0x15670390>"
      ]
     },
     "execution_count": 73,
     "metadata": {},
     "output_type": "execute_result"
    }
   ],
   "source": [
    "# Fit the model to the training data\n",
    "dl_model.fit(\n",
    "    X_train_scaled,\n",
    "    y_train,\n",
    "    epochs=100,\n",
    "    shuffle=True,\n",
    "    verbose=2\n",
    ")"
   ]
  },
  {
   "cell_type": "code",
   "execution_count": 74,
   "metadata": {},
   "outputs": [],
   "source": [
    "deep_model = Sequential()\n",
    "deep_model.add(Dense(units=100, activation='relu', input_dim=80))\n",
    "deep_model.add(Dense(units=100, activation='relu'))\n",
    "deep_model.add(Dense(units=1, activation='linear'))"
   ]
  },
  {
   "cell_type": "code",
   "execution_count": 75,
   "metadata": {},
   "outputs": [
    {
     "name": "stdout",
     "output_type": "stream",
     "text": [
      "_________________________________________________________________\n",
      "Layer (type)                 Output Shape              Param #   \n",
      "=================================================================\n",
      "dense_10 (Dense)             (None, 100)               8100      \n",
      "_________________________________________________________________\n",
      "dense_11 (Dense)             (None, 100)               10100     \n",
      "_________________________________________________________________\n",
      "dense_12 (Dense)             (None, 1)                 101       \n",
      "=================================================================\n",
      "Total params: 18,301\n",
      "Trainable params: 18,301\n",
      "Non-trainable params: 0\n",
      "_________________________________________________________________\n"
     ]
    }
   ],
   "source": [
    "deep_model.summary()"
   ]
  },
  {
   "cell_type": "code",
   "execution_count": 76,
   "metadata": {},
   "outputs": [
    {
     "name": "stdout",
     "output_type": "stream",
     "text": [
      "Epoch 1/100\n",
      " - 0s - loss: 124.2510 - acc: 0.0000e+00\n",
      "Epoch 2/100\n",
      " - 0s - loss: 57.3340 - acc: 0.0057\n",
      "Epoch 3/100\n",
      " - 0s - loss: 37.3910 - acc: 0.0081\n",
      "Epoch 4/100\n",
      " - 0s - loss: 34.8801 - acc: 0.0138\n",
      "Epoch 5/100\n",
      " - 0s - loss: 33.2641 - acc: 0.0191\n",
      "Epoch 6/100\n",
      " - 0s - loss: 32.4984 - acc: 0.0191\n",
      "Epoch 7/100\n",
      " - 0s - loss: 31.7178 - acc: 0.0200\n",
      "Epoch 8/100\n",
      " - 0s - loss: 31.3220 - acc: 0.0155\n",
      "Epoch 9/100\n",
      " - 0s - loss: 30.9199 - acc: 0.0183\n",
      "Epoch 10/100\n",
      " - 0s - loss: 30.4764 - acc: 0.0220\n",
      "Epoch 11/100\n",
      " - 0s - loss: 30.1111 - acc: 0.0257\n",
      "Epoch 12/100\n",
      " - 0s - loss: 29.9040 - acc: 0.0196\n",
      "Epoch 13/100\n",
      " - 0s - loss: 29.5615 - acc: 0.0179\n",
      "Epoch 14/100\n",
      " - 0s - loss: 29.2464 - acc: 0.0305\n",
      "Epoch 15/100\n",
      " - 0s - loss: 28.9870 - acc: 0.0204\n",
      "Epoch 16/100\n",
      " - 0s - loss: 28.6681 - acc: 0.0318\n",
      "Epoch 17/100\n",
      " - 0s - loss: 28.5273 - acc: 0.0318\n",
      "Epoch 18/100\n",
      " - 0s - loss: 28.2964 - acc: 0.0224\n",
      "Epoch 19/100\n",
      " - 0s - loss: 28.1543 - acc: 0.0289\n",
      "Epoch 20/100\n",
      " - 0s - loss: 27.8333 - acc: 0.0273\n",
      "Epoch 21/100\n",
      " - 0s - loss: 27.5218 - acc: 0.0261\n",
      "Epoch 22/100\n",
      " - 0s - loss: 27.3370 - acc: 0.0269\n",
      "Epoch 23/100\n",
      " - 0s - loss: 27.0905 - acc: 0.0314\n",
      "Epoch 24/100\n",
      " - 0s - loss: 26.8320 - acc: 0.0265\n",
      "Epoch 25/100\n",
      " - 0s - loss: 26.5608 - acc: 0.0338\n",
      "Epoch 26/100\n",
      " - 0s - loss: 26.3731 - acc: 0.0334\n",
      "Epoch 27/100\n",
      " - 0s - loss: 25.9941 - acc: 0.0358\n",
      "Epoch 28/100\n",
      " - 0s - loss: 25.7553 - acc: 0.0387\n",
      "Epoch 29/100\n",
      " - 0s - loss: 25.4838 - acc: 0.0358\n",
      "Epoch 30/100\n",
      " - 0s - loss: 25.3591 - acc: 0.0330\n",
      "Epoch 31/100\n",
      " - 0s - loss: 25.0928 - acc: 0.0415\n",
      "Epoch 32/100\n",
      " - 0s - loss: 24.8327 - acc: 0.0330\n",
      "Epoch 33/100\n",
      " - 0s - loss: 24.5257 - acc: 0.0354\n",
      "Epoch 34/100\n",
      " - 0s - loss: 24.1736 - acc: 0.0338\n",
      "Epoch 35/100\n",
      " - 0s - loss: 23.9313 - acc: 0.0326\n",
      "Epoch 36/100\n",
      " - 0s - loss: 23.7680 - acc: 0.0399\n",
      "Epoch 37/100\n",
      " - 0s - loss: 23.4419 - acc: 0.0334\n",
      "Epoch 38/100\n",
      " - 0s - loss: 23.1075 - acc: 0.0424\n",
      "Epoch 39/100\n",
      " - 0s - loss: 22.8998 - acc: 0.0407\n",
      "Epoch 40/100\n",
      " - 0s - loss: 22.6669 - acc: 0.0407\n",
      "Epoch 41/100\n",
      " - 0s - loss: 22.3268 - acc: 0.0501\n",
      "Epoch 42/100\n",
      " - 0s - loss: 22.1365 - acc: 0.0424\n",
      "Epoch 43/100\n",
      " - 0s - loss: 21.8334 - acc: 0.0444\n",
      "Epoch 44/100\n",
      " - 0s - loss: 21.7017 - acc: 0.0444\n",
      "Epoch 45/100\n",
      " - 0s - loss: 21.4968 - acc: 0.0436\n",
      "Epoch 46/100\n",
      " - 0s - loss: 21.3226 - acc: 0.0542\n",
      "Epoch 47/100\n",
      " - 0s - loss: 21.0206 - acc: 0.0432\n",
      "Epoch 48/100\n",
      " - 0s - loss: 20.8688 - acc: 0.0542\n",
      "Epoch 49/100\n",
      " - 0s - loss: 20.5989 - acc: 0.0473\n",
      "Epoch 50/100\n",
      " - 0s - loss: 20.2718 - acc: 0.0521\n",
      "Epoch 51/100\n",
      " - 0s - loss: 20.2660 - acc: 0.0477\n",
      "Epoch 52/100\n",
      " - 0s - loss: 19.8584 - acc: 0.0513\n",
      "Epoch 53/100\n",
      " - 0s - loss: 19.6167 - acc: 0.0517\n",
      "Epoch 54/100\n",
      " - 0s - loss: 19.5175 - acc: 0.0627\n",
      "Epoch 55/100\n",
      " - 0s - loss: 19.2896 - acc: 0.0534\n",
      "Epoch 56/100\n",
      " - 0s - loss: 19.0623 - acc: 0.0587\n",
      "Epoch 57/100\n",
      " - 0s - loss: 19.1565 - acc: 0.0473\n",
      "Epoch 58/100\n",
      " - 0s - loss: 18.8009 - acc: 0.0546\n",
      "Epoch 59/100\n",
      " - 0s - loss: 18.6456 - acc: 0.0501\n",
      "Epoch 60/100\n",
      " - 0s - loss: 18.2734 - acc: 0.0676\n",
      "Epoch 61/100\n",
      " - 0s - loss: 18.2126 - acc: 0.0558\n",
      "Epoch 62/100\n",
      " - 0s - loss: 18.1186 - acc: 0.0550\n",
      "Epoch 63/100\n",
      " - 0s - loss: 17.8927 - acc: 0.0550\n",
      "Epoch 64/100\n",
      " - 0s - loss: 17.5308 - acc: 0.0668\n",
      "Epoch 65/100\n",
      " - 0s - loss: 17.4435 - acc: 0.0619\n",
      "Epoch 66/100\n",
      " - 0s - loss: 17.1866 - acc: 0.0660\n",
      "Epoch 67/100\n",
      " - 0s - loss: 17.0686 - acc: 0.0701\n",
      "Epoch 68/100\n",
      " - 0s - loss: 16.8863 - acc: 0.0733\n",
      "Epoch 69/100\n",
      " - 0s - loss: 16.6768 - acc: 0.0644\n",
      "Epoch 70/100\n",
      " - 0s - loss: 16.4964 - acc: 0.0680\n",
      "Epoch 71/100\n",
      " - 0s - loss: 16.4797 - acc: 0.0611\n",
      "Epoch 72/100\n",
      " - 0s - loss: 16.3299 - acc: 0.0623\n",
      "Epoch 73/100\n",
      " - 0s - loss: 16.0980 - acc: 0.0615\n",
      "Epoch 74/100\n",
      " - 0s - loss: 16.0654 - acc: 0.0635\n",
      "Epoch 75/100\n",
      " - 0s - loss: 15.7247 - acc: 0.0770\n",
      "Epoch 76/100\n",
      " - 0s - loss: 15.6782 - acc: 0.0713\n",
      "Epoch 77/100\n",
      " - 0s - loss: 15.3614 - acc: 0.0786\n",
      "Epoch 78/100\n",
      " - 0s - loss: 15.5934 - acc: 0.0619\n",
      "Epoch 79/100\n",
      " - 0s - loss: 15.3220 - acc: 0.0656\n",
      "Epoch 80/100\n",
      " - 0s - loss: 15.0372 - acc: 0.0762\n",
      "Epoch 81/100\n",
      " - 0s - loss: 14.9071 - acc: 0.0713\n",
      "Epoch 82/100\n",
      " - 0s - loss: 14.7790 - acc: 0.0721\n",
      "Epoch 83/100\n",
      " - 0s - loss: 14.7124 - acc: 0.0725\n",
      "Epoch 84/100\n",
      " - 0s - loss: 14.4981 - acc: 0.0709\n",
      "Epoch 85/100\n",
      " - 0s - loss: 14.4523 - acc: 0.0798\n",
      "Epoch 86/100\n",
      " - 0s - loss: 14.2642 - acc: 0.0758\n",
      "Epoch 87/100\n",
      " - 0s - loss: 14.3502 - acc: 0.0688\n",
      "Epoch 88/100\n",
      " - 0s - loss: 14.0506 - acc: 0.0721\n",
      "Epoch 89/100\n",
      " - 0s - loss: 13.8682 - acc: 0.0815\n",
      "Epoch 90/100\n",
      " - 0s - loss: 13.8858 - acc: 0.0770\n",
      "Epoch 91/100\n",
      " - 0s - loss: 13.6353 - acc: 0.0802\n",
      "Epoch 92/100\n",
      " - 0s - loss: 13.6280 - acc: 0.0798\n",
      "Epoch 93/100\n",
      " - 0s - loss: 13.5795 - acc: 0.0721\n",
      "Epoch 94/100\n",
      " - 0s - loss: 13.4021 - acc: 0.0786\n",
      "Epoch 95/100\n",
      " - 0s - loss: 13.4009 - acc: 0.0815\n",
      "Epoch 96/100\n",
      " - 0s - loss: 13.0721 - acc: 0.0811\n",
      "Epoch 97/100\n",
      " - 0s - loss: 13.0918 - acc: 0.0859\n",
      "Epoch 98/100\n",
      " - 0s - loss: 12.9806 - acc: 0.0892\n",
      "Epoch 99/100\n",
      " - 0s - loss: 12.9230 - acc: 0.0762\n",
      "Epoch 100/100\n",
      " - 0s - loss: 12.6726 - acc: 0.0868\n"
     ]
    },
    {
     "data": {
      "text/plain": [
       "<keras.callbacks.History at 0x1562e320>"
      ]
     },
     "execution_count": 76,
     "metadata": {},
     "output_type": "execute_result"
    }
   ],
   "source": [
    "deep_model.compile(optimizer='adam',\n",
    "                   loss='mae',\n",
    "                   metrics=['accuracy'])\n",
    "\n",
    "deep_model.fit(\n",
    "    X_train_scaled,\n",
    "    y_train,\n",
    "    epochs=100,\n",
    "    shuffle=True,\n",
    "    verbose=2\n",
    ")"
   ]
  },
  {
   "cell_type": "code",
   "execution_count": 77,
   "metadata": {},
   "outputs": [
    {
     "name": "stdout",
     "output_type": "stream",
     "text": [
      "Normal Neural Network - Loss: 32.59616068373087, Accuracy: 0.01098901098901099\n"
     ]
    }
   ],
   "source": [
    "model_loss, model_accuracy = dl_model.evaluate(\n",
    "    X_test_scaled, y_test, verbose=2)\n",
    "print(\n",
    "    f\"Normal Neural Network - Loss: {model_loss}, Accuracy: {model_accuracy}\")"
   ]
  },
  {
   "cell_type": "code",
   "execution_count": 78,
   "metadata": {},
   "outputs": [
    {
     "name": "stdout",
     "output_type": "stream",
     "text": [
      "Deep Neural Network - Loss: 34.2709832802797, Accuracy: 0.02442002442002442\n"
     ]
    }
   ],
   "source": [
    "model_loss, model_accuracy = deep_model.evaluate(\n",
    "    X_test_scaled, y_test, verbose=2)\n",
    "print(f\"Deep Neural Network - Loss: {model_loss}, Accuracy: {model_accuracy}\")"
   ]
  },
  {
   "cell_type": "code",
   "execution_count": 79,
   "metadata": {},
   "outputs": [],
   "source": [
    "# Save the model\n",
    "dl_model.save(\"dl_airbnb_trained.h5\")\n",
    "deep_model.save(\"deep_airbnb_trained.h5\")"
   ]
  },
  {
   "cell_type": "code",
   "execution_count": 80,
   "metadata": {},
   "outputs": [],
   "source": [
    "# Load the model\n",
    "from keras.models import load_model\n",
    "dl_airbnb_model = load_model(\"dl_airbnb_trained.h5\")\n",
    "deep_airbnb_model = load_model(\"deep_airbnb_trained.h5\")"
   ]
  },
  {
   "cell_type": "code",
   "execution_count": null,
   "metadata": {},
   "outputs": [],
   "source": [
    "model_loss, model_accuracy = dl_airbnb_model.evaluate(\n",
    "    X_test_scaled, y_test, verbose=2)\n",
    "print(\n",
    "    f\"Normal Neural Network - Loss: {model_loss}, Accuracy: {model_accuracy}\")"
   ]
  },
  {
   "cell_type": "code",
   "execution_count": null,
   "metadata": {},
   "outputs": [],
   "source": [
    "model_loss, model_accuracy = deep_airbnb_model.evaluate(\n",
    "    X_test_scaled, y_test, verbose=2)\n",
    "print(\n",
    "    f\"Normal Neural Network - Loss: {model_loss}, Accuracy: {model_accuracy}\")"
   ]
  },
  {
   "cell_type": "markdown",
   "metadata": {},
   "source": [
    "# XGBOOST"
   ]
  },
  {
   "cell_type": "code",
   "execution_count": 53,
   "metadata": {},
   "outputs": [
    {
     "name": "stderr",
     "output_type": "stream",
     "text": [
      "C:\\ProgramData\\Anaconda3\\lib\\site-packages\\xgboost\\core.py:587: FutureWarning: Series.base is deprecated and will be removed in a future version\n",
      "  if getattr(data, 'base', None) is not None and \\\n"
     ]
    },
    {
     "name": "stdout",
     "output_type": "stream",
     "text": [
      "MSE train: 447.657, test: 1741.269\n",
      "R^2 train: 0.946, test: 0.755\n",
      "----------------------------------\n",
      "41.73\n"
     ]
    }
   ],
   "source": [
    "#train XGBoost model\n",
    "xgb = xgboost.XGBRegressor(n_estimators=100, learning_rate=0.08, gamma=0, subsample=0.75,\n",
    "                           colsample_bytree=1, max_depth=7)\n",
    "xgb.fit(X_train,y_train)\n",
    "\n",
    "#calculate and print scores for the model for top 15 features\n",
    "y_train_preds = xgb.predict(X_train)\n",
    "y_test_preds = xgb.predict(X_test)\n",
    "\n",
    "print('MSE train: %.3f, test: %.3f' % (\n",
    "        mean_squared_error(y_train, y_train_preds),\n",
    "        mean_squared_error(y_test, y_test_preds)))\n",
    "print('R^2 train: %.3f, test: %.3f' % (\n",
    "        r2_score(y_train, y_train_preds),\n",
    "        r2_score(y_test, y_test_preds)))\n",
    "print('----------------------------------')\n",
    "MSE = mean_squared_error(y_test, y_test_preds)\n",
    "Error = round(math.sqrt(MSE),2)\n",
    "print(Error)\n",
    "xgboost = r2_score(y_test, y_test_preds)"
   ]
  },
  {
   "cell_type": "code",
   "execution_count": 54,
   "metadata": {},
   "outputs": [
    {
     "data": {
      "image/png": "[encoded data removed]",
      "text/plain": [
       "<Figure size 720x360 with 1 Axes>"
      ]
     },
     "metadata": {
      "needs_background": "light"
     },
     "output_type": "display_data"
    }
   ],
   "source": [
    "#get feature importances from the model\n",
    "headers = [\"name\", \"score\"]\n",
    "values = sorted(zip(X_train.columns, xgb.feature_importances_), key=lambda x: x[1] * -1)\n",
    "xgb_feature_importances = pd.DataFrame(values, columns = headers)\n",
    "\n",
    "#plot feature importances for top 15 features\n",
    "features = xgb_feature_importances['name'][:15]\n",
    "y_pos = np.arange(len(features))\n",
    "scores = xgb_feature_importances['score'][:15]\n",
    " \n",
    "plt.figure(figsize=(10,5))\n",
    "plt.bar(y_pos, scores, align='center', alpha=0.5)\n",
    "plt.xticks(y_pos, features, rotation='vertical')\n",
    "plt.ylabel('Score')\n",
    "plt.xlabel('Features')\n",
    "plt.title('Feature importances (XGBoost)')\n",
    "\n",
    "plt.savefig('Figures/feature importances XGB.png')\n",
    " \n",
    "plt.show()"
   ]
  },
  {
   "cell_type": "markdown",
   "metadata": {},
   "source": [
    "# KNN"
   ]
  },
  {
   "cell_type": "code",
   "execution_count": 41,
   "metadata": {},
   "outputs": [
    {
     "name": "stdout",
     "output_type": "stream",
     "text": [
      "k: 1, Train/Test Score: 0.997/0.049\n",
      "k: 3, Train/Test Score: 0.363/0.040\n",
      "k: 5, Train/Test Score: 0.246/0.045\n",
      "k: 7, Train/Test Score: 0.207/0.043\n",
      "k: 9, Train/Test Score: 0.191/0.042\n",
      "k: 11, Train/Test Score: 0.175/0.046\n",
      "k: 13, Train/Test Score: 0.160/0.045\n",
      "k: 15, Train/Test Score: 0.148/0.043\n",
      "k: 17, Train/Test Score: 0.141/0.043\n",
      "k: 19, Train/Test Score: 0.132/0.049\n"
     ]
    },
    {
     "data": {
      "image/png": "[encoded data removed]",
      "text/plain": [
       "<Figure size 432x288 with 1 Axes>"
      ]
     },
     "metadata": {
      "needs_background": "light"
     },
     "output_type": "display_data"
    }
   ],
   "source": [
    "# Loop through different k values to see which has the highest accuracy\n",
    "# Note: We only use odd numbers because we don't want any ties\n",
    "train_scores = []\n",
    "test_scores = []\n",
    "for k in range(1, 20, 2):\n",
    "    knn = KNeighborsClassifier(n_neighbors=k)\n",
    "    knn.fit(X_train, y_train)\n",
    "    train_score = knn.score(X_train, y_train)\n",
    "    test_score = knn.score(X_test, y_test)\n",
    "    train_scores.append(train_score)\n",
    "    test_scores.append(test_score)\n",
    "    print(f\"k: {k}, Train/Test Score: {train_score:.3f}/{test_score:.3f}\")\n",
    "    \n",
    "    \n",
    "plt.plot(range(1, 20, 2), train_scores, marker='o')\n",
    "plt.plot(range(1, 20, 2), test_scores, marker=\"x\")\n",
    "plt.xlabel(\"k neighbors\")\n",
    "plt.ylabel(\"Testing accuracy Score\")\n",
    "plt.savefig(\"Figures/KNN.png\")\n",
    "plt.show()\n"
   ]
  },
  {
   "cell_type": "code",
   "execution_count": 40,
   "metadata": {},
   "outputs": [
    {
     "name": "stdout",
     "output_type": "stream",
     "text": [
      "k=8 Test Acc: 0.039\n"
     ]
    }
   ],
   "source": [
    "# Note that k: 8 provides the best accuracy where the classifier starts to stablize\n",
    "knn = KNeighborsClassifier(n_neighbors=8)\n",
    "knn.fit(X_train, y_train)\n",
    "print('k=8 Test Acc: %.3f' % knn.score(X_test, y_test))"
   ]
  },
  {
   "cell_type": "markdown",
   "metadata": {},
   "source": [
    "# Lasso Model"
   ]
  },
  {
   "cell_type": "code",
   "execution_count": 83,
   "metadata": {},
   "outputs": [
    {
     "name": "stdout",
     "output_type": "stream",
     "text": [
      "MSE: 2460.3831348754734, R2: 0.654, Radjusted: 0.616, Error: 49.6\n"
     ]
    }
   ],
   "source": [
    "# Note: Use an alpha of .01 when creating the model for this activity\n",
    "\n",
    "clf = Lasso(alpha=0.01)\n",
    "clf.fit(X_train, y_train)\n",
    "predictions = clf.predict(X_test)\n",
    "MSE = mean_squared_error(y_test, predictions)\n",
    "r2 = clf.score(X_test, y_test)\n",
    "r2a_lasso1 = 1 - (1-clf.score(X_test, y_test))*(len(y_test)-1)/(len(y_test)-X_test.shape[1]-1)\n",
    "Error_lasso1 = round(math.sqrt(MSE),2)\n",
    "print(f\"MSE: {MSE}, R2: {round(r2,3)}, Radjusted: {round(r2a_lasso1,3)}, Error: {Error_lasso1}\")"
   ]
  },
  {
   "cell_type": "code",
   "execution_count": 84,
   "metadata": {},
   "outputs": [
    {
     "name": "stdout",
     "output_type": "stream",
     "text": [
      "MSE: 2464.6542850885235, R2: 0.653, Radjusted: 0.616, Error: 49.65\n"
     ]
    }
   ],
   "source": [
    "# Note: Use an alpha of .05 when creating the model for this activity\n",
    "\n",
    "clf = Lasso(alpha=0.05)\n",
    "clf.fit(X_train, y_train)\n",
    "predictions = clf.predict(X_test)\n",
    "MSE = mean_squared_error(y_test, predictions)\n",
    "r2 = clf.score(X_test, y_test)\n",
    "r2a_lasso5 = 1 - (1-clf.score(X_test, y_test))*(len(y_test)-1)/(len(y_test)-X_test.shape[1]-1)\n",
    "Error_lasso5 = round(math.sqrt(MSE),2)\n",
    "print(f\"MSE: {MSE}, R2: {round(r2,3)}, Radjusted: {round(r2a_lasso5,3)}, Error: {Error_lasso5}\")"
   ]
  },
  {
   "cell_type": "markdown",
   "metadata": {},
   "source": [
    "# Ridge Model"
   ]
  },
  {
   "cell_type": "code",
   "execution_count": 85,
   "metadata": {},
   "outputs": [
    {
     "name": "stdout",
     "output_type": "stream",
     "text": [
      "MSE: 2462.143106936749, R2: 0.654, Radjusted: 0.616, Error: 49.62\n"
     ]
    },
    {
     "name": "stderr",
     "output_type": "stream",
     "text": [
      "C:\\ProgramData\\Anaconda3\\lib\\site-packages\\sklearn\\linear_model\\ridge.py:112: LinAlgWarning: scipy.linalg.solve\n",
      "Ill-conditioned matrix detected. Result is not guaranteed to be accurate.\n",
      "Reciprocal condition number2.169251e-21\n",
      "  overwrite_a=True).T\n"
     ]
    }
   ],
   "source": [
    "# Note: Use an alpha of .01 when creating the model for this activity\n",
    "\n",
    "ridge = Ridge(alpha=.01).fit(X_train, y_train)\n",
    "predictions = ridge.predict(X_test)\n",
    "MSE = mean_squared_error(y_test, predictions)\n",
    "r2 = ridge.score(X_test, y_test)\n",
    "r2a_ridge1 = 1 - (1-ridge.score(X_test, y_test))*(len(y_test)-1)/(len(y_test)-X_test.shape[1]-1)\n",
    "Error_ridge1 = round(math.sqrt(MSE),2)\n",
    "print(f\"MSE: {MSE}, R2: {round(r2,3)}, Radjusted: {round(r2a_ridge1,3)}, Error: {Error_ridge1}\")"
   ]
  },
  {
   "cell_type": "code",
   "execution_count": 86,
   "metadata": {},
   "outputs": [
    {
     "name": "stdout",
     "output_type": "stream",
     "text": [
      "MSE: 2464.3466213324145, R2: 0.653, Radjusted: 0.616, Error: 49.64\n"
     ]
    },
    {
     "name": "stderr",
     "output_type": "stream",
     "text": [
      "C:\\ProgramData\\Anaconda3\\lib\\site-packages\\sklearn\\linear_model\\ridge.py:112: LinAlgWarning: scipy.linalg.solve\n",
      "Ill-conditioned matrix detected. Result is not guaranteed to be accurate.\n",
      "Reciprocal condition number1.084625e-20\n",
      "  overwrite_a=True).T\n"
     ]
    }
   ],
   "source": [
    "# Note: Use an alpha of .05 when creating the model for this activity\n",
    "\n",
    "ridge = Ridge(alpha=.05).fit(X_train, y_train)\n",
    "predictions = ridge.predict(X_test)\n",
    "MSE = mean_squared_error(y_test, predictions)\n",
    "r2 = ridge.score(X_test, y_test)\n",
    "r2a_ridge5 = 1 - (1-ridge.score(X_test, y_test))*(len(y_test)-1)/(len(y_test)-X_test.shape[1]-1)\n",
    "Error_ridge5 = round(math.sqrt(MSE),2)\n",
    "print(f\"MSE: {MSE}, R2: {round(r2,3)}, Radjusted: {round(r2a_ridge5,3)}, Error: {Error_ridge5}\")"
   ]
  },
  {
   "cell_type": "markdown",
   "metadata": {},
   "source": [
    "# ElasticNet Model"
   ]
  },
  {
   "cell_type": "code",
   "execution_count": 87,
   "metadata": {},
   "outputs": [
    {
     "name": "stdout",
     "output_type": "stream",
     "text": [
      "MSE: 2681.104927297282, R2: 0.623, Radjusted: 0.582, Error: 51.78\n"
     ]
    }
   ],
   "source": [
    "# Note: Use an alpha of .01 when creating the model for this activity\n",
    "\n",
    "elasticnet = ElasticNet(alpha=.01).fit(X_train, y_train)\n",
    "predictions = elasticnet.predict(X_test)\n",
    "MSE = mean_squared_error(y_test, predictions)\n",
    "r2 = elasticnet.score(X_test, y_test)\n",
    "r2a_elastic1 = 1 - (1-elasticnet.score(X_test, y_test))*(len(y_test)-1)/(len(y_test)-X_test.shape[1]-1)\n",
    "Error_elastic1 = round(math.sqrt(MSE),2)\n",
    "print(f\"MSE: {MSE}, R2: {round(r2,3)}, Radjusted: {round(r2a_elastic1,3)}, Error: {Error_elastic1}\")"
   ]
  },
  {
   "cell_type": "code",
   "execution_count": 88,
   "metadata": {},
   "outputs": [
    {
     "name": "stdout",
     "output_type": "stream",
     "text": [
      "MSE: 2767.2899207561372, R2: 0.611, Radjusted: 0.568, Error: 52.61\n"
     ]
    }
   ],
   "source": [
    "# Note: Use an alpha of .05 when creating the model for this activity\n",
    "\n",
    "elasticnet = ElasticNet(alpha=.05).fit(X_train, y_train)\n",
    "predictions = elasticnet.predict(X_test)\n",
    "MSE = mean_squared_error(y_test, predictions)\n",
    "r2 = elasticnet.score(X_test, y_test)\n",
    "r2a_elastic5 = 1 - (1-elasticnet.score(X_test, y_test))*(len(y_test)-1)/(len(y_test)-X_test.shape[1]-1)\n",
    "Error_elastic5 = round(math.sqrt(MSE),2)\n",
    "print(f\"MSE: {MSE}, R2: {round(r2,3)}, Radjusted: {round(r2a_elastic5,3)}, Error: {Error_elastic5}\")"
   ]
  },
  {
   "cell_type": "markdown",
   "metadata": {},
   "source": [
    "# Reporting Series"
   ]
  },
  {
   "cell_type": "code",
   "execution_count": 100,
   "metadata": {},
   "outputs": [
    {
     "data": {
      "text/plain": [
       "Linear Regression     0.620176\n",
       "Random Forest         0.647040\n",
       "XGBBoost              0.754953\n",
       "Lasso Alpha 1         0.616219\n",
       "Lasso Alpha 5         0.615553\n",
       "Ridge Alpha 1         0.615945\n",
       "Ridge Alpha 5         0.615601\n",
       "ElasticNet Alpha 1    0.581790\n",
       "ElasticNet Alpha 5    0.568346\n",
       "dtype: float64"
      ]
     },
     "execution_count": 100,
     "metadata": {},
     "output_type": "execute_result"
    }
   ],
   "source": [
    "compare = pd.Series([linear_regression, random_forest, xgboost, r2a_lasso1, r2a_lasso5, r2a_ridge1, r2a_ridge5, r2a_elastic1, r2a_elastic5], index = [\"Linear Regression\",\"Random Forest\",\"XGBBoost\", \"Lasso Alpha 1\", \"Lasso Alpha 5\", \"Ridge Alpha 1\", \"Ridge Alpha 5\", \"ElasticNet Alpha 1\", \"ElasticNet Alpha 5\"])\n",
    "compare"
   ]
  },
  {
   "cell_type": "code",
   "execution_count": 116,
   "metadata": {},
   "outputs": [
    {
     "data": {
      "text/plain": [
       "XGBBoost              0.754953\n",
       "Random Forest         0.647040\n",
       "Linear Regression     0.620176\n",
       "Lasso Alpha 1         0.616219\n",
       "Ridge Alpha 1         0.615945\n",
       "Ridge Alpha 5         0.615601\n",
       "Lasso Alpha 5         0.615553\n",
       "ElasticNet Alpha 1    0.581790\n",
       "ElasticNet Alpha 5    0.568346\n",
       "dtype: float64"
      ]
     },
     "execution_count": 116,
     "metadata": {},
     "output_type": "execute_result"
    }
   ],
   "source": [
    "compare.sort_values(ascending=False)"
   ]
  },
  {
   "cell_type": "code",
   "execution_count": null,
   "metadata": {},
   "outputs": [],
   "source": []
  }
 ],
 "metadata": {
  "kernelspec": {
   "display_name": "Python 3",
   "language": "python",
   "name": "python3"
  },
  "language_info": {
   "codemirror_mode": {
    "name": "ipython",
    "version": 3
   },
   "file_extension": ".py",
   "mimetype": "text/x-python",
   "name": "python",
   "nbconvert_exporter": "python",
   "pygments_lexer": "ipython3",
   "version": "3.7.0"
  }
 },
 "nbformat": 4,
 "nbformat_minor": 2
}
