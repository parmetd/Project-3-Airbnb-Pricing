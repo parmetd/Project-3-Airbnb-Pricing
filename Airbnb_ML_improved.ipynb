{
 "cells": [
  {
   "cell_type": "markdown",
   "metadata": {},
   "source": [
    "# Version 1.2 5/8/2019"
   ]
  },
  {
   "cell_type": "code",
   "execution_count": 18,
   "metadata": {},
   "outputs": [],
   "source": [
    "#dependencies\n",
    "\n",
    "#Import linear algebra and data manipulation\n",
    "import numpy as np\n",
    "import pandas as pd\n",
    "\n",
    "#Import plotting packages\n",
    "import matplotlib.pyplot as plt\n",
    "%matplotlib inline\n",
    "\n",
    "#Import machine learning\n",
    "from sklearn.linear_model import LinearRegression\n",
    "from sklearn.ensemble import RandomForestRegressor\n",
    "import xgboost\n",
    "from sklearn.metrics import r2_score, mean_squared_error\n",
    "from sklearn.model_selection import train_test_split\n",
    "from sklearn import metrics\n",
    "import math\n",
    "\n",
    "#Deep Learning\n",
    "from keras.models import Sequential\n",
    "from keras.layers import Dense\n",
    "from keras.models import load_model\n",
    "from keras.utils import to_categorical"
   ]
  },
  {
   "cell_type": "code",
   "execution_count": 19,
   "metadata": {},
   "outputs": [
    {
     "name": "stdout",
     "output_type": "stream",
     "text": [
      "listings.csv dataset contains information on 3723 listings provided by 2732 hosts.\n"
     ]
    }
   ],
   "source": [
    "#read the dataset\n",
    "listings_df = pd.read_csv('./listings.csv')\n",
    "\n",
    "#find number of listings and number of hosts\n",
    "listings_number = listings_df['id'].count()\n",
    "hosts_number = len(listings_df['host_id'].unique())\n",
    "\n",
    "print('listings.csv dataset contains information on %d listings provided by %d hosts.' % (listings_number, \n",
    "                                                                                          hosts_number))"
   ]
  },
  {
   "cell_type": "markdown",
   "metadata": {},
   "source": [
    "# New Data Cleaning Process"
   ]
  },
  {
   "cell_type": "code",
   "execution_count": 20,
   "metadata": {},
   "outputs": [],
   "source": [
    "#Helper functions for dataset cleaning\n",
    "def get_host_since_year(row):\n",
    "    ''' Get year from a date represented as a string '''\n",
    "    try:\n",
    "        host_since = int(row['host_since'].split('-')[0])\n",
    "    except:\n",
    "        host_since = np.nan\n",
    "    return host_since\n",
    "\n",
    "def get_val_from_list(row, column_name, value):\n",
    "    ''' Fill in dummy column for values '''\n",
    "    val = 0.0\n",
    "    try:\n",
    "        vals = row[column_name].replace('[', '').replace(\"'\", '').replace(\"]\", '').replace('\"', '').replace('{', '').replace('}', '').split(',')\n",
    "        if value in vals:\n",
    "            val = 1.0\n",
    "    except:\n",
    "        val = 0.0\n",
    "    return val\n",
    "\n",
    "def split_list_into_columns(df, column_name, max_dummies_num = 10):\n",
    "    ''' Split values in columns, which contain lists (for example, amenities) '''\n",
    "    \n",
    "    # get dictionary of unique values in lists across dataset rows\n",
    "    values_dict = {}\n",
    "\n",
    "    for unique_value in df[column_name].unique(): \n",
    "        for value in unique_value.replace('[', '').replace(\"'\", '').replace(\"]\", '').replace('\"', '').replace('{', '').replace('}', '').split(','):\n",
    "            if value in values_dict:\n",
    "                values_dict[value] = values_dict[value] + 1\n",
    "            else:\n",
    "                values_dict[value] = 0\n",
    "                \n",
    "    values_sorted = sorted(values_dict.items(), key=lambda kv: kv[1], reverse = True)\n",
    "      \n",
    "    # split into columns\n",
    "    for value in values_sorted[: max_dummies_num]:\n",
    "        df[column_name + '_' + value[0]] = df.apply(lambda row: get_val_from_list(row, column_name, value[0]),axis=1)\n",
    "        \n",
    "    return\n",
    "\n",
    "def get_extra_people_fee(row):\n",
    "    ''' Return 1 when the is fee for exatra people '''\n",
    "    if row['extra_people'] == '$0.00':\n",
    "        return 0.0\n",
    "    else:\n",
    "        return 1.0\n",
    "\n",
    "#Main dataset cleaning function\n",
    "def clean_dataset(listings_df):\n",
    "    '''\n",
    "    INPUT\n",
    "    listings_df - pandas dataframe containing listings data \n",
    "        \n",
    "    OUTPUT\n",
    "    df - cleaned dataset, which contains merged tables:\n",
    "    1. irrelevant columns are dropped;\n",
    "    2. string containing dates are converted into numbers;\n",
    "    3. columns, containing lists, are split into several columns (for example, amenities)\n",
    "    4. missing values are imputed with mean or mode.\n",
    "    '''\n",
    "   \n",
    "    #drop the irrelevant columns\n",
    "    columns_to_drop = ['host_id','host_location','host_acceptance_rate','host_neighbourhood',\n",
    "                   'host_total_listings_count', 'weekly_price', 'monthly_price',\n",
    "                   'security_deposit', 'cleaning_fee', 'calendar_updated',\n",
    "                   'listing_url','last_scraped' ,'scrape_id', 'name', 'summary', 'space', 'description',\n",
    "                   'experiences_offered', 'street', 'neighbourhood', 'neighbourhood_cleansed', 'zipcode',\n",
    "                   'neighborhood_overview', 'notes', 'transit', 'thumbnail_url', 'medium_url', 'picture_url',\n",
    "                   'xl_picture_url', 'host_url', 'host_name', 'host_about', 'host_thumbnail_url', 'host_picture_url',\n",
    "                   'city', 'state', 'market', 'smart_location', 'country_code', 'country', 'latitude', 'longitude',\n",
    "                   'is_location_exact', 'square_feet', 'has_availability', 'neighbourhood_group_cleansed',\n",
    "                   'availability_60', 'availability_90', 'availability_365', 'calendar_last_scraped',\n",
    "                  'first_review', 'last_review', 'requires_license', 'license', 'jurisdiction_names',\n",
    "                  'reviews_per_month']\n",
    "    df = listings_df.drop(columns = columns_to_drop) \n",
    "     \n",
    "    #convert price to number\n",
    "    df['price'] = df['price'].str.replace(r'\\$','').str.replace(r'\\,','').astype(float)\n",
    "    \n",
    "    #convert host_since date into number and fill in missing values, drop the original column\n",
    "    df['host_since_year'] = df.apply(lambda row: get_host_since_year(row),axis=1)\n",
    "    df['host_since_year'].fillna(df['host_since_year'].mean(), inplace = True)\n",
    "    df = df.drop(columns = ['host_since'])\n",
    "    \n",
    "    #convert host_response_rate into number and fill in missing values, drop the original column\n",
    "    df['host_response_rate_num'] = df['host_response_rate'].astype(str)\n",
    "    df['host_response_rate_num'] = df['host_response_rate_num'].str.replace(\"%\", \"\").astype(\"float\")\n",
    "    df['host_response_rate_num'].fillna(df['host_response_rate_num'].mean(), inplace = True)\n",
    "    \n",
    "    df['host_response_rate_buckets'] = pd.qcut(df['host_response_rate_num'], 5, labels=False, duplicates = 'drop')\n",
    "    \n",
    "    df = df.drop(columns = ['host_response_rate', 'host_response_rate_num'])\n",
    "    \n",
    "    #fill missing values with mean value for host_listings_count\n",
    "    df['host_listings_count'].fillna(df['host_listings_count'].mean(), inplace = True)\n",
    "    \n",
    "    #split host_verifications into dummy columns and drop the original column\n",
    "    split_list_into_columns(df, 'host_verifications')\n",
    "    df = df.drop(columns = ['host_verifications'])\n",
    "    \n",
    "    #fill in missing values for bathrooms, bedrooms and beds with mode\n",
    "    df['bathrooms'] = df['bathrooms'].fillna(df['bathrooms'].mode()[0])\n",
    "    df['bedrooms'] = df['bedrooms'].fillna(df['bedrooms'].mode()[0])\n",
    "    df['beds'] = df['beds'].fillna(df['beds'].mode()[0])\n",
    "    \n",
    "    #split amenities into dummy columns and drop the original column\n",
    "    split_list_into_columns(df, 'amenities')\n",
    "    df = df.drop(columns = ['amenities'])\n",
    "    \n",
    "    #turn extra people fee into binary column (1 - if fee for extra people is charged, 0 - otherwise)\n",
    "    df['extra_people_fee'] = df.apply(lambda row: get_extra_people_fee(row),axis=1)\n",
    "    df = df.drop(columns = ['extra_people'])\n",
    "    \n",
    "    #fill missing values for review scores columns\n",
    "    review_scores_columns = ['review_scores_rating', 'review_scores_accuracy', 'review_scores_cleanliness',\n",
    "                         'review_scores_checkin', 'review_scores_communication', 'review_scores_location',\n",
    "                        'review_scores_value']\n",
    "    for column in review_scores_columns:\n",
    "        df[column].fillna(df[column].mean(), inplace = True)\n",
    "    \n",
    "    return df"
   ]
  },
  {
   "cell_type": "code",
   "execution_count": 21,
   "metadata": {},
   "outputs": [],
   "source": [
    "# apply functions above to clean dataset\n",
    "df = clean_dataset(listings_df)"
   ]
  },
  {
   "cell_type": "markdown",
   "metadata": {},
   "source": [
    "# EDA"
   ]
  },
  {
   "cell_type": "code",
   "execution_count": 22,
   "metadata": {},
   "outputs": [
    {
     "data": {
      "text/plain": [
       "['id',\n",
       " 'host_response_time',\n",
       " 'host_is_superhost',\n",
       " 'host_listings_count',\n",
       " 'host_has_profile_pic',\n",
       " 'host_identity_verified',\n",
       " 'property_type',\n",
       " 'room_type',\n",
       " 'accommodates',\n",
       " 'bathrooms',\n",
       " 'bedrooms',\n",
       " 'beds',\n",
       " 'bed_type',\n",
       " 'price',\n",
       " 'guests_included',\n",
       " 'minimum_nights',\n",
       " 'maximum_nights',\n",
       " 'availability_30',\n",
       " 'number_of_reviews',\n",
       " 'review_scores_rating',\n",
       " 'review_scores_accuracy',\n",
       " 'review_scores_cleanliness',\n",
       " 'review_scores_checkin',\n",
       " 'review_scores_communication',\n",
       " 'review_scores_location',\n",
       " 'review_scores_value',\n",
       " 'instant_bookable',\n",
       " 'cancellation_policy',\n",
       " 'require_guest_profile_picture',\n",
       " 'require_guest_phone_verification',\n",
       " 'calculated_host_listings_count',\n",
       " 'host_since_year',\n",
       " 'host_response_rate_buckets',\n",
       " 'host_verifications_email',\n",
       " 'host_verifications_ phone',\n",
       " 'host_verifications_ reviews',\n",
       " 'host_verifications_ jumio',\n",
       " 'host_verifications_ facebook',\n",
       " 'host_verifications_ kba',\n",
       " 'host_verifications_ linkedin',\n",
       " 'host_verifications_ google',\n",
       " 'host_verifications_phone',\n",
       " 'host_verifications_ manual_offline',\n",
       " 'amenities_Air Conditioning',\n",
       " 'amenities_Heating',\n",
       " 'amenities_Wireless Internet',\n",
       " 'amenities_Kitchen',\n",
       " 'amenities_Smoke Detector',\n",
       " 'amenities_Washer',\n",
       " 'amenities_Dryer',\n",
       " 'amenities_Internet',\n",
       " 'amenities_Essentials',\n",
       " 'amenities_TV',\n",
       " 'extra_people_fee']"
      ]
     },
     "execution_count": 22,
     "metadata": {},
     "output_type": "execute_result"
    }
   ],
   "source": [
    "df.columns.tolist()"
   ]
  },
  {
   "cell_type": "code",
   "execution_count": 23,
   "metadata": {},
   "outputs": [
    {
     "name": "stdout",
     "output_type": "stream",
     "text": [
      "Minimum price per listing is $10.0.\n",
      "Maximum price per listing is $2822.0.\n",
      "Average price per listing is $149.16599516518937.\n"
     ]
    }
   ],
   "source": [
    "#find minimum, maximum and average price for listing\n",
    "min_price = df['price'].min()\n",
    "max_price = df['price'].max()\n",
    "mean_price = df['price'].mean()\n",
    "\n",
    "print(f'Minimum price per listing is ${min_price}.')\n",
    "print(f'Maximum price per listing is ${max_price}.')\n",
    "print(f'Average price per listing is ${mean_price}.')"
   ]
  },
  {
   "cell_type": "code",
   "execution_count": 24,
   "metadata": {},
   "outputs": [
    {
     "data": {
      "text/plain": [
       "695.0"
      ]
     },
     "execution_count": 24,
     "metadata": {},
     "output_type": "execute_result"
    }
   ],
   "source": [
    "df = df[df['price'] <= 699]\n",
    "df['price'].max()\n"
   ]
  },
  {
   "cell_type": "code",
   "execution_count": 25,
   "metadata": {},
   "outputs": [
    {
     "data": {
      "text/plain": [
       "30"
      ]
     },
     "execution_count": 25,
     "metadata": {},
     "output_type": "execute_result"
    }
   ],
   "source": [
    "df = df[df['minimum_nights'] <= 31]\n",
    "df['minimum_nights'].max()"
   ]
  },
  {
   "cell_type": "code",
   "execution_count": 26,
   "metadata": {},
   "outputs": [
    {
     "data": {
      "text/plain": [
       "(3274, 54)"
      ]
     },
     "execution_count": 26,
     "metadata": {},
     "output_type": "execute_result"
    }
   ],
   "source": [
    "golden_df = df.dropna()\n",
    "golden_df.shape"
   ]
  },
  {
   "cell_type": "code",
   "execution_count": 27,
   "metadata": {},
   "outputs": [],
   "source": [
    "#creating CSV file of the improved golden version \n",
    "\n",
    "golden_df.to_csv('goldenimproved.csv')"
   ]
  },
  {
   "cell_type": "markdown",
   "metadata": {},
   "source": [
    "# ML Modeling"
   ]
  },
  {
   "cell_type": "code",
   "execution_count": 78,
   "metadata": {},
   "outputs": [],
   "source": [
    "linear_regression = []\n",
    "random_forest = []"
   ]
  },
  {
   "cell_type": "code",
   "execution_count": 79,
   "metadata": {},
   "outputs": [],
   "source": [
    "def lr_rf(X, y, TEST_SIZE, RAND_STATE):\n",
    "    X_train, X_test, y_train, y_test = train_test_split(X, y, test_size=TEST_SIZE, random_state=RAND_STATE)\n",
    "    model = LinearRegression()\n",
    "    model.fit(X_train, y_train)\n",
    "    predictions = model.predict(X_test)\n",
    "    MSE = mean_squared_error(y_test, predictions)\n",
    "    Error_lr = round(math.sqrt(MSE),2)\n",
    "    r2 = model.score(X_test, y_test)\n",
    "    r2a_lr = 1 - (1-model.score(X_test, y_test))*(len(y_test)-1)/(len(y_test)-X_test.shape[1]-1)\n",
    "    linear_regression.append(r2a_lr)\n",
    "    print('Linear Regression Results:')\n",
    "    print(f''' MSE: {MSE}, \\n R2: {r2}, \\n Radjusted: {r2a_lr} \\n Error: {Error_lr} \\n \\n''')\n",
    "    print('----------------------------------------')\n",
    "    regressor = RandomForestRegressor(n_estimators=2000, random_state=RAND_STATE)  \n",
    "    regressor.fit(X_train, y_train)  \n",
    "    y_pred = regressor.predict(X_test)  \n",
    "    print('Random Forest Results:')\n",
    "    print('Mean Absolute Error:', metrics.mean_absolute_error(y_test, y_pred))  \n",
    "    print('Mean Squared Error:', metrics.mean_squared_error(y_test, y_pred))  \n",
    "    print(f'R: {regressor.score(X_test, y_test)}')\n",
    "    r2a_rf = 1 - (1-regressor.score(X_test, y_test))*(len(y_test)-1)/(len(y_test)-X_test.shape[1]-1)\n",
    "    random_forest.append(r2a_rf)\n",
    "    print(f'RAdjusted: {r2a_rf}')\n",
    "    print('Root Mean Squared Error:', np.sqrt(metrics.mean_squared_error(y_test, y_pred))) "
   ]
  },
  {
   "cell_type": "code",
   "execution_count": 29,
   "metadata": {},
   "outputs": [],
   "source": [
    "#turn categorical columns into dummies\n",
    "cat_columns = list(golden_df.select_dtypes(include=['object']).columns)\n",
    "    \n",
    "for col in  cat_columns:\n",
    "    golden_df = pd.concat([golden_df.drop(col, axis=1), pd.get_dummies(golden_df[col], prefix=col, prefix_sep='_',\n",
    "\n",
    "                                                         drop_first=True, dummy_na=True)], axis=1)\n"
   ]
  },
  {
   "cell_type": "code",
   "execution_count": 30,
   "metadata": {},
   "outputs": [
    {
     "name": "stdout",
     "output_type": "stream",
     "text": [
      "(3274, 80) (3274,)\n"
     ]
    }
   ],
   "source": [
    "X = golden_df.drop(columns = ['price', 'id'])\n",
    "y = golden_df[\"price\"]\n",
    "print(X.shape, y.shape)"
   ]
  },
  {
   "cell_type": "code",
   "execution_count": 80,
   "metadata": {},
   "outputs": [
    {
     "name": "stdout",
     "output_type": "stream",
     "text": [
      "Linear Regression Results:\n",
      " MSE: 2835.1475881994365, \n",
      " R2: 0.6511192328188828, \n",
      " Radjusted: 0.6201763709846374 \n",
      " Error: 53.25 \n",
      " \n",
      "\n",
      "----------------------------------------\n",
      "Random Forest Results:\n",
      "Mean Absolute Error: 32.632378510762685\n",
      "Mean Squared Error: 2634.6259800756975\n",
      "R: 0.6757945381785699\n",
      "RAdjusted: 0.6470401734937424\n",
      "Root Mean Squared Error: 51.32860781353511\n"
     ]
    }
   ],
   "source": [
    "lr_rf(X, y, 0.3, 42)"
   ]
  },
  {
   "cell_type": "markdown",
   "metadata": {},
   "source": [
    "# Going to split on entire_home"
   ]
  },
  {
   "cell_type": "code",
   "execution_count": 32,
   "metadata": {},
   "outputs": [
    {
     "data": {
      "text/plain": [
       "Entire home/apt    2392\n",
       "Private room       1198\n",
       "Shared room         101\n",
       "Name: room_type, dtype: int64"
      ]
     },
     "execution_count": 32,
     "metadata": {},
     "output_type": "execute_result"
    }
   ],
   "source": [
    "#Viewing info on room_type\n",
    "df['room_type'].value_counts()"
   ]
  },
  {
   "cell_type": "code",
   "execution_count": 33,
   "metadata": {},
   "outputs": [],
   "source": [
    "entire_home = df[df['room_type'] == 'Entire home/apt'].copy()"
   ]
  },
  {
   "cell_type": "code",
   "execution_count": 34,
   "metadata": {},
   "outputs": [
    {
     "data": {
      "text/plain": [
       "(2132, 54)"
      ]
     },
     "execution_count": 34,
     "metadata": {},
     "output_type": "execute_result"
    }
   ],
   "source": [
    "entire_home = entire_home.dropna()\n",
    "entire_home.shape"
   ]
  },
  {
   "cell_type": "code",
   "execution_count": 35,
   "metadata": {},
   "outputs": [],
   "source": [
    "entire_home = entire_home.drop(columns = 'room_type') "
   ]
  },
  {
   "cell_type": "code",
   "execution_count": 36,
   "metadata": {},
   "outputs": [],
   "source": [
    "#turn categorical columns into dummies\n",
    "cat_columns = list(entire_home.select_dtypes(include=['object']).columns)\n",
    "    \n",
    "for col in  cat_columns:\n",
    "    entire_home = pd.concat([entire_home.drop(col, axis=1), pd.get_dummies(entire_home[col], prefix=col, prefix_sep='_',\n",
    "\n",
    "                                                         drop_first=True, dummy_na=True)], axis=1)"
   ]
  },
  {
   "cell_type": "code",
   "execution_count": 37,
   "metadata": {},
   "outputs": [
    {
     "name": "stdout",
     "output_type": "stream",
     "text": [
      "(2132, 74) (2132,)\n"
     ]
    }
   ],
   "source": [
    "X_entire = entire_home.drop(columns = ['price', 'id'])\n",
    "y_entire = entire_home[\"price\"]\n",
    "print(X_entire.shape, y_entire.shape)"
   ]
  },
  {
   "cell_type": "code",
   "execution_count": 38,
   "metadata": {},
   "outputs": [
    {
     "name": "stdout",
     "output_type": "stream",
     "text": [
      "Linear Regression Results:\n",
      " MSE: 1252697941.687473, \n",
      " R2: -128330.51337867649, \n",
      " Radjusted: -145138.53459995447 \n",
      " Error: 35393.47 \n",
      " \n",
      "\n",
      "----------------------------------------\n",
      "Random Forest Results:\n",
      "Mean Absolute Error: 40.52947378143266\n",
      "Mean Squared Error: 3768.4734140810965\n",
      "R: 0.6139421322071683\n",
      "RAdjusted: 0.5633788008502311\n",
      "Root Mean Squared Error: 61.38789305784241\n"
     ]
    }
   ],
   "source": [
    "lr_rf(X_entire, y_entire, 0.3, 42)"
   ]
  },
  {
   "cell_type": "markdown",
   "metadata": {},
   "source": [
    "# Strangely Entire Home fails now!"
   ]
  },
  {
   "cell_type": "markdown",
   "metadata": {},
   "source": [
    "# Deep Learning / Neural Network"
   ]
  },
  {
   "cell_type": "code",
   "execution_count": 39,
   "metadata": {},
   "outputs": [
    {
     "name": "stdout",
     "output_type": "stream",
     "text": [
      "(3274, 80) (3274,)\n"
     ]
    }
   ],
   "source": [
    "# #read the dataset\n",
    "# deep_data = pd.read_csv('./goldenimproved.csv')\n",
    "\n",
    "# Create Data\n",
    "X_dl = golden_df.drop(columns = ['price', 'id'])\n",
    "y_dl = golden_df[\"price\"]\n",
    "print(X_dl.shape, y_dl.shape)"
   ]
  },
  {
   "cell_type": "code",
   "execution_count": 40,
   "metadata": {},
   "outputs": [],
   "source": [
    "X_train, X_test, y_train, y_test = train_test_split(X_dl, y_dl, random_state=1)"
   ]
  },
  {
   "cell_type": "code",
   "execution_count": 41,
   "metadata": {},
   "outputs": [],
   "source": [
    "from sklearn.preprocessing import StandardScaler\n",
    "\n",
    "# Create a StandardScater model and fit it to the training data\n",
    "X_scaler = StandardScaler().fit(X_train)"
   ]
  },
  {
   "cell_type": "code",
   "execution_count": 42,
   "metadata": {},
   "outputs": [],
   "source": [
    "# Transform the training and testing data using the X_scaler\n",
    "\n",
    "X_train_scaled = X_scaler.transform(X_train)\n",
    "X_test_scaled = X_scaler.transform(X_test)"
   ]
  },
  {
   "cell_type": "code",
   "execution_count": 43,
   "metadata": {},
   "outputs": [],
   "source": [
    "# One-hot encoding\n",
    "y_train_categorical = to_categorical(y_train)\n",
    "y_test_categorical = to_categorical(y_test)"
   ]
  },
  {
   "cell_type": "code",
   "execution_count": 64,
   "metadata": {},
   "outputs": [],
   "source": [
    "# Create a Neural Network model here\n",
    "dl_model = Sequential()\n",
    "dl_model.add(Dense(units=100, activation='relu', input_dim=80))  #fits the shape\n",
    "dl_model.add(Dense(units=696, activation='softmax')) #gives the 0 or 1\n",
    "#if the computer crashes due to memory go to 50 then 25 then 12 units then layer loss"
   ]
  },
  {
   "cell_type": "code",
   "execution_count": 65,
   "metadata": {},
   "outputs": [
    {
     "name": "stdout",
     "output_type": "stream",
     "text": [
      "_________________________________________________________________\n",
      "Layer (type)                 Output Shape              Param #   \n",
      "=================================================================\n",
      "dense_16 (Dense)             (None, 100)               8100      \n",
      "_________________________________________________________________\n",
      "dense_17 (Dense)             (None, 696)               70296     \n",
      "=================================================================\n",
      "Total params: 78,396\n",
      "Trainable params: 78,396\n",
      "Non-trainable params: 0\n",
      "_________________________________________________________________\n"
     ]
    }
   ],
   "source": [
    "dl_model.summary()"
   ]
  },
  {
   "cell_type": "code",
   "execution_count": 66,
   "metadata": {},
   "outputs": [],
   "source": [
    "# Compile the model\n",
    "dl_model.compile(optimizer='adam',\n",
    "              loss='categorical_crossentropy',\n",
    "              metrics=['accuracy'])"
   ]
  },
  {
   "cell_type": "code",
   "execution_count": 67,
   "metadata": {},
   "outputs": [
    {
     "name": "stdout",
     "output_type": "stream",
     "text": [
      "Epoch 1/100\n",
      " - 1s - loss: 5.7115 - acc: 0.0318\n",
      "Epoch 2/100\n",
      " - 0s - loss: 4.4810 - acc: 0.0534\n",
      "Epoch 3/100\n",
      " - 0s - loss: 4.1268 - acc: 0.0811\n",
      "Epoch 4/100\n",
      " - 0s - loss: 3.8778 - acc: 0.1010\n",
      "Epoch 5/100\n",
      " - 0s - loss: 3.6663 - acc: 0.1214\n",
      "Epoch 6/100\n",
      " - 0s - loss: 3.4872 - acc: 0.1389\n",
      "Epoch 7/100\n",
      " - 0s - loss: 3.3226 - acc: 0.1593\n",
      "Epoch 8/100\n",
      " - 0s - loss: 3.1728 - acc: 0.1878\n",
      "Epoch 9/100\n",
      " - 0s - loss: 3.0367 - acc: 0.2122\n",
      "Epoch 10/100\n",
      " - 0s - loss: 2.9203 - acc: 0.2367\n",
      "Epoch 11/100\n",
      " - 0s - loss: 2.8037 - acc: 0.2749\n",
      "Epoch 12/100\n",
      " - 0s - loss: 2.7059 - acc: 0.2900\n",
      "Epoch 13/100\n",
      " - 0s - loss: 2.6111 - acc: 0.3320\n",
      "Epoch 14/100\n",
      " - 0s - loss: 2.5276 - acc: 0.3434\n",
      "Epoch 15/100\n",
      " - 0s - loss: 2.4503 - acc: 0.3690\n",
      "Epoch 16/100\n",
      " - 0s - loss: 2.3810 - acc: 0.3866\n",
      "Epoch 17/100\n",
      " - 0s - loss: 2.3146 - acc: 0.3963\n",
      "Epoch 18/100\n",
      " - 0s - loss: 2.2597 - acc: 0.4106\n",
      "Epoch 19/100\n",
      " - 0s - loss: 2.2022 - acc: 0.4171\n",
      "Epoch 20/100\n",
      " - 0s - loss: 2.1480 - acc: 0.4371\n",
      "Epoch 21/100\n",
      " - 0s - loss: 2.1003 - acc: 0.4436\n",
      "Epoch 22/100\n",
      " - 0s - loss: 2.0505 - acc: 0.4591\n",
      "Epoch 23/100\n",
      " - 0s - loss: 2.0047 - acc: 0.4688\n",
      "Epoch 24/100\n",
      " - 0s - loss: 1.9648 - acc: 0.4823\n",
      "Epoch 25/100\n",
      " - 0s - loss: 1.9256 - acc: 0.4933\n",
      "Epoch 26/100\n",
      " - 0s - loss: 1.8828 - acc: 0.5075\n",
      "Epoch 27/100\n",
      " - 0s - loss: 1.8460 - acc: 0.5202\n",
      "Epoch 28/100\n",
      " - 0s - loss: 1.8056 - acc: 0.5287\n",
      "Epoch 29/100\n",
      " - 0s - loss: 1.7707 - acc: 0.5442\n",
      "Epoch 30/100\n",
      " - 0s - loss: 1.7361 - acc: 0.5454\n",
      "Epoch 31/100\n",
      " - 0s - loss: 1.6990 - acc: 0.5662\n",
      "Epoch 32/100\n",
      " - 0s - loss: 1.6703 - acc: 0.5593\n",
      "Epoch 33/100\n",
      " - 0s - loss: 1.6365 - acc: 0.5776\n",
      "Epoch 34/100\n",
      " - 0s - loss: 1.6095 - acc: 0.5874\n",
      "Epoch 35/100\n",
      " - 0s - loss: 1.5803 - acc: 0.5939\n",
      "Epoch 36/100\n",
      " - 0s - loss: 1.5483 - acc: 0.6086\n",
      "Epoch 37/100\n",
      " - 0s - loss: 1.5265 - acc: 0.6045\n",
      "Epoch 38/100\n",
      " - 0s - loss: 1.4946 - acc: 0.6191\n",
      "Epoch 39/100\n",
      " - 0s - loss: 1.4701 - acc: 0.6200\n",
      "Epoch 40/100\n",
      " - 0s - loss: 1.4453 - acc: 0.6354\n",
      "Epoch 41/100\n",
      " - 0s - loss: 1.4207 - acc: 0.6367\n",
      "Epoch 42/100\n",
      " - 0s - loss: 1.3940 - acc: 0.6489\n",
      "Epoch 43/100\n",
      " - 0s - loss: 1.3719 - acc: 0.6505\n",
      "Epoch 44/100\n",
      " - 0s - loss: 1.3490 - acc: 0.6656\n",
      "Epoch 45/100\n",
      " - 0s - loss: 1.3257 - acc: 0.6688\n",
      "Epoch 46/100\n",
      " - 0s - loss: 1.3051 - acc: 0.6676\n",
      "Epoch 47/100\n",
      " - 0s - loss: 1.2841 - acc: 0.6762\n",
      "Epoch 48/100\n",
      " - 0s - loss: 1.2599 - acc: 0.6839\n",
      "Epoch 49/100\n",
      " - 0s - loss: 1.2398 - acc: 0.6872\n",
      "Epoch 50/100\n",
      " - 0s - loss: 1.2189 - acc: 0.6916\n",
      "Epoch 51/100\n",
      " - 0s - loss: 1.2002 - acc: 0.7063\n",
      "Epoch 52/100\n",
      " - 0s - loss: 1.1809 - acc: 0.7002\n",
      "Epoch 53/100\n",
      " - 0s - loss: 1.1634 - acc: 0.7120\n",
      "Epoch 54/100\n",
      " - 0s - loss: 1.1412 - acc: 0.7198\n",
      "Epoch 55/100\n",
      " - 0s - loss: 1.1234 - acc: 0.7242\n",
      "Epoch 56/100\n",
      " - 0s - loss: 1.1089 - acc: 0.7271\n",
      "Epoch 57/100\n",
      " - 0s - loss: 1.0930 - acc: 0.7356\n",
      "Epoch 58/100\n",
      " - 0s - loss: 1.0732 - acc: 0.7381\n",
      "Epoch 59/100\n",
      " - 0s - loss: 1.0554 - acc: 0.7430\n",
      "Epoch 60/100\n",
      " - 0s - loss: 1.0382 - acc: 0.7487\n",
      "Epoch 61/100\n",
      " - 0s - loss: 1.0251 - acc: 0.7519\n",
      "Epoch 62/100\n",
      " - 0s - loss: 1.0086 - acc: 0.7523\n",
      "Epoch 63/100\n",
      " - 0s - loss: 0.9944 - acc: 0.7625\n",
      "Epoch 64/100\n",
      " - 0s - loss: 0.9772 - acc: 0.7723\n",
      "Epoch 65/100\n",
      " - 0s - loss: 0.9621 - acc: 0.7707\n",
      "Epoch 66/100\n",
      " - 0s - loss: 0.9488 - acc: 0.7784\n",
      "Epoch 67/100\n",
      " - 0s - loss: 0.9346 - acc: 0.7862\n",
      "Epoch 68/100\n",
      " - 0s - loss: 0.9175 - acc: 0.7874\n",
      "Epoch 69/100\n",
      " - 0s - loss: 0.9067 - acc: 0.7882\n",
      "Epoch 70/100\n",
      " - 0s - loss: 0.8932 - acc: 0.7914\n",
      "Epoch 71/100\n",
      " - 0s - loss: 0.8738 - acc: 0.7980\n",
      "Epoch 72/100\n",
      " - 0s - loss: 0.8636 - acc: 0.8033\n",
      "Epoch 73/100\n",
      " - 0s - loss: 0.8480 - acc: 0.8004\n",
      "Epoch 74/100\n",
      " - 0s - loss: 0.8378 - acc: 0.8024\n",
      "Epoch 75/100\n",
      " - 0s - loss: 0.8237 - acc: 0.8098\n",
      "Epoch 76/100\n",
      " - 0s - loss: 0.8125 - acc: 0.8110\n",
      "Epoch 77/100\n",
      " - 0s - loss: 0.8001 - acc: 0.8187\n",
      "Epoch 78/100\n",
      " - 0s - loss: 0.7891 - acc: 0.8244\n",
      "Epoch 79/100\n",
      " - 0s - loss: 0.7747 - acc: 0.8208\n",
      "Epoch 80/100\n",
      " - 0s - loss: 0.7651 - acc: 0.8277\n",
      "Epoch 81/100\n",
      " - 0s - loss: 0.7534 - acc: 0.8277\n",
      "Epoch 82/100\n",
      " - 0s - loss: 0.7407 - acc: 0.8375\n",
      "Epoch 83/100\n",
      " - 0s - loss: 0.7310 - acc: 0.8399\n",
      "Epoch 84/100\n",
      " - 0s - loss: 0.7178 - acc: 0.8367\n",
      "Epoch 85/100\n",
      " - 0s - loss: 0.7081 - acc: 0.8338\n",
      "Epoch 86/100\n",
      " - 0s - loss: 0.6979 - acc: 0.8477\n",
      "Epoch 87/100\n",
      " - 0s - loss: 0.6879 - acc: 0.8428\n",
      "Epoch 88/100\n",
      " - 0s - loss: 0.6744 - acc: 0.8542\n",
      "Epoch 89/100\n",
      " - 0s - loss: 0.6665 - acc: 0.8477\n",
      "Epoch 90/100\n",
      " - 0s - loss: 0.6554 - acc: 0.8570\n",
      "Epoch 91/100\n",
      " - 0s - loss: 0.6482 - acc: 0.8525\n",
      "Epoch 92/100\n",
      " - 0s - loss: 0.6366 - acc: 0.8570\n",
      "Epoch 93/100\n",
      " - 0s - loss: 0.6300 - acc: 0.8627\n",
      "Epoch 94/100\n",
      " - 0s - loss: 0.6178 - acc: 0.8611\n",
      "Epoch 95/100\n",
      " - 0s - loss: 0.6102 - acc: 0.8635\n",
      "Epoch 96/100\n",
      " - 0s - loss: 0.6022 - acc: 0.8676\n",
      "Epoch 97/100\n",
      " - 0s - loss: 0.5904 - acc: 0.8664\n",
      "Epoch 98/100\n",
      " - 0s - loss: 0.5820 - acc: 0.8745\n",
      "Epoch 99/100\n",
      " - 0s - loss: 0.5748 - acc: 0.8778\n",
      "Epoch 100/100\n",
      " - 0s - loss: 0.5658 - acc: 0.8782\n"
     ]
    },
    {
     "data": {
      "text/plain": [
       "<keras.callbacks.History at 0x14b52908>"
      ]
     },
     "execution_count": 67,
     "metadata": {},
     "output_type": "execute_result"
    }
   ],
   "source": [
    "# Fit the model to the training data\n",
    "dl_model.fit(\n",
    "    X_train_scaled,\n",
    "    y_train_categorical,\n",
    "    epochs=100,\n",
    "    shuffle=True,\n",
    "    verbose=2\n",
    ")"
   ]
  },
  {
   "cell_type": "code",
   "execution_count": 55,
   "metadata": {},
   "outputs": [],
   "source": [
    "deep_model = Sequential()\n",
    "deep_model.add(Dense(units=100, activation='relu', input_dim=80))\n",
    "deep_model.add(Dense(units=100, activation='relu'))\n",
    "deep_model.add(Dense(units=696, activation='softmax'))"
   ]
  },
  {
   "cell_type": "code",
   "execution_count": 56,
   "metadata": {},
   "outputs": [
    {
     "name": "stdout",
     "output_type": "stream",
     "text": [
      "_________________________________________________________________\n",
      "Layer (type)                 Output Shape              Param #   \n",
      "=================================================================\n",
      "dense_11 (Dense)             (None, 100)               8100      \n",
      "_________________________________________________________________\n",
      "dense_12 (Dense)             (None, 100)               10100     \n",
      "_________________________________________________________________\n",
      "dense_13 (Dense)             (None, 696)               70296     \n",
      "=================================================================\n",
      "Total params: 88,496\n",
      "Trainable params: 88,496\n",
      "Non-trainable params: 0\n",
      "_________________________________________________________________\n"
     ]
    }
   ],
   "source": [
    "deep_model.summary()"
   ]
  },
  {
   "cell_type": "code",
   "execution_count": 57,
   "metadata": {},
   "outputs": [
    {
     "name": "stdout",
     "output_type": "stream",
     "text": [
      "Epoch 1/100\n",
      " - 1s - loss: 5.4950 - acc: 0.0403\n",
      "Epoch 2/100\n",
      " - 0s - loss: 4.4317 - acc: 0.0615\n",
      "Epoch 3/100\n",
      " - 0s - loss: 4.1306 - acc: 0.0851\n",
      "Epoch 4/100\n",
      " - 0s - loss: 3.8701 - acc: 0.1047\n",
      "Epoch 5/100\n",
      " - 0s - loss: 3.6631 - acc: 0.1320\n",
      "Epoch 6/100\n",
      " - 0s - loss: 3.4738 - acc: 0.1536\n",
      "Epoch 7/100\n",
      " - 0s - loss: 3.3026 - acc: 0.1695\n",
      "Epoch 8/100\n",
      " - 0s - loss: 3.1446 - acc: 0.1947\n",
      "Epoch 9/100\n",
      " - 0s - loss: 2.9926 - acc: 0.2269\n",
      "Epoch 10/100\n",
      " - 0s - loss: 2.8576 - acc: 0.2558\n",
      "Epoch 11/100\n",
      " - 0s - loss: 2.7289 - acc: 0.2839\n",
      "Epoch 12/100\n",
      " - 0s - loss: 2.6111 - acc: 0.3136\n",
      "Epoch 13/100\n",
      " - 0s - loss: 2.5022 - acc: 0.3446\n",
      "Epoch 14/100\n",
      " - 0s - loss: 2.4116 - acc: 0.3662\n",
      "Epoch 15/100\n",
      " - 0s - loss: 2.3128 - acc: 0.3898\n",
      "Epoch 16/100\n",
      " - 0s - loss: 2.2288 - acc: 0.4004\n",
      "Epoch 17/100\n",
      " - 0s - loss: 2.1343 - acc: 0.4297\n",
      "Epoch 18/100\n",
      " - 0s - loss: 2.0623 - acc: 0.4436\n",
      "Epoch 19/100\n",
      " - 0s - loss: 1.9783 - acc: 0.4811\n",
      "Epoch 20/100\n",
      " - 0s - loss: 1.8937 - acc: 0.4929\n",
      "Epoch 21/100\n",
      " - 0s - loss: 1.8371 - acc: 0.5063\n",
      "Epoch 22/100\n",
      " - 0s - loss: 1.7548 - acc: 0.5356\n",
      "Epoch 23/100\n",
      " - 0s - loss: 1.6987 - acc: 0.5544\n",
      "Epoch 24/100\n",
      " - 0s - loss: 1.6254 - acc: 0.5743\n",
      "Epoch 25/100\n",
      " - 0s - loss: 1.5638 - acc: 0.5829\n",
      "Epoch 26/100\n",
      " - 0s - loss: 1.5040 - acc: 0.6057\n",
      "Epoch 27/100\n",
      " - 0s - loss: 1.4507 - acc: 0.6175\n",
      "Epoch 28/100\n",
      " - 0s - loss: 1.3922 - acc: 0.6440\n",
      "Epoch 29/100\n",
      " - 0s - loss: 1.3388 - acc: 0.6587\n",
      "Epoch 30/100\n",
      " - 0s - loss: 1.2809 - acc: 0.6611\n",
      "Epoch 31/100\n",
      " - 0s - loss: 1.2317 - acc: 0.6811\n",
      "Epoch 32/100\n",
      " - 0s - loss: 1.1807 - acc: 0.6921\n",
      "Epoch 33/100\n",
      " - 0s - loss: 1.1338 - acc: 0.7051\n",
      "Epoch 34/100\n",
      " - 0s - loss: 1.0917 - acc: 0.7214\n",
      "Epoch 35/100\n",
      " - 0s - loss: 1.0399 - acc: 0.7409\n",
      "Epoch 36/100\n",
      " - 0s - loss: 0.9936 - acc: 0.7523\n",
      "Epoch 37/100\n",
      " - 0s - loss: 0.9546 - acc: 0.7621\n",
      "Epoch 38/100\n",
      " - 0s - loss: 0.9172 - acc: 0.7674\n",
      "Epoch 39/100\n",
      " - 0s - loss: 0.8719 - acc: 0.7947\n",
      "Epoch 40/100\n",
      " - 0s - loss: 0.8422 - acc: 0.7931\n",
      "Epoch 41/100\n",
      " - 0s - loss: 0.8061 - acc: 0.8073\n",
      "Epoch 42/100\n",
      " - 0s - loss: 0.7796 - acc: 0.8130\n",
      "Epoch 43/100\n",
      " - 0s - loss: 0.7411 - acc: 0.8383\n",
      "Epoch 44/100\n",
      " - 0s - loss: 0.7040 - acc: 0.8358\n",
      "Epoch 45/100\n",
      " - 0s - loss: 0.6692 - acc: 0.8468\n",
      "Epoch 46/100\n",
      " - 0s - loss: 0.6479 - acc: 0.8497\n",
      "Epoch 47/100\n",
      " - 0s - loss: 0.6087 - acc: 0.8701\n",
      "Epoch 48/100\n",
      " - 0s - loss: 0.5823 - acc: 0.8790\n",
      "Epoch 49/100\n",
      " - 0s - loss: 0.5598 - acc: 0.8827\n",
      "Epoch 50/100\n",
      " - 0s - loss: 0.5304 - acc: 0.8900\n",
      "Epoch 51/100\n",
      " - 0s - loss: 0.5059 - acc: 0.8986\n",
      "Epoch 52/100\n",
      " - 0s - loss: 0.4885 - acc: 0.8990\n",
      "Epoch 53/100\n",
      " - 0s - loss: 0.4552 - acc: 0.9124\n",
      "Epoch 54/100\n",
      " - 0s - loss: 0.4489 - acc: 0.9112\n",
      "Epoch 55/100\n",
      " - 0s - loss: 0.4177 - acc: 0.9124\n",
      "Epoch 56/100\n",
      " - 0s - loss: 0.3984 - acc: 0.9263\n",
      "Epoch 57/100\n",
      " - 0s - loss: 0.3807 - acc: 0.9360\n",
      "Epoch 58/100\n",
      " - 0s - loss: 0.3724 - acc: 0.9299\n",
      "Epoch 59/100\n",
      " - 0s - loss: 0.3461 - acc: 0.9409\n",
      "Epoch 60/100\n",
      " - 0s - loss: 0.3261 - acc: 0.9418\n",
      "Epoch 61/100\n",
      " - 0s - loss: 0.3163 - acc: 0.9491\n",
      "Epoch 62/100\n",
      " - 0s - loss: 0.2953 - acc: 0.9564\n",
      "Epoch 63/100\n",
      " - 0s - loss: 0.2868 - acc: 0.9527\n",
      "Epoch 64/100\n",
      " - 0s - loss: 0.2704 - acc: 0.9585\n",
      "Epoch 65/100\n",
      " - 0s - loss: 0.2559 - acc: 0.9609\n",
      "Epoch 66/100\n",
      " - 0s - loss: 0.2422 - acc: 0.9666\n",
      "Epoch 67/100\n",
      " - 0s - loss: 0.2314 - acc: 0.9699\n",
      "Epoch 68/100\n",
      " - 0s - loss: 0.2263 - acc: 0.9690\n",
      "Epoch 69/100\n",
      " - 0s - loss: 0.2086 - acc: 0.9756\n",
      "Epoch 70/100\n",
      " - 0s - loss: 0.1950 - acc: 0.9747\n",
      "Epoch 71/100\n",
      " - 0s - loss: 0.2010 - acc: 0.9752\n",
      "Epoch 72/100\n",
      " - 0s - loss: 0.1842 - acc: 0.9776\n",
      "Epoch 73/100\n",
      " - 0s - loss: 0.1774 - acc: 0.9792\n",
      "Epoch 74/100\n",
      " - 0s - loss: 0.1664 - acc: 0.9817\n",
      "Epoch 75/100\n",
      " - 0s - loss: 0.1568 - acc: 0.9813\n",
      "Epoch 76/100\n",
      " - 0s - loss: 0.1503 - acc: 0.9845\n",
      "Epoch 77/100\n",
      " - 0s - loss: 0.1418 - acc: 0.9849\n",
      "Epoch 78/100\n",
      " - 0s - loss: 0.1451 - acc: 0.9813\n",
      "Epoch 79/100\n",
      " - 0s - loss: 0.1372 - acc: 0.9857\n",
      "Epoch 80/100\n",
      " - 0s - loss: 0.1283 - acc: 0.9853\n",
      "Epoch 81/100\n",
      " - 0s - loss: 0.1255 - acc: 0.9857\n",
      "Epoch 82/100\n",
      " - 0s - loss: 0.1167 - acc: 0.9862\n",
      "Epoch 83/100\n",
      " - 0s - loss: 0.1131 - acc: 0.9878\n",
      "Epoch 84/100\n",
      " - 0s - loss: 0.1078 - acc: 0.9882\n",
      "Epoch 85/100\n",
      " - 0s - loss: 0.1026 - acc: 0.9874\n",
      "Epoch 86/100\n",
      " - 0s - loss: 0.1035 - acc: 0.9870\n",
      "Epoch 87/100\n",
      " - 0s - loss: 0.0998 - acc: 0.9866\n",
      "Epoch 88/100\n",
      " - 0s - loss: 0.0888 - acc: 0.9898\n",
      "Epoch 89/100\n",
      " - 0s - loss: 0.0932 - acc: 0.9894\n",
      "Epoch 90/100\n",
      " - 0s - loss: 0.0923 - acc: 0.9882\n",
      "Epoch 91/100\n",
      " - 0s - loss: 0.0866 - acc: 0.9882\n",
      "Epoch 92/100\n",
      " - 0s - loss: 0.0824 - acc: 0.9882\n",
      "Epoch 93/100\n",
      " - 0s - loss: 0.0847 - acc: 0.9870\n",
      "Epoch 94/100\n",
      " - 0s - loss: 0.0837 - acc: 0.9878\n",
      "Epoch 95/100\n",
      " - 0s - loss: 0.0773 - acc: 0.9890\n",
      "Epoch 96/100\n",
      " - 0s - loss: 0.0795 - acc: 0.9890\n",
      "Epoch 97/100\n",
      " - 0s - loss: 0.0738 - acc: 0.9906\n",
      "Epoch 98/100\n",
      " - 0s - loss: 0.0736 - acc: 0.9882\n",
      "Epoch 99/100\n",
      " - 0s - loss: 0.0762 - acc: 0.9886\n",
      "Epoch 100/100\n",
      " - 0s - loss: 0.0716 - acc: 0.9878\n"
     ]
    },
    {
     "data": {
      "text/plain": [
       "<keras.callbacks.History at 0x18358358>"
      ]
     },
     "execution_count": 57,
     "metadata": {},
     "output_type": "execute_result"
    }
   ],
   "source": [
    "deep_model.compile(optimizer='adam',\n",
    "                   loss='categorical_crossentropy',\n",
    "                   metrics=['accuracy'])\n",
    "\n",
    "deep_model.fit(\n",
    "    X_train_scaled,\n",
    "    y_train_categorical,\n",
    "    epochs=100,\n",
    "    shuffle=True,\n",
    "    verbose=2\n",
    ")"
   ]
  },
  {
   "cell_type": "code",
   "execution_count": 59,
   "metadata": {},
   "outputs": [
    {
     "ename": "ValueError",
     "evalue": "Error when checking target: expected dense_10 to have shape (696,) but got array with shape (630,)",
     "output_type": "error",
     "traceback": [
      "\u001b[1;31m---------------------------------------------------------------------------\u001b[0m",
      "\u001b[1;31mValueError\u001b[0m                                Traceback (most recent call last)",
      "\u001b[1;32m<ipython-input-59-985f22f902ae>\u001b[0m in \u001b[0;36m<module>\u001b[1;34m()\u001b[0m\n\u001b[0;32m      1\u001b[0m model_loss, model_accuracy = dl_model.evaluate(\n\u001b[1;32m----> 2\u001b[1;33m     X_test_scaled, y_test_categorical, verbose=2)\n\u001b[0m\u001b[0;32m      3\u001b[0m print(\n\u001b[0;32m      4\u001b[0m     f\"Normal Neural Network - Loss: {model_loss}, Accuracy: {model_accuracy}\")\n",
      "\u001b[1;32mC:\\ProgramData\\Anaconda3\\lib\\site-packages\\keras\\engine\\training.py\u001b[0m in \u001b[0;36mevaluate\u001b[1;34m(self, x, y, batch_size, verbose, sample_weight, steps)\u001b[0m\n\u001b[0;32m   1100\u001b[0m             \u001b[0mx\u001b[0m\u001b[1;33m,\u001b[0m \u001b[0my\u001b[0m\u001b[1;33m,\u001b[0m\u001b[1;33m\u001b[0m\u001b[0m\n\u001b[0;32m   1101\u001b[0m             \u001b[0msample_weight\u001b[0m\u001b[1;33m=\u001b[0m\u001b[0msample_weight\u001b[0m\u001b[1;33m,\u001b[0m\u001b[1;33m\u001b[0m\u001b[0m\n\u001b[1;32m-> 1102\u001b[1;33m             batch_size=batch_size)\n\u001b[0m\u001b[0;32m   1103\u001b[0m         \u001b[1;31m# Prepare inputs, delegate logic to `test_loop`.\u001b[0m\u001b[1;33m\u001b[0m\u001b[1;33m\u001b[0m\u001b[0m\n\u001b[0;32m   1104\u001b[0m         \u001b[1;32mif\u001b[0m \u001b[0mself\u001b[0m\u001b[1;33m.\u001b[0m\u001b[0m_uses_dynamic_learning_phase\u001b[0m\u001b[1;33m(\u001b[0m\u001b[1;33m)\u001b[0m\u001b[1;33m:\u001b[0m\u001b[1;33m\u001b[0m\u001b[0m\n",
      "\u001b[1;32mC:\\ProgramData\\Anaconda3\\lib\\site-packages\\keras\\engine\\training.py\u001b[0m in \u001b[0;36m_standardize_user_data\u001b[1;34m(self, x, y, sample_weight, class_weight, check_array_lengths, batch_size)\u001b[0m\n\u001b[0;32m    787\u001b[0m                 \u001b[0mfeed_output_shapes\u001b[0m\u001b[1;33m,\u001b[0m\u001b[1;33m\u001b[0m\u001b[0m\n\u001b[0;32m    788\u001b[0m                 \u001b[0mcheck_batch_axis\u001b[0m\u001b[1;33m=\u001b[0m\u001b[1;32mFalse\u001b[0m\u001b[1;33m,\u001b[0m  \u001b[1;31m# Don't enforce the batch size.\u001b[0m\u001b[1;33m\u001b[0m\u001b[0m\n\u001b[1;32m--> 789\u001b[1;33m                 exception_prefix='target')\n\u001b[0m\u001b[0;32m    790\u001b[0m \u001b[1;33m\u001b[0m\u001b[0m\n\u001b[0;32m    791\u001b[0m             \u001b[1;31m# Generate sample-wise weight values given the `sample_weight` and\u001b[0m\u001b[1;33m\u001b[0m\u001b[1;33m\u001b[0m\u001b[0m\n",
      "\u001b[1;32mC:\\ProgramData\\Anaconda3\\lib\\site-packages\\keras\\engine\\training_utils.py\u001b[0m in \u001b[0;36mstandardize_input_data\u001b[1;34m(data, names, shapes, check_batch_axis, exception_prefix)\u001b[0m\n\u001b[0;32m    136\u001b[0m                             \u001b[1;34m': expected '\u001b[0m \u001b[1;33m+\u001b[0m \u001b[0mnames\u001b[0m\u001b[1;33m[\u001b[0m\u001b[0mi\u001b[0m\u001b[1;33m]\u001b[0m \u001b[1;33m+\u001b[0m \u001b[1;34m' to have shape '\u001b[0m \u001b[1;33m+\u001b[0m\u001b[1;33m\u001b[0m\u001b[0m\n\u001b[0;32m    137\u001b[0m                             \u001b[0mstr\u001b[0m\u001b[1;33m(\u001b[0m\u001b[0mshape\u001b[0m\u001b[1;33m)\u001b[0m \u001b[1;33m+\u001b[0m \u001b[1;34m' but got array with shape '\u001b[0m \u001b[1;33m+\u001b[0m\u001b[1;33m\u001b[0m\u001b[0m\n\u001b[1;32m--> 138\u001b[1;33m                             str(data_shape))\n\u001b[0m\u001b[0;32m    139\u001b[0m     \u001b[1;32mreturn\u001b[0m \u001b[0mdata\u001b[0m\u001b[1;33m\u001b[0m\u001b[0m\n\u001b[0;32m    140\u001b[0m \u001b[1;33m\u001b[0m\u001b[0m\n",
      "\u001b[1;31mValueError\u001b[0m: Error when checking target: expected dense_10 to have shape (696,) but got array with shape (630,)"
     ]
    }
   ],
   "source": [
    "model_loss, model_accuracy = dl_model.evaluate(\n",
    "    X_test_scaled, y_test_categorical, verbose=2)\n",
    "print(\n",
    "    f\"Normal Neural Network - Loss: {model_loss}, Accuracy: {model_accuracy}\")"
   ]
  },
  {
   "cell_type": "code",
   "execution_count": 68,
   "metadata": {},
   "outputs": [
    {
     "ename": "ValueError",
     "evalue": "Error when checking target: expected dense_13 to have shape (696,) but got array with shape (630,)",
     "output_type": "error",
     "traceback": [
      "\u001b[1;31m---------------------------------------------------------------------------\u001b[0m",
      "\u001b[1;31mValueError\u001b[0m                                Traceback (most recent call last)",
      "\u001b[1;32m<ipython-input-68-113d6f0d4daf>\u001b[0m in \u001b[0;36m<module>\u001b[1;34m()\u001b[0m\n\u001b[0;32m      1\u001b[0m model_loss, model_accuracy = deep_model.evaluate(\n\u001b[1;32m----> 2\u001b[1;33m     X_test_scaled, y_test_categorical, verbose=2)\n\u001b[0m\u001b[0;32m      3\u001b[0m \u001b[0mprint\u001b[0m\u001b[1;33m(\u001b[0m\u001b[1;34mf\"Deep Neural Network - Loss: {model_loss}, Accuracy: {model_accuracy}\"\u001b[0m\u001b[1;33m)\u001b[0m\u001b[1;33m\u001b[0m\u001b[0m\n",
      "\u001b[1;32mC:\\ProgramData\\Anaconda3\\lib\\site-packages\\keras\\engine\\training.py\u001b[0m in \u001b[0;36mevaluate\u001b[1;34m(self, x, y, batch_size, verbose, sample_weight, steps)\u001b[0m\n\u001b[0;32m   1100\u001b[0m             \u001b[0mx\u001b[0m\u001b[1;33m,\u001b[0m \u001b[0my\u001b[0m\u001b[1;33m,\u001b[0m\u001b[1;33m\u001b[0m\u001b[0m\n\u001b[0;32m   1101\u001b[0m             \u001b[0msample_weight\u001b[0m\u001b[1;33m=\u001b[0m\u001b[0msample_weight\u001b[0m\u001b[1;33m,\u001b[0m\u001b[1;33m\u001b[0m\u001b[0m\n\u001b[1;32m-> 1102\u001b[1;33m             batch_size=batch_size)\n\u001b[0m\u001b[0;32m   1103\u001b[0m         \u001b[1;31m# Prepare inputs, delegate logic to `test_loop`.\u001b[0m\u001b[1;33m\u001b[0m\u001b[1;33m\u001b[0m\u001b[0m\n\u001b[0;32m   1104\u001b[0m         \u001b[1;32mif\u001b[0m \u001b[0mself\u001b[0m\u001b[1;33m.\u001b[0m\u001b[0m_uses_dynamic_learning_phase\u001b[0m\u001b[1;33m(\u001b[0m\u001b[1;33m)\u001b[0m\u001b[1;33m:\u001b[0m\u001b[1;33m\u001b[0m\u001b[0m\n",
      "\u001b[1;32mC:\\ProgramData\\Anaconda3\\lib\\site-packages\\keras\\engine\\training.py\u001b[0m in \u001b[0;36m_standardize_user_data\u001b[1;34m(self, x, y, sample_weight, class_weight, check_array_lengths, batch_size)\u001b[0m\n\u001b[0;32m    787\u001b[0m                 \u001b[0mfeed_output_shapes\u001b[0m\u001b[1;33m,\u001b[0m\u001b[1;33m\u001b[0m\u001b[0m\n\u001b[0;32m    788\u001b[0m                 \u001b[0mcheck_batch_axis\u001b[0m\u001b[1;33m=\u001b[0m\u001b[1;32mFalse\u001b[0m\u001b[1;33m,\u001b[0m  \u001b[1;31m# Don't enforce the batch size.\u001b[0m\u001b[1;33m\u001b[0m\u001b[0m\n\u001b[1;32m--> 789\u001b[1;33m                 exception_prefix='target')\n\u001b[0m\u001b[0;32m    790\u001b[0m \u001b[1;33m\u001b[0m\u001b[0m\n\u001b[0;32m    791\u001b[0m             \u001b[1;31m# Generate sample-wise weight values given the `sample_weight` and\u001b[0m\u001b[1;33m\u001b[0m\u001b[1;33m\u001b[0m\u001b[0m\n",
      "\u001b[1;32mC:\\ProgramData\\Anaconda3\\lib\\site-packages\\keras\\engine\\training_utils.py\u001b[0m in \u001b[0;36mstandardize_input_data\u001b[1;34m(data, names, shapes, check_batch_axis, exception_prefix)\u001b[0m\n\u001b[0;32m    136\u001b[0m                             \u001b[1;34m': expected '\u001b[0m \u001b[1;33m+\u001b[0m \u001b[0mnames\u001b[0m\u001b[1;33m[\u001b[0m\u001b[0mi\u001b[0m\u001b[1;33m]\u001b[0m \u001b[1;33m+\u001b[0m \u001b[1;34m' to have shape '\u001b[0m \u001b[1;33m+\u001b[0m\u001b[1;33m\u001b[0m\u001b[0m\n\u001b[0;32m    137\u001b[0m                             \u001b[0mstr\u001b[0m\u001b[1;33m(\u001b[0m\u001b[0mshape\u001b[0m\u001b[1;33m)\u001b[0m \u001b[1;33m+\u001b[0m \u001b[1;34m' but got array with shape '\u001b[0m \u001b[1;33m+\u001b[0m\u001b[1;33m\u001b[0m\u001b[0m\n\u001b[1;32m--> 138\u001b[1;33m                             str(data_shape))\n\u001b[0m\u001b[0;32m    139\u001b[0m     \u001b[1;32mreturn\u001b[0m \u001b[0mdata\u001b[0m\u001b[1;33m\u001b[0m\u001b[0m\n\u001b[0;32m    140\u001b[0m \u001b[1;33m\u001b[0m\u001b[0m\n",
      "\u001b[1;31mValueError\u001b[0m: Error when checking target: expected dense_13 to have shape (696,) but got array with shape (630,)"
     ]
    }
   ],
   "source": [
    "model_loss, model_accuracy = deep_model.evaluate(\n",
    "    X_test_scaled, y_test_categorical, verbose=2)\n",
    "print(f\"Deep Neural Network - Loss: {model_loss}, Accuracy: {model_accuracy}\")"
   ]
  },
  {
   "cell_type": "code",
   "execution_count": 69,
   "metadata": {},
   "outputs": [],
   "source": [
    "# Save the model\n",
    "dl_model.save(\"dl_airbnb_trained.h5\")\n",
    "deep_model.save(\"deep_airbnb_trained.h5\")"
   ]
  },
  {
   "cell_type": "code",
   "execution_count": null,
   "metadata": {},
   "outputs": [],
   "source": [
    "# Load the model\n",
    "from keras.models import load_model\n",
    "dl_airbnb_model = load_model(\"dl_airbnb_trained.h5\")\n",
    "deep_airbnb_model = load_model(\"deep_airbnb_trained.h5\")"
   ]
  },
  {
   "cell_type": "code",
   "execution_count": null,
   "metadata": {},
   "outputs": [],
   "source": [
    "model_loss, model_accuracy = dl_airbnb_model.evaluate(\n",
    "    X_test_scaled, y_test_categorical, verbose=2)\n",
    "print(\n",
    "    f\"Normal Neural Network - Loss: {model_loss}, Accuracy: {model_accuracy}\")"
   ]
  },
  {
   "cell_type": "code",
   "execution_count": null,
   "metadata": {},
   "outputs": [],
   "source": [
    "model_loss, model_accuracy = deep_airbnb_model.evaluate(\n",
    "    X_test_scaled, y_test_categorical, verbose=2)\n",
    "print(\n",
    "    f\"Normal Neural Network - Loss: {model_loss}, Accuracy: {model_accuracy}\")"
   ]
  },
  {
   "cell_type": "markdown",
   "metadata": {},
   "source": [
    "# XGBOOST"
   ]
  },
  {
   "cell_type": "code",
   "execution_count": 81,
   "metadata": {},
   "outputs": [
    {
     "name": "stderr",
     "output_type": "stream",
     "text": [
      "C:\\ProgramData\\Anaconda3\\lib\\site-packages\\xgboost\\core.py:587: FutureWarning: Series.base is deprecated and will be removed in a future version\n",
      "  if getattr(data, 'base', None) is not None and \\\n"
     ]
    },
    {
     "name": "stdout",
     "output_type": "stream",
     "text": [
      "MSE train: 447.657, test: 1741.269\n",
      "R^2 train: 0.946, test: 0.755\n",
      "----------------------------------\n",
      "41.73\n"
     ]
    }
   ],
   "source": [
    "#train XGBoost model\n",
    "xgb = xgboost.XGBRegressor(n_estimators=100, learning_rate=0.08, gamma=0, subsample=0.75,\n",
    "                           colsample_bytree=1, max_depth=7)\n",
    "xgb.fit(X_train,y_train)\n",
    "\n",
    "#calculate and print scores for the model for top 15 features\n",
    "y_train_preds = xgb.predict(X_train)\n",
    "y_test_preds = xgb.predict(X_test)\n",
    "\n",
    "print('MSE train: %.3f, test: %.3f' % (\n",
    "        mean_squared_error(y_train, y_train_preds),\n",
    "        mean_squared_error(y_test, y_test_preds)))\n",
    "print('R^2 train: %.3f, test: %.3f' % (\n",
    "        r2_score(y_train, y_train_preds),\n",
    "        r2_score(y_test, y_test_preds)))\n",
    "print('----------------------------------')\n",
    "MSE = mean_squared_error(y_test, y_test_preds)\n",
    "Error = round(math.sqrt(MSE),2)\n",
    "print(Error)\n",
    "xgboost = r2_score(y_test, y_test_preds)"
   ]
  },
  {
   "cell_type": "code",
   "execution_count": 77,
   "metadata": {},
   "outputs": [
    {
     "data": {
      "image/png": "[encoded data removed]",
      "text/plain": [
       "<Figure size 720x360 with 1 Axes>"
      ]
     },
     "metadata": {
      "needs_background": "light"
     },
     "output_type": "display_data"
    }
   ],
   "source": [
    "#get feature importances from the model\n",
    "headers = [\"name\", \"score\"]\n",
    "values = sorted(zip(X_train.columns, xgb.feature_importances_), key=lambda x: x[1] * -1)\n",
    "xgb_feature_importances = pd.DataFrame(values, columns = headers)\n",
    "\n",
    "#plot feature importances for top 15 features\n",
    "features = xgb_feature_importances['name'][:15]\n",
    "y_pos = np.arange(len(features))\n",
    "scores = xgb_feature_importances['score'][:15]\n",
    " \n",
    "plt.figure(figsize=(10,5))\n",
    "plt.bar(y_pos, scores, align='center', alpha=0.5)\n",
    "plt.xticks(y_pos, features, rotation='vertical')\n",
    "plt.ylabel('Score')\n",
    "plt.xlabel('Features')\n",
    "plt.title('Feature importances (XGBoost)')\n",
    "\n",
    "plt.savefig('Figures/feature importances XGB.png')\n",
    " \n",
    "plt.show()"
   ]
  },
  {
   "cell_type": "markdown",
   "metadata": {},
   "source": [
    "# Reporting Series"
   ]
  },
  {
   "cell_type": "code",
   "execution_count": 82,
   "metadata": {},
   "outputs": [
    {
     "data": {
      "text/plain": [
       "Linear Regression    [0.6201763709846374]\n",
       "Random Forest        [0.6470401734937424]\n",
       "XGBBoost                         0.754953\n",
       "dtype: object"
      ]
     },
     "execution_count": 82,
     "metadata": {},
     "output_type": "execute_result"
    }
   ],
   "source": [
    "compare = pd.Series([linear_regression, random_forest, xgboost], index = [\"Linear Regression\",\"Random Forest\",\"XGBBoost\"])\n",
    "compare"
   ]
  }
 ],
 "metadata": {
  "kernelspec": {
   "display_name": "Python 3",
   "language": "python",
   "name": "python3"
  },
  "language_info": {
   "codemirror_mode": {
    "name": "ipython",
    "version": 3
   },
   "file_extension": ".py",
   "mimetype": "text/x-python",
   "name": "python",
   "nbconvert_exporter": "python",
   "pygments_lexer": "ipython3",
   "version": "3.7.0"
  }
 },
 "nbformat": 4,
 "nbformat_minor": 2
}
