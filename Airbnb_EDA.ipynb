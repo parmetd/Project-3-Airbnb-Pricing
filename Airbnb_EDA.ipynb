{
 "cells": [
  {
   "cell_type": "markdown",
   "metadata": {},
   "source": [
    "# Exploratory Data Analysis (EDA)\n",
    "### Initial data preprocessing and exploration on airbnb 10/3/2015 dataset and cleaning it to turn into a golden_airbnb version for EDA"
   ]
  },
  {
   "cell_type": "code",
   "execution_count": 1,
   "metadata": {},
   "outputs": [
    {
     "name": "stderr",
     "output_type": "stream",
     "text": [
      "Using TensorFlow backend.\n",
      "C:\\ProgramData\\Anaconda3\\lib\\site-packages\\sklearn\\ensemble\\weight_boosting.py:29: DeprecationWarning: numpy.core.umath_tests is an internal NumPy module and should not be imported. It will be removed in a future NumPy release.\n",
      "  from numpy.core.umath_tests import inner1d\n"
     ]
    }
   ],
   "source": [
    "#dependencies\n",
    "%matplotlib inline\n",
    "import pandas as pd\n",
    "import numpy as np\n",
    "import matplotlib.pyplot as plt\n",
    "from sklearn.model_selection import train_test_split\n",
    "from sklearn.preprocessing import StandardScaler\n",
    "from sklearn.linear_model import LinearRegression\n",
    "from sklearn.metrics import mean_squared_error\n",
    "from sklearn.linear_model import Lasso\n",
    "from sklearn.linear_model import Ridge\n",
    "from sklearn.linear_model import ElasticNet\n",
    "from sklearn.datasets import make_regression\n",
    "from mpl_toolkits.mplot3d import Axes3D\n",
    "from sklearn.metrics import accuracy_score\n",
    "from sklearn.model_selection import cross_val_score\n",
    "from sklearn.metrics import classification_report\n",
    "from sklearn.neighbors import KNeighborsClassifier\n",
    "from sklearn.cluster import KMeans\n",
    "from keras.models import Sequential\n",
    "from keras.layers import Dense\n",
    "import graphviz\n",
    "import pydotplus\n",
    "from sklearn import tree\n",
    "from sklearn.ensemble import RandomForestClassifier\n",
    "from keras.models import load_model\n",
    "from sklearn.svm import SVC\n",
    "from sklearn.datasets import make_classification\n",
    "from sklearn.decomposition import PCA\n",
    "from sklearn.linear_model import SGDClassifier\n",
    "from sklearn.pipeline import Pipeline\n",
    "from sklearn.model_selection import GridSearchCV\n",
    "from sklearn.preprocessing import StandardScaler\n"
   ]
  },
  {
   "cell_type": "code",
   "execution_count": 2,
   "metadata": {},
   "outputs": [
    {
     "data": {
      "text/html": [
       "<div>\n",
       "<style scoped>\n",
       "    .dataframe tbody tr th:only-of-type {\n",
       "        vertical-align: middle;\n",
       "    }\n",
       "\n",
       "    .dataframe tbody tr th {\n",
       "        vertical-align: top;\n",
       "    }\n",
       "\n",
       "    .dataframe thead th {\n",
       "        text-align: right;\n",
       "    }\n",
       "</style>\n",
       "<table border=\"1\" class=\"dataframe\">\n",
       "  <thead>\n",
       "    <tr style=\"text-align: right;\">\n",
       "      <th></th>\n",
       "      <th>id</th>\n",
       "      <th>listing_url</th>\n",
       "      <th>scrape_id</th>\n",
       "      <th>last_scraped</th>\n",
       "      <th>name</th>\n",
       "      <th>summary</th>\n",
       "      <th>space</th>\n",
       "      <th>description</th>\n",
       "      <th>experiences_offered</th>\n",
       "      <th>neighborhood_overview</th>\n",
       "      <th>...</th>\n",
       "      <th>review_scores_value</th>\n",
       "      <th>requires_license</th>\n",
       "      <th>license</th>\n",
       "      <th>jurisdiction_names</th>\n",
       "      <th>instant_bookable</th>\n",
       "      <th>cancellation_policy</th>\n",
       "      <th>require_guest_profile_picture</th>\n",
       "      <th>require_guest_phone_verification</th>\n",
       "      <th>calculated_host_listings_count</th>\n",
       "      <th>reviews_per_month</th>\n",
       "    </tr>\n",
       "  </thead>\n",
       "  <tbody>\n",
       "    <tr>\n",
       "      <th>0</th>\n",
       "      <td>7087327</td>\n",
       "      <td>https://www.airbnb.com/rooms/7087327</td>\n",
       "      <td>20151002231825</td>\n",
       "      <td>2015-10-03</td>\n",
       "      <td>Historic DC Condo-Walk to Capitol!</td>\n",
       "      <td>Professional pictures coming soon! Welcome to ...</td>\n",
       "      <td>NaN</td>\n",
       "      <td>Professional pictures coming soon! Welcome to ...</td>\n",
       "      <td>none</td>\n",
       "      <td>NaN</td>\n",
       "      <td>...</td>\n",
       "      <td>NaN</td>\n",
       "      <td>f</td>\n",
       "      <td>NaN</td>\n",
       "      <td>DISTRICT OF COLUMBIA, WASHINGTON</td>\n",
       "      <td>f</td>\n",
       "      <td>flexible</td>\n",
       "      <td>f</td>\n",
       "      <td>f</td>\n",
       "      <td>18</td>\n",
       "      <td>NaN</td>\n",
       "    </tr>\n",
       "    <tr>\n",
       "      <th>1</th>\n",
       "      <td>975833</td>\n",
       "      <td>https://www.airbnb.com/rooms/975833</td>\n",
       "      <td>20151002231825</td>\n",
       "      <td>2015-10-03</td>\n",
       "      <td>Spacious Capitol Hill Townhouse</td>\n",
       "      <td>NaN</td>\n",
       "      <td>Beautifully renovated Capitol Hill townhouse. ...</td>\n",
       "      <td>Beautifully renovated Capitol Hill townhouse. ...</td>\n",
       "      <td>none</td>\n",
       "      <td>NaN</td>\n",
       "      <td>...</td>\n",
       "      <td>9.0</td>\n",
       "      <td>f</td>\n",
       "      <td>NaN</td>\n",
       "      <td>DISTRICT OF COLUMBIA, WASHINGTON</td>\n",
       "      <td>f</td>\n",
       "      <td>strict</td>\n",
       "      <td>f</td>\n",
       "      <td>f</td>\n",
       "      <td>1</td>\n",
       "      <td>2.11</td>\n",
       "    </tr>\n",
       "    <tr>\n",
       "      <th>2</th>\n",
       "      <td>8249488</td>\n",
       "      <td>https://www.airbnb.com/rooms/8249488</td>\n",
       "      <td>20151002231825</td>\n",
       "      <td>2015-10-03</td>\n",
       "      <td>Spacious/private room for single</td>\n",
       "      <td>This is an ideal room for a single traveler th...</td>\n",
       "      <td>NaN</td>\n",
       "      <td>This is an ideal room for a single traveler th...</td>\n",
       "      <td>none</td>\n",
       "      <td>NaN</td>\n",
       "      <td>...</td>\n",
       "      <td>NaN</td>\n",
       "      <td>f</td>\n",
       "      <td>NaN</td>\n",
       "      <td>NaN</td>\n",
       "      <td>f</td>\n",
       "      <td>flexible</td>\n",
       "      <td>f</td>\n",
       "      <td>f</td>\n",
       "      <td>1</td>\n",
       "      <td>1.00</td>\n",
       "    </tr>\n",
       "    <tr>\n",
       "      <th>3</th>\n",
       "      <td>8409022</td>\n",
       "      <td>https://www.airbnb.com/rooms/8409022</td>\n",
       "      <td>20151002231825</td>\n",
       "      <td>2015-10-03</td>\n",
       "      <td>A wonderful bedroom with library</td>\n",
       "      <td>Prime location right on the Potomac River in W...</td>\n",
       "      <td>NaN</td>\n",
       "      <td>Prime location right on the Potomac River in W...</td>\n",
       "      <td>none</td>\n",
       "      <td>NaN</td>\n",
       "      <td>...</td>\n",
       "      <td>NaN</td>\n",
       "      <td>f</td>\n",
       "      <td>NaN</td>\n",
       "      <td>DISTRICT OF COLUMBIA, WASHINGTON</td>\n",
       "      <td>f</td>\n",
       "      <td>flexible</td>\n",
       "      <td>f</td>\n",
       "      <td>f</td>\n",
       "      <td>1</td>\n",
       "      <td>NaN</td>\n",
       "    </tr>\n",
       "    <tr>\n",
       "      <th>4</th>\n",
       "      <td>8411173</td>\n",
       "      <td>https://www.airbnb.com/rooms/8411173</td>\n",
       "      <td>20151002231825</td>\n",
       "      <td>2015-10-03</td>\n",
       "      <td>Downtown Silver Spring</td>\n",
       "      <td>Hi travellers! I live in this peaceful spot, b...</td>\n",
       "      <td>This is a 750 sq ft 1 bedroom 1 bathroom.  Whi...</td>\n",
       "      <td>Hi travellers! I live in this peaceful spot, b...</td>\n",
       "      <td>none</td>\n",
       "      <td>Silver Spring is booming.  You can walk to a n...</td>\n",
       "      <td>...</td>\n",
       "      <td>NaN</td>\n",
       "      <td>f</td>\n",
       "      <td>NaN</td>\n",
       "      <td>NaN</td>\n",
       "      <td>f</td>\n",
       "      <td>flexible</td>\n",
       "      <td>f</td>\n",
       "      <td>f</td>\n",
       "      <td>1</td>\n",
       "      <td>NaN</td>\n",
       "    </tr>\n",
       "  </tbody>\n",
       "</table>\n",
       "<p>5 rows × 92 columns</p>\n",
       "</div>"
      ],
      "text/plain": [
       "        id                           listing_url       scrape_id last_scraped  \\\n",
       "0  7087327  https://www.airbnb.com/rooms/7087327  20151002231825   2015-10-03   \n",
       "1   975833   https://www.airbnb.com/rooms/975833  20151002231825   2015-10-03   \n",
       "2  8249488  https://www.airbnb.com/rooms/8249488  20151002231825   2015-10-03   \n",
       "3  8409022  https://www.airbnb.com/rooms/8409022  20151002231825   2015-10-03   \n",
       "4  8411173  https://www.airbnb.com/rooms/8411173  20151002231825   2015-10-03   \n",
       "\n",
       "                                 name  \\\n",
       "0  Historic DC Condo-Walk to Capitol!   \n",
       "1     Spacious Capitol Hill Townhouse   \n",
       "2    Spacious/private room for single   \n",
       "3    A wonderful bedroom with library   \n",
       "4              Downtown Silver Spring   \n",
       "\n",
       "                                             summary  \\\n",
       "0  Professional pictures coming soon! Welcome to ...   \n",
       "1                                                NaN   \n",
       "2  This is an ideal room for a single traveler th...   \n",
       "3  Prime location right on the Potomac River in W...   \n",
       "4  Hi travellers! I live in this peaceful spot, b...   \n",
       "\n",
       "                                               space  \\\n",
       "0                                                NaN   \n",
       "1  Beautifully renovated Capitol Hill townhouse. ...   \n",
       "2                                                NaN   \n",
       "3                                                NaN   \n",
       "4  This is a 750 sq ft 1 bedroom 1 bathroom.  Whi...   \n",
       "\n",
       "                                         description experiences_offered  \\\n",
       "0  Professional pictures coming soon! Welcome to ...                none   \n",
       "1  Beautifully renovated Capitol Hill townhouse. ...                none   \n",
       "2  This is an ideal room for a single traveler th...                none   \n",
       "3  Prime location right on the Potomac River in W...                none   \n",
       "4  Hi travellers! I live in this peaceful spot, b...                none   \n",
       "\n",
       "                               neighborhood_overview        ...         \\\n",
       "0                                                NaN        ...          \n",
       "1                                                NaN        ...          \n",
       "2                                                NaN        ...          \n",
       "3                                                NaN        ...          \n",
       "4  Silver Spring is booming.  You can walk to a n...        ...          \n",
       "\n",
       "  review_scores_value requires_license license  \\\n",
       "0                 NaN                f     NaN   \n",
       "1                 9.0                f     NaN   \n",
       "2                 NaN                f     NaN   \n",
       "3                 NaN                f     NaN   \n",
       "4                 NaN                f     NaN   \n",
       "\n",
       "                 jurisdiction_names instant_bookable cancellation_policy  \\\n",
       "0  DISTRICT OF COLUMBIA, WASHINGTON                f            flexible   \n",
       "1  DISTRICT OF COLUMBIA, WASHINGTON                f              strict   \n",
       "2                               NaN                f            flexible   \n",
       "3  DISTRICT OF COLUMBIA, WASHINGTON                f            flexible   \n",
       "4                               NaN                f            flexible   \n",
       "\n",
       "   require_guest_profile_picture require_guest_phone_verification  \\\n",
       "0                              f                                f   \n",
       "1                              f                                f   \n",
       "2                              f                                f   \n",
       "3                              f                                f   \n",
       "4                              f                                f   \n",
       "\n",
       "  calculated_host_listings_count reviews_per_month  \n",
       "0                             18               NaN  \n",
       "1                              1              2.11  \n",
       "2                              1              1.00  \n",
       "3                              1               NaN  \n",
       "4                              1               NaN  \n",
       "\n",
       "[5 rows x 92 columns]"
      ]
     },
     "execution_count": 2,
     "metadata": {},
     "output_type": "execute_result"
    }
   ],
   "source": [
    "# Read the csv file into a pandas DataFrame\n",
    "\n",
    "airbnb = pd.read_csv('listings.csv')\n",
    "airbnb.head()"
   ]
  },
  {
   "cell_type": "code",
   "execution_count": 3,
   "metadata": {},
   "outputs": [
    {
     "data": {
      "text/html": [
       "<div>\n",
       "<style scoped>\n",
       "    .dataframe tbody tr th:only-of-type {\n",
       "        vertical-align: middle;\n",
       "    }\n",
       "\n",
       "    .dataframe tbody tr th {\n",
       "        vertical-align: top;\n",
       "    }\n",
       "\n",
       "    .dataframe thead th {\n",
       "        text-align: right;\n",
       "    }\n",
       "</style>\n",
       "<table border=\"1\" class=\"dataframe\">\n",
       "  <thead>\n",
       "    <tr style=\"text-align: right;\">\n",
       "      <th></th>\n",
       "      <th>id</th>\n",
       "      <th>listing_url</th>\n",
       "      <th>scrape_id</th>\n",
       "      <th>last_scraped</th>\n",
       "      <th>name</th>\n",
       "      <th>summary</th>\n",
       "      <th>space</th>\n",
       "      <th>description</th>\n",
       "      <th>experiences_offered</th>\n",
       "      <th>neighborhood_overview</th>\n",
       "      <th>...</th>\n",
       "      <th>review_scores_value</th>\n",
       "      <th>requires_license</th>\n",
       "      <th>license</th>\n",
       "      <th>jurisdiction_names</th>\n",
       "      <th>instant_bookable</th>\n",
       "      <th>cancellation_policy</th>\n",
       "      <th>require_guest_profile_picture</th>\n",
       "      <th>require_guest_phone_verification</th>\n",
       "      <th>calculated_host_listings_count</th>\n",
       "      <th>reviews_per_month</th>\n",
       "    </tr>\n",
       "  </thead>\n",
       "  <tbody>\n",
       "    <tr>\n",
       "      <th>3718</th>\n",
       "      <td>1544877</td>\n",
       "      <td>https://www.airbnb.com/rooms/1544877</td>\n",
       "      <td>20151002231825</td>\n",
       "      <td>2015-10-03</td>\n",
       "      <td>Capitol Hill, DC - Great Location!</td>\n",
       "      <td>Fully furnished apartment ( 1 bedroom, 1 bath,...</td>\n",
       "      <td>Historic Victorian house on Capitol Hill. Expe...</td>\n",
       "      <td>Fully furnished apartment ( 1 bedroom, 1 bath,...</td>\n",
       "      <td>none</td>\n",
       "      <td>Experience living in the Historic District. Th...</td>\n",
       "      <td>...</td>\n",
       "      <td>10.0</td>\n",
       "      <td>f</td>\n",
       "      <td>NaN</td>\n",
       "      <td>DISTRICT OF COLUMBIA, WASHINGTON</td>\n",
       "      <td>f</td>\n",
       "      <td>strict</td>\n",
       "      <td>f</td>\n",
       "      <td>f</td>\n",
       "      <td>1</td>\n",
       "      <td>0.79</td>\n",
       "    </tr>\n",
       "    <tr>\n",
       "      <th>3719</th>\n",
       "      <td>1806338</td>\n",
       "      <td>https://www.airbnb.com/rooms/1806338</td>\n",
       "      <td>20151002231825</td>\n",
       "      <td>2015-10-03</td>\n",
       "      <td>Lovely bright bedroom.</td>\n",
       "      <td>This comfortable room that fits two is situate...</td>\n",
       "      <td>A warm family home.</td>\n",
       "      <td>This comfortable room that fits two is situate...</td>\n",
       "      <td>none</td>\n",
       "      <td>Capitol Hill is a gorgeous neighborhood in the...</td>\n",
       "      <td>...</td>\n",
       "      <td>10.0</td>\n",
       "      <td>f</td>\n",
       "      <td>NaN</td>\n",
       "      <td>DISTRICT OF COLUMBIA, WASHINGTON</td>\n",
       "      <td>f</td>\n",
       "      <td>moderate</td>\n",
       "      <td>f</td>\n",
       "      <td>f</td>\n",
       "      <td>1</td>\n",
       "      <td>1.95</td>\n",
       "    </tr>\n",
       "    <tr>\n",
       "      <th>3720</th>\n",
       "      <td>1817907</td>\n",
       "      <td>https://www.airbnb.com/rooms/1817907</td>\n",
       "      <td>20151002231825</td>\n",
       "      <td>2015-10-03</td>\n",
       "      <td>Hill Flats DC - WALK EVERYWHERE!</td>\n",
       "      <td>Hill Flats DC is an owner managed luxury 1880 ...</td>\n",
       "      <td>Welcome to Hill Flats DC! Hill Flats DC is an ...</td>\n",
       "      <td>Hill Flats DC is an owner managed luxury 1880 ...</td>\n",
       "      <td>none</td>\n",
       "      <td>NaN</td>\n",
       "      <td>...</td>\n",
       "      <td>9.0</td>\n",
       "      <td>f</td>\n",
       "      <td>NaN</td>\n",
       "      <td>DISTRICT OF COLUMBIA, WASHINGTON</td>\n",
       "      <td>f</td>\n",
       "      <td>strict</td>\n",
       "      <td>f</td>\n",
       "      <td>f</td>\n",
       "      <td>2</td>\n",
       "      <td>0.66</td>\n",
       "    </tr>\n",
       "    <tr>\n",
       "      <th>3721</th>\n",
       "      <td>4223238</td>\n",
       "      <td>https://www.airbnb.com/rooms/4223238</td>\n",
       "      <td>20151002231825</td>\n",
       "      <td>2015-10-03</td>\n",
       "      <td>One Bedroom Capitol Hill Retreat</td>\n",
       "      <td>This spacious, light-filled, serene one-bedroo...</td>\n",
       "      <td>This renovated english basement is perfectly s...</td>\n",
       "      <td>This spacious, light-filled, serene one-bedroo...</td>\n",
       "      <td>none</td>\n",
       "      <td>Just blocks from the Capitol grounds, this apa...</td>\n",
       "      <td>...</td>\n",
       "      <td>10.0</td>\n",
       "      <td>f</td>\n",
       "      <td>NaN</td>\n",
       "      <td>DISTRICT OF COLUMBIA, WASHINGTON</td>\n",
       "      <td>f</td>\n",
       "      <td>moderate</td>\n",
       "      <td>f</td>\n",
       "      <td>f</td>\n",
       "      <td>1</td>\n",
       "      <td>3.98</td>\n",
       "    </tr>\n",
       "    <tr>\n",
       "      <th>3722</th>\n",
       "      <td>7837187</td>\n",
       "      <td>https://www.airbnb.com/rooms/7837187</td>\n",
       "      <td>20151002231825</td>\n",
       "      <td>2015-10-03</td>\n",
       "      <td>Cozy studio blocks from Capitol</td>\n",
       "      <td>4 blocks from the Capitol, 3 blocks to Eastern...</td>\n",
       "      <td>NaN</td>\n",
       "      <td>4 blocks from the Capitol, 3 blocks to Eastern...</td>\n",
       "      <td>none</td>\n",
       "      <td>NaN</td>\n",
       "      <td>...</td>\n",
       "      <td>10.0</td>\n",
       "      <td>f</td>\n",
       "      <td>NaN</td>\n",
       "      <td>DISTRICT OF COLUMBIA, WASHINGTON</td>\n",
       "      <td>f</td>\n",
       "      <td>flexible</td>\n",
       "      <td>f</td>\n",
       "      <td>f</td>\n",
       "      <td>1</td>\n",
       "      <td>1.00</td>\n",
       "    </tr>\n",
       "  </tbody>\n",
       "</table>\n",
       "<p>5 rows × 92 columns</p>\n",
       "</div>"
      ],
      "text/plain": [
       "           id                           listing_url       scrape_id  \\\n",
       "3718  1544877  https://www.airbnb.com/rooms/1544877  20151002231825   \n",
       "3719  1806338  https://www.airbnb.com/rooms/1806338  20151002231825   \n",
       "3720  1817907  https://www.airbnb.com/rooms/1817907  20151002231825   \n",
       "3721  4223238  https://www.airbnb.com/rooms/4223238  20151002231825   \n",
       "3722  7837187  https://www.airbnb.com/rooms/7837187  20151002231825   \n",
       "\n",
       "     last_scraped                                name  \\\n",
       "3718   2015-10-03  Capitol Hill, DC - Great Location!   \n",
       "3719   2015-10-03              Lovely bright bedroom.   \n",
       "3720   2015-10-03    Hill Flats DC - WALK EVERYWHERE!   \n",
       "3721   2015-10-03    One Bedroom Capitol Hill Retreat   \n",
       "3722   2015-10-03     Cozy studio blocks from Capitol   \n",
       "\n",
       "                                                summary  \\\n",
       "3718  Fully furnished apartment ( 1 bedroom, 1 bath,...   \n",
       "3719  This comfortable room that fits two is situate...   \n",
       "3720  Hill Flats DC is an owner managed luxury 1880 ...   \n",
       "3721  This spacious, light-filled, serene one-bedroo...   \n",
       "3722  4 blocks from the Capitol, 3 blocks to Eastern...   \n",
       "\n",
       "                                                  space  \\\n",
       "3718  Historic Victorian house on Capitol Hill. Expe...   \n",
       "3719                             A warm family home.      \n",
       "3720  Welcome to Hill Flats DC! Hill Flats DC is an ...   \n",
       "3721  This renovated english basement is perfectly s...   \n",
       "3722                                                NaN   \n",
       "\n",
       "                                            description experiences_offered  \\\n",
       "3718  Fully furnished apartment ( 1 bedroom, 1 bath,...                none   \n",
       "3719  This comfortable room that fits two is situate...                none   \n",
       "3720  Hill Flats DC is an owner managed luxury 1880 ...                none   \n",
       "3721  This spacious, light-filled, serene one-bedroo...                none   \n",
       "3722  4 blocks from the Capitol, 3 blocks to Eastern...                none   \n",
       "\n",
       "                                  neighborhood_overview        ...         \\\n",
       "3718  Experience living in the Historic District. Th...        ...          \n",
       "3719  Capitol Hill is a gorgeous neighborhood in the...        ...          \n",
       "3720                                                NaN        ...          \n",
       "3721  Just blocks from the Capitol grounds, this apa...        ...          \n",
       "3722                                                NaN        ...          \n",
       "\n",
       "     review_scores_value requires_license license  \\\n",
       "3718                10.0                f     NaN   \n",
       "3719                10.0                f     NaN   \n",
       "3720                 9.0                f     NaN   \n",
       "3721                10.0                f     NaN   \n",
       "3722                10.0                f     NaN   \n",
       "\n",
       "                    jurisdiction_names instant_bookable cancellation_policy  \\\n",
       "3718  DISTRICT OF COLUMBIA, WASHINGTON                f              strict   \n",
       "3719  DISTRICT OF COLUMBIA, WASHINGTON                f            moderate   \n",
       "3720  DISTRICT OF COLUMBIA, WASHINGTON                f              strict   \n",
       "3721  DISTRICT OF COLUMBIA, WASHINGTON                f            moderate   \n",
       "3722  DISTRICT OF COLUMBIA, WASHINGTON                f            flexible   \n",
       "\n",
       "      require_guest_profile_picture require_guest_phone_verification  \\\n",
       "3718                              f                                f   \n",
       "3719                              f                                f   \n",
       "3720                              f                                f   \n",
       "3721                              f                                f   \n",
       "3722                              f                                f   \n",
       "\n",
       "     calculated_host_listings_count reviews_per_month  \n",
       "3718                              1              0.79  \n",
       "3719                              1              1.95  \n",
       "3720                              2              0.66  \n",
       "3721                              1              3.98  \n",
       "3722                              1              1.00  \n",
       "\n",
       "[5 rows x 92 columns]"
      ]
     },
     "execution_count": 3,
     "metadata": {},
     "output_type": "execute_result"
    }
   ],
   "source": [
    "airbnb.tail()"
   ]
  },
  {
   "cell_type": "code",
   "execution_count": 4,
   "metadata": {},
   "outputs": [
    {
     "data": {
      "text/html": [
       "<div>\n",
       "<style scoped>\n",
       "    .dataframe tbody tr th:only-of-type {\n",
       "        vertical-align: middle;\n",
       "    }\n",
       "\n",
       "    .dataframe tbody tr th {\n",
       "        vertical-align: top;\n",
       "    }\n",
       "\n",
       "    .dataframe thead th {\n",
       "        text-align: right;\n",
       "    }\n",
       "</style>\n",
       "<table border=\"1\" class=\"dataframe\">\n",
       "  <thead>\n",
       "    <tr style=\"text-align: right;\">\n",
       "      <th></th>\n",
       "      <th>id</th>\n",
       "      <th>scrape_id</th>\n",
       "      <th>host_id</th>\n",
       "      <th>host_listings_count</th>\n",
       "      <th>host_total_listings_count</th>\n",
       "      <th>neighbourhood_group_cleansed</th>\n",
       "      <th>latitude</th>\n",
       "      <th>longitude</th>\n",
       "      <th>accommodates</th>\n",
       "      <th>bathrooms</th>\n",
       "      <th>...</th>\n",
       "      <th>review_scores_rating</th>\n",
       "      <th>review_scores_accuracy</th>\n",
       "      <th>review_scores_cleanliness</th>\n",
       "      <th>review_scores_checkin</th>\n",
       "      <th>review_scores_communication</th>\n",
       "      <th>review_scores_location</th>\n",
       "      <th>review_scores_value</th>\n",
       "      <th>license</th>\n",
       "      <th>calculated_host_listings_count</th>\n",
       "      <th>reviews_per_month</th>\n",
       "    </tr>\n",
       "  </thead>\n",
       "  <tbody>\n",
       "    <tr>\n",
       "      <th>count</th>\n",
       "      <td>3.723000e+03</td>\n",
       "      <td>3.723000e+03</td>\n",
       "      <td>3.723000e+03</td>\n",
       "      <td>3723.000000</td>\n",
       "      <td>3723.000000</td>\n",
       "      <td>0.0</td>\n",
       "      <td>3723.000000</td>\n",
       "      <td>3723.000000</td>\n",
       "      <td>3723.000000</td>\n",
       "      <td>3696.000000</td>\n",
       "      <td>...</td>\n",
       "      <td>2855.00000</td>\n",
       "      <td>2848.000000</td>\n",
       "      <td>2847.000000</td>\n",
       "      <td>2847.000000</td>\n",
       "      <td>2851.000000</td>\n",
       "      <td>2851.000000</td>\n",
       "      <td>2851.000000</td>\n",
       "      <td>1.000000e+00</td>\n",
       "      <td>3723.000000</td>\n",
       "      <td>2893.000000</td>\n",
       "    </tr>\n",
       "    <tr>\n",
       "      <th>mean</th>\n",
       "      <td>4.798778e+06</td>\n",
       "      <td>2.015100e+13</td>\n",
       "      <td>1.497402e+07</td>\n",
       "      <td>13.517325</td>\n",
       "      <td>13.517325</td>\n",
       "      <td>NaN</td>\n",
       "      <td>38.913967</td>\n",
       "      <td>-77.023294</td>\n",
       "      <td>3.195004</td>\n",
       "      <td>1.256358</td>\n",
       "      <td>...</td>\n",
       "      <td>93.42627</td>\n",
       "      <td>9.540730</td>\n",
       "      <td>9.330875</td>\n",
       "      <td>9.710924</td>\n",
       "      <td>9.752718</td>\n",
       "      <td>9.386180</td>\n",
       "      <td>9.323395</td>\n",
       "      <td>5.005130e+11</td>\n",
       "      <td>3.174590</td>\n",
       "      <td>1.803446</td>\n",
       "    </tr>\n",
       "    <tr>\n",
       "      <th>std</th>\n",
       "      <td>2.639497e+06</td>\n",
       "      <td>8.790243e-01</td>\n",
       "      <td>1.351108e+07</td>\n",
       "      <td>64.534408</td>\n",
       "      <td>64.534408</td>\n",
       "      <td>NaN</td>\n",
       "      <td>0.021647</td>\n",
       "      <td>0.026951</td>\n",
       "      <td>2.012216</td>\n",
       "      <td>0.585539</td>\n",
       "      <td>...</td>\n",
       "      <td>7.77311</td>\n",
       "      <td>0.790103</td>\n",
       "      <td>1.050435</td>\n",
       "      <td>0.672492</td>\n",
       "      <td>0.605433</td>\n",
       "      <td>0.890065</td>\n",
       "      <td>0.836415</td>\n",
       "      <td>NaN</td>\n",
       "      <td>6.123187</td>\n",
       "      <td>1.765808</td>\n",
       "    </tr>\n",
       "    <tr>\n",
       "      <th>min</th>\n",
       "      <td>3.192000e+03</td>\n",
       "      <td>2.015100e+13</td>\n",
       "      <td>1.585000e+03</td>\n",
       "      <td>1.000000</td>\n",
       "      <td>1.000000</td>\n",
       "      <td>NaN</td>\n",
       "      <td>38.825061</td>\n",
       "      <td>-77.110525</td>\n",
       "      <td>1.000000</td>\n",
       "      <td>0.000000</td>\n",
       "      <td>...</td>\n",
       "      <td>30.00000</td>\n",
       "      <td>2.000000</td>\n",
       "      <td>2.000000</td>\n",
       "      <td>2.000000</td>\n",
       "      <td>3.000000</td>\n",
       "      <td>4.000000</td>\n",
       "      <td>2.000000</td>\n",
       "      <td>5.005130e+11</td>\n",
       "      <td>1.000000</td>\n",
       "      <td>0.010000</td>\n",
       "    </tr>\n",
       "    <tr>\n",
       "      <th>25%</th>\n",
       "      <td>2.482238e+06</td>\n",
       "      <td>2.015100e+13</td>\n",
       "      <td>3.433722e+06</td>\n",
       "      <td>1.000000</td>\n",
       "      <td>1.000000</td>\n",
       "      <td>NaN</td>\n",
       "      <td>38.901789</td>\n",
       "      <td>-77.039859</td>\n",
       "      <td>2.000000</td>\n",
       "      <td>1.000000</td>\n",
       "      <td>...</td>\n",
       "      <td>90.00000</td>\n",
       "      <td>9.000000</td>\n",
       "      <td>9.000000</td>\n",
       "      <td>10.000000</td>\n",
       "      <td>10.000000</td>\n",
       "      <td>9.000000</td>\n",
       "      <td>9.000000</td>\n",
       "      <td>5.005130e+11</td>\n",
       "      <td>1.000000</td>\n",
       "      <td>0.560000</td>\n",
       "    </tr>\n",
       "    <tr>\n",
       "      <th>50%</th>\n",
       "      <td>5.002566e+06</td>\n",
       "      <td>2.015100e+13</td>\n",
       "      <td>1.037275e+07</td>\n",
       "      <td>1.000000</td>\n",
       "      <td>1.000000</td>\n",
       "      <td>NaN</td>\n",
       "      <td>38.913375</td>\n",
       "      <td>-77.026410</td>\n",
       "      <td>2.000000</td>\n",
       "      <td>1.000000</td>\n",
       "      <td>...</td>\n",
       "      <td>95.00000</td>\n",
       "      <td>10.000000</td>\n",
       "      <td>10.000000</td>\n",
       "      <td>10.000000</td>\n",
       "      <td>10.000000</td>\n",
       "      <td>10.000000</td>\n",
       "      <td>9.000000</td>\n",
       "      <td>5.005130e+11</td>\n",
       "      <td>1.000000</td>\n",
       "      <td>1.110000</td>\n",
       "    </tr>\n",
       "    <tr>\n",
       "      <th>75%</th>\n",
       "      <td>7.148024e+06</td>\n",
       "      <td>2.015100e+13</td>\n",
       "      <td>2.433087e+07</td>\n",
       "      <td>3.000000</td>\n",
       "      <td>3.000000</td>\n",
       "      <td>NaN</td>\n",
       "      <td>38.926509</td>\n",
       "      <td>-77.002798</td>\n",
       "      <td>4.000000</td>\n",
       "      <td>1.000000</td>\n",
       "      <td>...</td>\n",
       "      <td>100.00000</td>\n",
       "      <td>10.000000</td>\n",
       "      <td>10.000000</td>\n",
       "      <td>10.000000</td>\n",
       "      <td>10.000000</td>\n",
       "      <td>10.000000</td>\n",
       "      <td>10.000000</td>\n",
       "      <td>5.005130e+11</td>\n",
       "      <td>2.000000</td>\n",
       "      <td>2.500000</td>\n",
       "    </tr>\n",
       "    <tr>\n",
       "      <th>max</th>\n",
       "      <td>8.688666e+06</td>\n",
       "      <td>2.015100e+13</td>\n",
       "      <td>4.555465e+07</td>\n",
       "      <td>480.000000</td>\n",
       "      <td>480.000000</td>\n",
       "      <td>NaN</td>\n",
       "      <td>38.996382</td>\n",
       "      <td>-76.913137</td>\n",
       "      <td>16.000000</td>\n",
       "      <td>8.000000</td>\n",
       "      <td>...</td>\n",
       "      <td>100.00000</td>\n",
       "      <td>10.000000</td>\n",
       "      <td>10.000000</td>\n",
       "      <td>10.000000</td>\n",
       "      <td>10.000000</td>\n",
       "      <td>10.000000</td>\n",
       "      <td>10.000000</td>\n",
       "      <td>5.005130e+11</td>\n",
       "      <td>41.000000</td>\n",
       "      <td>10.980000</td>\n",
       "    </tr>\n",
       "  </tbody>\n",
       "</table>\n",
       "<p>8 rows × 31 columns</p>\n",
       "</div>"
      ],
      "text/plain": [
       "                 id     scrape_id       host_id  host_listings_count  \\\n",
       "count  3.723000e+03  3.723000e+03  3.723000e+03          3723.000000   \n",
       "mean   4.798778e+06  2.015100e+13  1.497402e+07            13.517325   \n",
       "std    2.639497e+06  8.790243e-01  1.351108e+07            64.534408   \n",
       "min    3.192000e+03  2.015100e+13  1.585000e+03             1.000000   \n",
       "25%    2.482238e+06  2.015100e+13  3.433722e+06             1.000000   \n",
       "50%    5.002566e+06  2.015100e+13  1.037275e+07             1.000000   \n",
       "75%    7.148024e+06  2.015100e+13  2.433087e+07             3.000000   \n",
       "max    8.688666e+06  2.015100e+13  4.555465e+07           480.000000   \n",
       "\n",
       "       host_total_listings_count  neighbourhood_group_cleansed     latitude  \\\n",
       "count                3723.000000                           0.0  3723.000000   \n",
       "mean                   13.517325                           NaN    38.913967   \n",
       "std                    64.534408                           NaN     0.021647   \n",
       "min                     1.000000                           NaN    38.825061   \n",
       "25%                     1.000000                           NaN    38.901789   \n",
       "50%                     1.000000                           NaN    38.913375   \n",
       "75%                     3.000000                           NaN    38.926509   \n",
       "max                   480.000000                           NaN    38.996382   \n",
       "\n",
       "         longitude  accommodates    bathrooms        ...          \\\n",
       "count  3723.000000   3723.000000  3696.000000        ...           \n",
       "mean    -77.023294      3.195004     1.256358        ...           \n",
       "std       0.026951      2.012216     0.585539        ...           \n",
       "min     -77.110525      1.000000     0.000000        ...           \n",
       "25%     -77.039859      2.000000     1.000000        ...           \n",
       "50%     -77.026410      2.000000     1.000000        ...           \n",
       "75%     -77.002798      4.000000     1.000000        ...           \n",
       "max     -76.913137     16.000000     8.000000        ...           \n",
       "\n",
       "       review_scores_rating  review_scores_accuracy  \\\n",
       "count            2855.00000             2848.000000   \n",
       "mean               93.42627                9.540730   \n",
       "std                 7.77311                0.790103   \n",
       "min                30.00000                2.000000   \n",
       "25%                90.00000                9.000000   \n",
       "50%                95.00000               10.000000   \n",
       "75%               100.00000               10.000000   \n",
       "max               100.00000               10.000000   \n",
       "\n",
       "       review_scores_cleanliness  review_scores_checkin  \\\n",
       "count                2847.000000            2847.000000   \n",
       "mean                    9.330875               9.710924   \n",
       "std                     1.050435               0.672492   \n",
       "min                     2.000000               2.000000   \n",
       "25%                     9.000000              10.000000   \n",
       "50%                    10.000000              10.000000   \n",
       "75%                    10.000000              10.000000   \n",
       "max                    10.000000              10.000000   \n",
       "\n",
       "       review_scores_communication  review_scores_location  \\\n",
       "count                  2851.000000             2851.000000   \n",
       "mean                      9.752718                9.386180   \n",
       "std                       0.605433                0.890065   \n",
       "min                       3.000000                4.000000   \n",
       "25%                      10.000000                9.000000   \n",
       "50%                      10.000000               10.000000   \n",
       "75%                      10.000000               10.000000   \n",
       "max                      10.000000               10.000000   \n",
       "\n",
       "       review_scores_value       license  calculated_host_listings_count  \\\n",
       "count          2851.000000  1.000000e+00                     3723.000000   \n",
       "mean              9.323395  5.005130e+11                        3.174590   \n",
       "std               0.836415           NaN                        6.123187   \n",
       "min               2.000000  5.005130e+11                        1.000000   \n",
       "25%               9.000000  5.005130e+11                        1.000000   \n",
       "50%               9.000000  5.005130e+11                        1.000000   \n",
       "75%              10.000000  5.005130e+11                        2.000000   \n",
       "max              10.000000  5.005130e+11                       41.000000   \n",
       "\n",
       "       reviews_per_month  \n",
       "count        2893.000000  \n",
       "mean            1.803446  \n",
       "std             1.765808  \n",
       "min             0.010000  \n",
       "25%             0.560000  \n",
       "50%             1.110000  \n",
       "75%             2.500000  \n",
       "max            10.980000  \n",
       "\n",
       "[8 rows x 31 columns]"
      ]
     },
     "execution_count": 4,
     "metadata": {},
     "output_type": "execute_result"
    }
   ],
   "source": [
    "airbnb.describe()"
   ]
  },
  {
   "cell_type": "code",
   "execution_count": 5,
   "metadata": {},
   "outputs": [
    {
     "data": {
      "text/plain": [
       "$100.00    167\n",
       "$150.00    147\n",
       "$125.00    128\n",
       "$99.00     121\n",
       "$120.00    119\n",
       "$75.00     109\n",
       "$90.00     106\n",
       "$95.00     103\n",
       "$85.00      96\n",
       "$110.00     83\n",
       "$65.00      82\n",
       "$80.00      78\n",
       "$70.00      73\n",
       "$175.00     68\n",
       "$60.00      68\n",
       "$115.00     68\n",
       "$130.00     60\n",
       "$200.00     59\n",
       "$105.00     56\n",
       "$250.00     55\n",
       "$50.00      54\n",
       "$135.00     54\n",
       "$89.00      53\n",
       "$140.00     45\n",
       "$149.00     45\n",
       "$55.00      42\n",
       "$79.00      39\n",
       "$129.00     36\n",
       "$300.00     35\n",
       "$109.00     33\n",
       "          ... \n",
       "$975.00      1\n",
       "$212.00      1\n",
       "$695.00      1\n",
       "$800.00      1\n",
       "$152.00      1\n",
       "$372.00      1\n",
       "$258.00      1\n",
       "$515.00      1\n",
       "$535.00      1\n",
       "$333.00      1\n",
       "$10.00       1\n",
       "$270.00      1\n",
       "$253.00      1\n",
       "$157.00      1\n",
       "$176.00      1\n",
       "$133.00      1\n",
       "$429.00      1\n",
       "$750.00      1\n",
       "$228.00      1\n",
       "$315.00      1\n",
       "$201.00      1\n",
       "$223.00      1\n",
       "$440.00      1\n",
       "$31.00       1\n",
       "$310.00      1\n",
       "$196.00      1\n",
       "$163.00      1\n",
       "$418.00      1\n",
       "$749.00      1\n",
       "$222.00      1\n",
       "Name: price, Length: 284, dtype: int64"
      ]
     },
     "execution_count": 5,
     "metadata": {},
     "output_type": "execute_result"
    }
   ],
   "source": [
    "airbnb['price'].value_counts()"
   ]
  },
  {
   "cell_type": "code",
   "execution_count": 6,
   "metadata": {},
   "outputs": [
    {
     "data": {
      "text/html": [
       "<div>\n",
       "<style scoped>\n",
       "    .dataframe tbody tr th:only-of-type {\n",
       "        vertical-align: middle;\n",
       "    }\n",
       "\n",
       "    .dataframe tbody tr th {\n",
       "        vertical-align: top;\n",
       "    }\n",
       "\n",
       "    .dataframe thead th {\n",
       "        text-align: right;\n",
       "    }\n",
       "</style>\n",
       "<table border=\"1\" class=\"dataframe\">\n",
       "  <thead>\n",
       "    <tr style=\"text-align: right;\">\n",
       "      <th></th>\n",
       "      <th>id</th>\n",
       "      <th>listing_url</th>\n",
       "      <th>scrape_id</th>\n",
       "      <th>last_scraped</th>\n",
       "      <th>name</th>\n",
       "      <th>summary</th>\n",
       "      <th>space</th>\n",
       "      <th>description</th>\n",
       "      <th>experiences_offered</th>\n",
       "      <th>neighborhood_overview</th>\n",
       "      <th>...</th>\n",
       "      <th>requires_license</th>\n",
       "      <th>license</th>\n",
       "      <th>jurisdiction_names</th>\n",
       "      <th>instant_bookable</th>\n",
       "      <th>cancellation_policy</th>\n",
       "      <th>require_guest_profile_picture</th>\n",
       "      <th>require_guest_phone_verification</th>\n",
       "      <th>calculated_host_listings_count</th>\n",
       "      <th>reviews_per_month</th>\n",
       "      <th>Total Cost</th>\n",
       "    </tr>\n",
       "  </thead>\n",
       "  <tbody>\n",
       "    <tr>\n",
       "      <th>0</th>\n",
       "      <td>7087327</td>\n",
       "      <td>https://www.airbnb.com/rooms/7087327</td>\n",
       "      <td>20151002231825</td>\n",
       "      <td>2015-10-03</td>\n",
       "      <td>Historic DC Condo-Walk to Capitol!</td>\n",
       "      <td>Professional pictures coming soon! Welcome to ...</td>\n",
       "      <td>NaN</td>\n",
       "      <td>Professional pictures coming soon! Welcome to ...</td>\n",
       "      <td>none</td>\n",
       "      <td>NaN</td>\n",
       "      <td>...</td>\n",
       "      <td>f</td>\n",
       "      <td>NaN</td>\n",
       "      <td>DISTRICT OF COLUMBIA, WASHINGTON</td>\n",
       "      <td>f</td>\n",
       "      <td>flexible</td>\n",
       "      <td>f</td>\n",
       "      <td>f</td>\n",
       "      <td>18</td>\n",
       "      <td>NaN</td>\n",
       "      <td>$160.00$115.00</td>\n",
       "    </tr>\n",
       "    <tr>\n",
       "      <th>1</th>\n",
       "      <td>975833</td>\n",
       "      <td>https://www.airbnb.com/rooms/975833</td>\n",
       "      <td>20151002231825</td>\n",
       "      <td>2015-10-03</td>\n",
       "      <td>Spacious Capitol Hill Townhouse</td>\n",
       "      <td>NaN</td>\n",
       "      <td>Beautifully renovated Capitol Hill townhouse. ...</td>\n",
       "      <td>Beautifully renovated Capitol Hill townhouse. ...</td>\n",
       "      <td>none</td>\n",
       "      <td>NaN</td>\n",
       "      <td>...</td>\n",
       "      <td>f</td>\n",
       "      <td>NaN</td>\n",
       "      <td>DISTRICT OF COLUMBIA, WASHINGTON</td>\n",
       "      <td>f</td>\n",
       "      <td>strict</td>\n",
       "      <td>f</td>\n",
       "      <td>f</td>\n",
       "      <td>1</td>\n",
       "      <td>2.11</td>\n",
       "      <td>$350.00$100.00</td>\n",
       "    </tr>\n",
       "    <tr>\n",
       "      <th>2</th>\n",
       "      <td>8249488</td>\n",
       "      <td>https://www.airbnb.com/rooms/8249488</td>\n",
       "      <td>20151002231825</td>\n",
       "      <td>2015-10-03</td>\n",
       "      <td>Spacious/private room for single</td>\n",
       "      <td>This is an ideal room for a single traveler th...</td>\n",
       "      <td>NaN</td>\n",
       "      <td>This is an ideal room for a single traveler th...</td>\n",
       "      <td>none</td>\n",
       "      <td>NaN</td>\n",
       "      <td>...</td>\n",
       "      <td>f</td>\n",
       "      <td>NaN</td>\n",
       "      <td>NaN</td>\n",
       "      <td>f</td>\n",
       "      <td>flexible</td>\n",
       "      <td>f</td>\n",
       "      <td>f</td>\n",
       "      <td>1</td>\n",
       "      <td>1.00</td>\n",
       "      <td>NaN</td>\n",
       "    </tr>\n",
       "    <tr>\n",
       "      <th>3</th>\n",
       "      <td>8409022</td>\n",
       "      <td>https://www.airbnb.com/rooms/8409022</td>\n",
       "      <td>20151002231825</td>\n",
       "      <td>2015-10-03</td>\n",
       "      <td>A wonderful bedroom with library</td>\n",
       "      <td>Prime location right on the Potomac River in W...</td>\n",
       "      <td>NaN</td>\n",
       "      <td>Prime location right on the Potomac River in W...</td>\n",
       "      <td>none</td>\n",
       "      <td>NaN</td>\n",
       "      <td>...</td>\n",
       "      <td>f</td>\n",
       "      <td>NaN</td>\n",
       "      <td>DISTRICT OF COLUMBIA, WASHINGTON</td>\n",
       "      <td>f</td>\n",
       "      <td>flexible</td>\n",
       "      <td>f</td>\n",
       "      <td>f</td>\n",
       "      <td>1</td>\n",
       "      <td>NaN</td>\n",
       "      <td>NaN</td>\n",
       "    </tr>\n",
       "    <tr>\n",
       "      <th>4</th>\n",
       "      <td>8411173</td>\n",
       "      <td>https://www.airbnb.com/rooms/8411173</td>\n",
       "      <td>20151002231825</td>\n",
       "      <td>2015-10-03</td>\n",
       "      <td>Downtown Silver Spring</td>\n",
       "      <td>Hi travellers! I live in this peaceful spot, b...</td>\n",
       "      <td>This is a 750 sq ft 1 bedroom 1 bathroom.  Whi...</td>\n",
       "      <td>Hi travellers! I live in this peaceful spot, b...</td>\n",
       "      <td>none</td>\n",
       "      <td>Silver Spring is booming.  You can walk to a n...</td>\n",
       "      <td>...</td>\n",
       "      <td>f</td>\n",
       "      <td>NaN</td>\n",
       "      <td>NaN</td>\n",
       "      <td>f</td>\n",
       "      <td>flexible</td>\n",
       "      <td>f</td>\n",
       "      <td>f</td>\n",
       "      <td>1</td>\n",
       "      <td>NaN</td>\n",
       "      <td>$50.00$15.00</td>\n",
       "    </tr>\n",
       "  </tbody>\n",
       "</table>\n",
       "<p>5 rows × 93 columns</p>\n",
       "</div>"
      ],
      "text/plain": [
       "        id                           listing_url       scrape_id last_scraped  \\\n",
       "0  7087327  https://www.airbnb.com/rooms/7087327  20151002231825   2015-10-03   \n",
       "1   975833   https://www.airbnb.com/rooms/975833  20151002231825   2015-10-03   \n",
       "2  8249488  https://www.airbnb.com/rooms/8249488  20151002231825   2015-10-03   \n",
       "3  8409022  https://www.airbnb.com/rooms/8409022  20151002231825   2015-10-03   \n",
       "4  8411173  https://www.airbnb.com/rooms/8411173  20151002231825   2015-10-03   \n",
       "\n",
       "                                 name  \\\n",
       "0  Historic DC Condo-Walk to Capitol!   \n",
       "1     Spacious Capitol Hill Townhouse   \n",
       "2    Spacious/private room for single   \n",
       "3    A wonderful bedroom with library   \n",
       "4              Downtown Silver Spring   \n",
       "\n",
       "                                             summary  \\\n",
       "0  Professional pictures coming soon! Welcome to ...   \n",
       "1                                                NaN   \n",
       "2  This is an ideal room for a single traveler th...   \n",
       "3  Prime location right on the Potomac River in W...   \n",
       "4  Hi travellers! I live in this peaceful spot, b...   \n",
       "\n",
       "                                               space  \\\n",
       "0                                                NaN   \n",
       "1  Beautifully renovated Capitol Hill townhouse. ...   \n",
       "2                                                NaN   \n",
       "3                                                NaN   \n",
       "4  This is a 750 sq ft 1 bedroom 1 bathroom.  Whi...   \n",
       "\n",
       "                                         description experiences_offered  \\\n",
       "0  Professional pictures coming soon! Welcome to ...                none   \n",
       "1  Beautifully renovated Capitol Hill townhouse. ...                none   \n",
       "2  This is an ideal room for a single traveler th...                none   \n",
       "3  Prime location right on the Potomac River in W...                none   \n",
       "4  Hi travellers! I live in this peaceful spot, b...                none   \n",
       "\n",
       "                               neighborhood_overview       ...        \\\n",
       "0                                                NaN       ...         \n",
       "1                                                NaN       ...         \n",
       "2                                                NaN       ...         \n",
       "3                                                NaN       ...         \n",
       "4  Silver Spring is booming.  You can walk to a n...       ...         \n",
       "\n",
       "  requires_license license                jurisdiction_names instant_bookable  \\\n",
       "0                f     NaN  DISTRICT OF COLUMBIA, WASHINGTON                f   \n",
       "1                f     NaN  DISTRICT OF COLUMBIA, WASHINGTON                f   \n",
       "2                f     NaN                               NaN                f   \n",
       "3                f     NaN  DISTRICT OF COLUMBIA, WASHINGTON                f   \n",
       "4                f     NaN                               NaN                f   \n",
       "\n",
       "  cancellation_policy require_guest_profile_picture  \\\n",
       "0            flexible                             f   \n",
       "1              strict                             f   \n",
       "2            flexible                             f   \n",
       "3            flexible                             f   \n",
       "4            flexible                             f   \n",
       "\n",
       "   require_guest_phone_verification calculated_host_listings_count  \\\n",
       "0                                 f                             18   \n",
       "1                                 f                              1   \n",
       "2                                 f                              1   \n",
       "3                                 f                              1   \n",
       "4                                 f                              1   \n",
       "\n",
       "  reviews_per_month      Total Cost  \n",
       "0               NaN  $160.00$115.00  \n",
       "1              2.11  $350.00$100.00  \n",
       "2              1.00             NaN  \n",
       "3               NaN             NaN  \n",
       "4               NaN    $50.00$15.00  \n",
       "\n",
       "[5 rows x 93 columns]"
      ]
     },
     "execution_count": 6,
     "metadata": {},
     "output_type": "execute_result"
    }
   ],
   "source": [
    "airbnb['Total Cost']=airbnb['price']+airbnb['cleaning_fee']\n",
    "airbnb.head()"
   ]
  },
  {
   "cell_type": "code",
   "execution_count": 7,
   "metadata": {},
   "outputs": [
    {
     "data": {
      "text/plain": [
       "0     1155\n",
       "30     306\n",
       "1      158\n",
       "2      116\n",
       "3      107\n",
       "5      106\n",
       "8      102\n",
       "7       98\n",
       "10      98\n",
       "4       95\n",
       "6       95\n",
       "9       87\n",
       "12      81\n",
       "11      80\n",
       "13      79\n",
       "17      76\n",
       "16      74\n",
       "14      73\n",
       "15      72\n",
       "28      69\n",
       "29      68\n",
       "26      59\n",
       "18      57\n",
       "24      54\n",
       "19      54\n",
       "21      53\n",
       "27      52\n",
       "22      51\n",
       "23      50\n",
       "25      50\n",
       "20      48\n",
       "Name: availability_30, dtype: int64"
      ]
     },
     "execution_count": 7,
     "metadata": {},
     "output_type": "execute_result"
    }
   ],
   "source": [
    "airbnb['availability_30'].value_counts()"
   ]
  },
  {
   "cell_type": "code",
   "execution_count": 8,
   "metadata": {},
   "outputs": [
    {
     "data": {
      "text/plain": [
       "0     871\n",
       "60    298\n",
       "31     78\n",
       "30     68\n",
       "58     66\n",
       "59     66\n",
       "1      64\n",
       "43     58\n",
       "47     57\n",
       "40     57\n",
       "3      57\n",
       "32     55\n",
       "56     52\n",
       "39     52\n",
       "29     51\n",
       "42     51\n",
       "5      50\n",
       "27     49\n",
       "38     49\n",
       "44     49\n",
       "36     47\n",
       "46     46\n",
       "45     46\n",
       "51     45\n",
       "7      44\n",
       "37     44\n",
       "6      44\n",
       "41     44\n",
       "8      43\n",
       "54     43\n",
       "     ... \n",
       "21     42\n",
       "33     42\n",
       "57     42\n",
       "48     41\n",
       "53     41\n",
       "22     40\n",
       "24     40\n",
       "28     40\n",
       "52     39\n",
       "34     39\n",
       "35     39\n",
       "10     39\n",
       "26     39\n",
       "19     37\n",
       "2      37\n",
       "49     36\n",
       "16     35\n",
       "18     33\n",
       "4      33\n",
       "17     32\n",
       "25     32\n",
       "23     31\n",
       "50     30\n",
       "12     29\n",
       "14     28\n",
       "13     27\n",
       "11     27\n",
       "15     26\n",
       "9      21\n",
       "20     19\n",
       "Name: availability_60, Length: 61, dtype: int64"
      ]
     },
     "execution_count": 8,
     "metadata": {},
     "output_type": "execute_result"
    }
   ],
   "source": [
    "airbnb['availability_60'].value_counts()"
   ]
  },
  {
   "cell_type": "code",
   "execution_count": 9,
   "metadata": {},
   "outputs": [
    {
     "data": {
      "text/plain": [
       "0     683\n",
       "90    298\n",
       "89     66\n",
       "88     64\n",
       "61     62\n",
       "60     57\n",
       "62     53\n",
       "70     53\n",
       "86     50\n",
       "73     48\n",
       "72     48\n",
       "77     46\n",
       "68     45\n",
       "59     45\n",
       "57     45\n",
       "1      44\n",
       "74     43\n",
       "81     43\n",
       "69     43\n",
       "85     42\n",
       "66     41\n",
       "83     41\n",
       "75     40\n",
       "71     40\n",
       "63     38\n",
       "76     38\n",
       "78     38\n",
       "84     38\n",
       "87     38\n",
       "55     37\n",
       "     ... \n",
       "17     23\n",
       "46     23\n",
       "31     23\n",
       "45     23\n",
       "30     22\n",
       "44     22\n",
       "42     22\n",
       "33     22\n",
       "14     22\n",
       "29     21\n",
       "43     21\n",
       "4      20\n",
       "27     20\n",
       "49     20\n",
       "38     20\n",
       "28     19\n",
       "36     19\n",
       "41     19\n",
       "35     19\n",
       "32     18\n",
       "47     18\n",
       "40     18\n",
       "22     16\n",
       "37     16\n",
       "9      15\n",
       "23     15\n",
       "15     13\n",
       "20     12\n",
       "34     11\n",
       "24     11\n",
       "Name: availability_90, Length: 91, dtype: int64"
      ]
     },
     "execution_count": 9,
     "metadata": {},
     "output_type": "execute_result"
    }
   ],
   "source": [
    "airbnb['availability_90'].value_counts()"
   ]
  },
  {
   "cell_type": "code",
   "execution_count": 10,
   "metadata": {},
   "outputs": [
    {
     "data": {
      "text/plain": [
       "365    270\n",
       "0      144\n",
       "364     59\n",
       "336     48\n",
       "363     46\n",
       "345     45\n",
       "275     44\n",
       "349     43\n",
       "361     43\n",
       "335     42\n",
       "347     39\n",
       "356     38\n",
       "352     36\n",
       "360     36\n",
       "348     35\n",
       "358     34\n",
       "343     33\n",
       "353     31\n",
       "334     31\n",
       "357     31\n",
       "362     31\n",
       "359     30\n",
       "340     30\n",
       "337     30\n",
       "350     30\n",
       "342     28\n",
       "344     28\n",
       "332     27\n",
       "341     27\n",
       "346     27\n",
       "      ... \n",
       "231      2\n",
       "135      1\n",
       "226      1\n",
       "229      1\n",
       "250      1\n",
       "222      1\n",
       "210      1\n",
       "234      1\n",
       "206      1\n",
       "202      1\n",
       "190      1\n",
       "186      1\n",
       "184      1\n",
       "201      1\n",
       "240      1\n",
       "168      1\n",
       "146      1\n",
       "207      1\n",
       "256      1\n",
       "262      1\n",
       "132      1\n",
       "197      1\n",
       "193      1\n",
       "187      1\n",
       "183      1\n",
       "181      1\n",
       "253      1\n",
       "247      1\n",
       "205      1\n",
       "191      1\n",
       "Name: availability_365, Length: 359, dtype: int64"
      ]
     },
     "execution_count": 10,
     "metadata": {},
     "output_type": "execute_result"
    }
   ],
   "source": [
    "airbnb['availability_365'].value_counts()"
   ]
  },
  {
   "cell_type": "code",
   "execution_count": 11,
   "metadata": {},
   "outputs": [
    {
     "data": {
      "text/plain": [
       "id                                     0\n",
       "listing_url                            0\n",
       "scrape_id                              0\n",
       "last_scraped                           0\n",
       "name                                   0\n",
       "summary                              266\n",
       "space                                746\n",
       "description                            1\n",
       "experiences_offered                    0\n",
       "neighborhood_overview               1254\n",
       "notes                               2011\n",
       "transit                             1135\n",
       "thumbnail_url                         33\n",
       "medium_url                            33\n",
       "picture_url                            0\n",
       "xl_picture_url                        33\n",
       "host_id                                0\n",
       "host_url                               0\n",
       "host_name                              0\n",
       "host_since                             0\n",
       "host_location                          6\n",
       "host_about                           960\n",
       "host_response_time                   434\n",
       "host_response_rate                   434\n",
       "host_acceptance_rate                 614\n",
       "host_is_superhost                      0\n",
       "host_thumbnail_url                     0\n",
       "host_picture_url                       0\n",
       "host_neighbourhood                   262\n",
       "host_listings_count                    0\n",
       "                                    ... \n",
       "extra_people                           0\n",
       "minimum_nights                         0\n",
       "maximum_nights                         0\n",
       "calendar_updated                       0\n",
       "has_availability                       0\n",
       "availability_30                        0\n",
       "availability_60                        0\n",
       "availability_90                        0\n",
       "availability_365                       0\n",
       "calendar_last_scraped                  0\n",
       "number_of_reviews                      0\n",
       "first_review                         830\n",
       "last_review                          830\n",
       "review_scores_rating                 868\n",
       "review_scores_accuracy               875\n",
       "review_scores_cleanliness            876\n",
       "review_scores_checkin                876\n",
       "review_scores_communication          872\n",
       "review_scores_location               872\n",
       "review_scores_value                  872\n",
       "requires_license                       0\n",
       "license                             3722\n",
       "jurisdiction_names                    26\n",
       "instant_bookable                       0\n",
       "cancellation_policy                    0\n",
       "require_guest_profile_picture          0\n",
       "require_guest_phone_verification       0\n",
       "calculated_host_listings_count         0\n",
       "reviews_per_month                    830\n",
       "Total Cost                          1388\n",
       "Length: 93, dtype: int64"
      ]
     },
     "execution_count": 11,
     "metadata": {},
     "output_type": "execute_result"
    }
   ],
   "source": [
    "# nan_rows = airbnb[airbnb['square_feet'].isnull()]\n",
    "# nan_rows\n",
    "# airbnb.isnull().values.any()\n",
    "# airbnb.isnull().sum().sum()\n",
    "airbnb.isna().sum()"
   ]
  },
  {
   "cell_type": "code",
   "execution_count": 12,
   "metadata": {},
   "outputs": [
    {
     "data": {
      "text/plain": [
       "3723"
      ]
     },
     "execution_count": 12,
     "metadata": {},
     "output_type": "execute_result"
    }
   ],
   "source": [
    "# Total Observations for NAN exploration\n",
    "c = airbnb['price'].count()\n",
    "c"
   ]
  },
  {
   "cell_type": "code",
   "execution_count": 13,
   "metadata": {},
   "outputs": [
    {
     "name": "stdout",
     "output_type": "stream",
     "text": [
      "0\n",
      "0\n",
      "0\n",
      "0\n"
     ]
    }
   ],
   "source": [
    "a30 = airbnb['availability_30'].isna().sum()\n",
    "a60 = airbnb['availability_60'].isna().sum()\n",
    "a90 = airbnb['availability_90'].isna().sum()\n",
    "a365 = airbnb['availability_365'].isna().sum()\n",
    "print(a30)\n",
    "print(a60)\n",
    "print(a90)\n",
    "print(a365)\n"
   ]
  },
  {
   "cell_type": "code",
   "execution_count": 14,
   "metadata": {},
   "outputs": [
    {
     "name": "stdout",
     "output_type": "stream",
     "text": [
      "NAN Totals and Percent Missing (out of 3723): \n",
      " Square Feet: 3641, 0.98, \n",
      " Zipcode: 9, \n",
      " Price: 0, \n",
      " Total Cost: 1388, 0.37, \n",
      " Accommodates: 0, \n",
      " Bedrooms: 21, \n",
      " Bathrooms: 27, \n",
      " Beds: 11, \n",
      " Bed Type: 0, \n",
      " Superhost: 0, \n",
      " Host Id Verified: 0, \n",
      " Property Type: 1, \n",
      " Room Type: 0, \n",
      " Cancellation Policy: 0, \n",
      " Instant Booking: 0, \n",
      " Calculated Host Listings: 0, \n",
      " Host Total Listings 0, \n",
      " Reviews Per Month: 830, 0.22, \n",
      " Review Scores Rating: 868, 0.23, \n",
      " Number of Reviews: 0, \n",
      " Minimum Nights Required: 0, \n",
      " Cleaning Fee: 1388, 0.37, \n",
      " Security Deposit: 2297, 0.62, \n",
      " City: 0, \n",
      " Host Response Rate: 434, 0.12, \n",
      " Host Acceptance Rate: 614, 0.16\n"
     ]
    }
   ],
   "source": [
    "# Nan Totals on interested Variables\n",
    "sqft = airbnb['square_feet'].isna().sum()\n",
    "zc = airbnb['zipcode'].isna().sum()\n",
    "price = airbnb['price'].isna().sum()\n",
    "tc = airbnb['Total Cost'].isna().sum()\n",
    "ac = airbnb['accommodates'].isna().sum()\n",
    "ba = airbnb['bathrooms'].isna().sum()\n",
    "br = airbnb['bedrooms'].isna().sum()\n",
    "beds = airbnb['beds'].isna().sum()\n",
    "bedtype = airbnb['bed_type'].isna().sum()\n",
    "sh = airbnb['host_is_superhost'].isna().sum()\n",
    "hid = airbnb['host_identity_verified'].isna().sum()\n",
    "propertytype = airbnb['property_type'].isna().sum()\n",
    "roomtype = airbnb['room_type'].isna().sum()\n",
    "cancel = airbnb['cancellation_policy'].isna().sum()\n",
    "instant = airbnb['instant_bookable'].isna().sum()\n",
    "count = airbnb['calculated_host_listings_count'].isna().sum()\n",
    "count2 = airbnb['host_total_listings_count'].isna().sum()\n",
    "review_month = airbnb['reviews_per_month'].isna().sum()\n",
    "review_score = airbnb['review_scores_rating'].isna().sum()\n",
    "review_number = airbnb['number_of_reviews'].isna().sum()\n",
    "min_nights = airbnb['minimum_nights'].isna().sum()\n",
    "cleaning = airbnb['cleaning_fee'].isna().sum()\n",
    "sd = airbnb['security_deposit'].isna().sum()\n",
    "city = airbnb['city'].isna().sum()\n",
    "rep = airbnb['host_response_rate'].isna().sum()\n",
    "acc = airbnb['host_acceptance_rate'].isna().sum()\n",
    "\n",
    "print(f\"\"\"NAN Totals and Percent Missing (out of {c}): \\n Square Feet: {sqft}, {round(sqft/c, 2)}, \\n Zipcode: {zc}, \\n Price: {price}, \\n Total Cost: {tc}, {round(tc/c,2)}, \\n Accommodates: {ac}, \\n Bedrooms: {br}, \\n Bathrooms: {ba}, \\n Beds: {beds}, \\n Bed Type: {bedtype}, \\n Superhost: {sh}, \\n Host Id Verified: {hid}, \\n Property Type: {propertytype}, \\n Room Type: {roomtype}, \\n Cancellation Policy: {cancel}, \\n Instant Booking: {instant}, \\n Calculated Host Listings: {count}, \\n Host Total Listings {count2}, \\n Reviews Per Month: {review_month}, {round(review_month/c,2)}, \\n Review Scores Rating: {review_score}, {round(review_score/c,2)}, \\n Number of Reviews: {review_number}, \\n Minimum Nights Required: {min_nights}, \\n Cleaning Fee: {cleaning}, {round(cleaning/c,2)}, \\n Security Deposit: {sd}, {round(sd/c,2)}, \\n City: {city}, \\n Host Response Rate: {rep}, {round(rep/c,2)}, \\n Host Acceptance Rate: {acc}, {round(acc/c,2)}\"\"\")"
   ]
  },
  {
   "cell_type": "code",
   "execution_count": 15,
   "metadata": {},
   "outputs": [
    {
     "data": {
      "text/plain": [
       "1.0     2317\n",
       "2.0      870\n",
       "3.0      300\n",
       "4.0      126\n",
       "5.0       46\n",
       "6.0       27\n",
       "7.0        9\n",
       "8.0        5\n",
       "9.0        3\n",
       "16.0       3\n",
       "10.0       2\n",
       "13.0       2\n",
       "12.0       1\n",
       "11.0       1\n",
       "Name: beds, dtype: int64"
      ]
     },
     "execution_count": 15,
     "metadata": {},
     "output_type": "execute_result"
    }
   ],
   "source": [
    "airbnb['beds'].value_counts()"
   ]
  },
  {
   "cell_type": "code",
   "execution_count": 16,
   "metadata": {},
   "outputs": [
    {
     "data": {
      "text/plain": [
       "1.0     2533\n",
       "2.0      511\n",
       "0.0      392\n",
       "3.0      190\n",
       "4.0       44\n",
       "5.0       21\n",
       "6.0        8\n",
       "8.0        2\n",
       "10.0       1\n",
       "Name: bedrooms, dtype: int64"
      ]
     },
     "execution_count": 16,
     "metadata": {},
     "output_type": "execute_result"
    }
   ],
   "source": [
    "airbnb['bedrooms'].value_counts()"
   ]
  },
  {
   "cell_type": "code",
   "execution_count": 17,
   "metadata": {},
   "outputs": [
    {
     "data": {
      "text/plain": [
       "2     1604\n",
       "4      690\n",
       "3      461\n",
       "1      342\n",
       "6      279\n",
       "5      161\n",
       "8       73\n",
       "7       35\n",
       "10      22\n",
       "9       17\n",
       "12      12\n",
       "16       8\n",
       "11       7\n",
       "15       6\n",
       "14       4\n",
       "13       2\n",
       "Name: accommodates, dtype: int64"
      ]
     },
     "execution_count": 17,
     "metadata": {},
     "output_type": "execute_result"
    }
   ],
   "source": [
    "airbnb['accommodates'].value_counts()"
   ]
  },
  {
   "cell_type": "code",
   "execution_count": 18,
   "metadata": {},
   "outputs": [],
   "source": [
    "# Creating Data copy to test on and make a golden initial\n",
    "golden_airbnb = airbnb.copy()"
   ]
  },
  {
   "cell_type": "code",
   "execution_count": 19,
   "metadata": {},
   "outputs": [
    {
     "name": "stdout",
     "output_type": "stream",
     "text": [
      "NAN Totals and Percent Missing (out of 3723): \n",
      " Zipcode: 9, \n",
      " Price: 0, \n",
      " Accommodates: 0, \n",
      " Bedrooms: 21, \n",
      " Bathrooms: 27, \n",
      " Beds: 11, \n",
      " Bed Type: 0, \n",
      " Superhost: 0, \n",
      " Host Id Verified: 0, \n",
      " Property Type: 1, \n",
      " Room Type: 0, \n",
      " Cancellation Policy: 0, \n",
      " Instant Booking: 0, \n",
      " Calculated Host Listings: 0, \n",
      " Host Total Listings 0, \n",
      " Number of Reviews: 0, \n",
      " Minimum Nights Required: 0, \n",
      " City: 0\n"
     ]
    }
   ],
   "source": [
    "zc = airbnb['zipcode'].isna().sum()\n",
    "price = airbnb['price'].isna().sum()\n",
    "ac = airbnb['accommodates'].isna().sum()\n",
    "ba = airbnb['bathrooms'].isna().sum()\n",
    "br = airbnb['bedrooms'].isna().sum()\n",
    "beds = airbnb['beds'].isna().sum()\n",
    "bedtype = airbnb['bed_type'].isna().sum()\n",
    "sh = airbnb['host_is_superhost'].isna().sum()\n",
    "hid = airbnb['host_identity_verified'].isna().sum()\n",
    "propertytype = airbnb['property_type'].isna().sum()\n",
    "roomtype = airbnb['room_type'].isna().sum()\n",
    "cancel = airbnb['cancellation_policy'].isna().sum()\n",
    "instant = airbnb['instant_bookable'].isna().sum()\n",
    "count = airbnb['calculated_host_listings_count'].isna().sum()\n",
    "count2 = airbnb['host_total_listings_count'].isna().sum()\n",
    "review_number = airbnb['number_of_reviews'].isna().sum()\n",
    "min_nights = airbnb['minimum_nights'].isna().sum()\n",
    "city = airbnb['city'].isna().sum()\n",
    "\n",
    "print(f\"\"\"NAN Totals and Percent Missing (out of {c}): \\n Zipcode: {zc}, \\n Price: {price}, \\n Accommodates: {ac}, \\n Bedrooms: {br}, \\n Bathrooms: {ba}, \\n Beds: {beds}, \\n Bed Type: {bedtype}, \\n Superhost: {sh}, \\n Host Id Verified: {hid}, \\n Property Type: {propertytype}, \\n Room Type: {roomtype}, \\n Cancellation Policy: {cancel}, \\n Instant Booking: {instant}, \\n Calculated Host Listings: {count}, \\n Host Total Listings {count2}, \\n Number of Reviews: {review_number}, \\n Minimum Nights Required: {min_nights}, \\n City: {city}\"\"\")"
   ]
  },
  {
   "cell_type": "code",
   "execution_count": 20,
   "metadata": {},
   "outputs": [
    {
     "data": {
      "text/plain": [
       "0       2.000000\n",
       "1       2.000000\n",
       "2       1.000000\n",
       "3       2.000000\n",
       "4       4.000000\n",
       "5       1.000000\n",
       "6       2.000000\n",
       "7       2.000000\n",
       "8       2.000000\n",
       "9       2.000000\n",
       "10      2.000000\n",
       "11      1.000000\n",
       "12      2.000000\n",
       "13      2.000000\n",
       "14      2.000000\n",
       "15      2.000000\n",
       "16      1.000000\n",
       "17      1.000000\n",
       "18      2.000000\n",
       "19      2.000000\n",
       "20      2.000000\n",
       "21      2.000000\n",
       "22      2.333333\n",
       "23      1.000000\n",
       "24      2.000000\n",
       "25      4.000000\n",
       "26      1.500000\n",
       "27      2.000000\n",
       "28      2.000000\n",
       "29      2.000000\n",
       "          ...   \n",
       "3693    1.000000\n",
       "3694    1.500000\n",
       "3695    2.000000\n",
       "3696    2.000000\n",
       "3697    1.500000\n",
       "3698    1.000000\n",
       "3699    2.000000\n",
       "3700    1.333333\n",
       "3701    2.000000\n",
       "3702    2.000000\n",
       "3703    3.000000\n",
       "3704    2.000000\n",
       "3705    2.500000\n",
       "3706    3.000000\n",
       "3707    3.000000\n",
       "3708    2.000000\n",
       "3709    2.000000\n",
       "3710    2.000000\n",
       "3711    1.000000\n",
       "3712    2.000000\n",
       "3713    1.666667\n",
       "3714    3.000000\n",
       "3715    1.000000\n",
       "3716    5.000000\n",
       "3717    2.333333\n",
       "3718    2.000000\n",
       "3719    2.000000\n",
       "3720    2.000000\n",
       "3721    2.000000\n",
       "3722    3.000000\n",
       "Name: comfort, Length: 3723, dtype: float64"
      ]
     },
     "execution_count": 20,
     "metadata": {},
     "output_type": "execute_result"
    }
   ],
   "source": [
    "# Creating possible comfort metrics\n",
    "golden_airbnb['comfort'] = golden_airbnb['accommodates'] / golden_airbnb['beds']\n",
    "golden_airbnb['comfort_two'] = golden_airbnb['accommodates'] / golden_airbnb['bedrooms']\n",
    "golden_airbnb['comfort_three'] = (golden_airbnb['accommodates'] / golden_airbnb['beds']) * (golden_airbnb['accommodates'] / golden_airbnb['bedrooms'])\n",
    "\n",
    "golden_airbnb['comfort']"
   ]
  },
  {
   "cell_type": "code",
   "execution_count": 21,
   "metadata": {},
   "outputs": [],
   "source": [
    "# golden_airbnb['comfort_two'].value_counts()\n",
    "# Not using due to inf"
   ]
  },
  {
   "cell_type": "code",
   "execution_count": 22,
   "metadata": {},
   "outputs": [],
   "source": [
    "# golden_airbnb['comfort_three'].value_counts()\n",
    "# Not using due to inf"
   ]
  },
  {
   "cell_type": "code",
   "execution_count": 23,
   "metadata": {},
   "outputs": [],
   "source": [
    "#Creating the Golden database\n",
    "golden_airbnb = golden_airbnb[[\n",
    "    'zipcode',\n",
    "    'price',\n",
    "    'accommodates',\n",
    "    'bathrooms',\n",
    "    'bedrooms',\n",
    "    'beds',\n",
    "    'bed_type',\n",
    "    'host_is_superhost',\n",
    "    'host_identity_verified',\n",
    "    'property_type',\n",
    "    'room_type',\n",
    "    'cancellation_policy',\n",
    "    'instant_bookable',\n",
    "    'calculated_host_listings_count',\n",
    "    'host_total_listings_count',\n",
    "    'number_of_reviews',\n",
    "    'minimum_nights',\n",
    "    'city',\n",
    "    'comfort',\n",
    "    'availability_30',\n",
    "    'availability_60',\n",
    "    'availability_90',\n",
    "    'availability_365'\n",
    "]]"
   ]
  },
  {
   "cell_type": "code",
   "execution_count": 24,
   "metadata": {},
   "outputs": [
    {
     "name": "stdout",
     "output_type": "stream",
     "text": [
      "NAN Totals and Percent Missing (out of 3723): \n",
      " Zipcode: 9, \n",
      " Price: 0, \n",
      " Accommodates: 0, \n",
      " Bedrooms: 21, \n",
      " Bathrooms: 27, \n",
      " Beds: 11, \n",
      " Bed Type: 0, \n",
      " Superhost: 0, \n",
      " Host Id Verified: 0, \n",
      " Property Type: 1, \n",
      " Room Type: 0, \n",
      " Cancellation Policy: 0, \n",
      " Instant Booking: 0, \n",
      " Calculated Host Listings: 0, \n",
      " Host Total Listings 0, \n",
      " Number of Reviews: 0, \n",
      " Minimum Nights Required: 0, \n",
      " City: 0\n"
     ]
    }
   ],
   "source": [
    "# Initial Metrics to clean\n",
    "zc = golden_airbnb['zipcode'].isna().sum()\n",
    "price = golden_airbnb['price'].isna().sum()\n",
    "ac = golden_airbnb['accommodates'].isna().sum()\n",
    "ba = golden_airbnb['bathrooms'].isna().sum()\n",
    "br = golden_airbnb['bedrooms'].isna().sum()\n",
    "beds = golden_airbnb['beds'].isna().sum()\n",
    "bedtype = golden_airbnb['bed_type'].isna().sum()\n",
    "sh = golden_airbnb['host_is_superhost'].isna().sum()\n",
    "hid = golden_airbnb['host_identity_verified'].isna().sum()\n",
    "propertytype = golden_airbnb['property_type'].isna().sum()\n",
    "roomtype = golden_airbnb['room_type'].isna().sum()\n",
    "cancel = golden_airbnb['cancellation_policy'].isna().sum()\n",
    "instant = golden_airbnb['instant_bookable'].isna().sum()\n",
    "count = golden_airbnb['calculated_host_listings_count'].isna().sum()\n",
    "count2 = golden_airbnb['host_total_listings_count'].isna().sum()\n",
    "review_number = golden_airbnb['number_of_reviews'].isna().sum()\n",
    "min_nights = golden_airbnb['minimum_nights'].isna().sum()\n",
    "city = airbnb['city'].isna().sum()\n",
    "\n",
    "print(f\"\"\"NAN Totals and Percent Missing (out of {c}): \\n Zipcode: {zc}, \\n Price: {price}, \\n Accommodates: {ac}, \\n Bedrooms: {br}, \\n Bathrooms: {ba}, \\n Beds: {beds}, \\n Bed Type: {bedtype}, \\n Superhost: {sh}, \\n Host Id Verified: {hid}, \\n Property Type: {propertytype}, \\n Room Type: {roomtype}, \\n Cancellation Policy: {cancel}, \\n Instant Booking: {instant}, \\n Calculated Host Listings: {count}, \\n Host Total Listings {count2}, \\n Number of Reviews: {review_number}, \\n Minimum Nights Required: {min_nights}, \\n City: {city}\"\"\")"
   ]
  },
  {
   "cell_type": "code",
   "execution_count": 25,
   "metadata": {},
   "outputs": [
    {
     "data": {
      "text/plain": [
       "(3661, 23)"
      ]
     },
     "execution_count": 25,
     "metadata": {},
     "output_type": "execute_result"
    }
   ],
   "source": [
    "golden_airbnb = golden_airbnb.dropna()\n",
    "golden_airbnb.shape"
   ]
  },
  {
   "cell_type": "code",
   "execution_count": 26,
   "metadata": {},
   "outputs": [
    {
     "name": "stdout",
     "output_type": "stream",
     "text": [
      "NAN Totals and Percent Missing (out of 3723): \n",
      " Zipcode: 0, \n",
      " Price: 0, \n",
      " Accommodates: 0, \n",
      " Bedrooms: 0, \n",
      " Bathrooms: 0, \n",
      " Beds: 0, \n",
      " Bed Type: 0, \n",
      " Superhost: 0, \n",
      " Host Id Verified: 0, \n",
      " Property Type: 0, \n",
      " Room Type: 0, \n",
      " Cancellation Policy: 0, \n",
      " Instant Booking: 0, \n",
      " Calculated Host Listings: 0, \n",
      " Host Total Listings 0, \n",
      " Number of Reviews: 0, \n",
      " Minimum Nights Required: 0, \n",
      " City: 0\n"
     ]
    }
   ],
   "source": [
    "#Verifying the initial metrics are clean\n",
    "zc = golden_airbnb['zipcode'].isna().sum()\n",
    "price = golden_airbnb['price'].isna().sum()\n",
    "ac = golden_airbnb['accommodates'].isna().sum()\n",
    "ba = golden_airbnb['bathrooms'].isna().sum()\n",
    "br = golden_airbnb['bedrooms'].isna().sum()\n",
    "beds = golden_airbnb['beds'].isna().sum()\n",
    "bedtype = golden_airbnb['bed_type'].isna().sum()\n",
    "sh = golden_airbnb['host_is_superhost'].isna().sum()\n",
    "hid = golden_airbnb['host_identity_verified'].isna().sum()\n",
    "propertytype = golden_airbnb['property_type'].isna().sum()\n",
    "roomtype = golden_airbnb['room_type'].isna().sum()\n",
    "cancel = golden_airbnb['cancellation_policy'].isna().sum()\n",
    "instant = golden_airbnb['instant_bookable'].isna().sum()\n",
    "count = golden_airbnb['calculated_host_listings_count'].isna().sum()\n",
    "count2 = golden_airbnb['host_total_listings_count'].isna().sum()\n",
    "review_number = golden_airbnb['number_of_reviews'].isna().sum()\n",
    "min_nights = golden_airbnb['minimum_nights'].isna().sum()\n",
    "city = golden_airbnb['city'].isna().sum()\n",
    "\n",
    "print(f\"\"\"NAN Totals and Percent Missing (out of {c}): \\n Zipcode: {zc}, \\n Price: {price}, \\n Accommodates: {ac}, \\n Bedrooms: {br}, \\n Bathrooms: {ba}, \\n Beds: {beds}, \\n Bed Type: {bedtype}, \\n Superhost: {sh}, \\n Host Id Verified: {hid}, \\n Property Type: {propertytype}, \\n Room Type: {roomtype}, \\n Cancellation Policy: {cancel}, \\n Instant Booking: {instant}, \\n Calculated Host Listings: {count}, \\n Host Total Listings {count2}, \\n Number of Reviews: {review_number}, \\n Minimum Nights Required: {min_nights}, \\n City: {city}\"\"\")"
   ]
  },
  {
   "cell_type": "code",
   "execution_count": 27,
   "metadata": {},
   "outputs": [
    {
     "data": {
      "text/plain": [
       "zipcode                           3661\n",
       "price                             3661\n",
       "accommodates                      3661\n",
       "bathrooms                         3661\n",
       "bedrooms                          3661\n",
       "beds                              3661\n",
       "bed_type                          3661\n",
       "host_is_superhost                 3661\n",
       "host_identity_verified            3661\n",
       "property_type                     3661\n",
       "room_type                         3661\n",
       "cancellation_policy               3661\n",
       "instant_bookable                  3661\n",
       "calculated_host_listings_count    3661\n",
       "host_total_listings_count         3661\n",
       "number_of_reviews                 3661\n",
       "minimum_nights                    3661\n",
       "city                              3661\n",
       "comfort                           3661\n",
       "availability_30                   3661\n",
       "availability_60                   3661\n",
       "availability_90                   3661\n",
       "availability_365                  3661\n",
       "dtype: int64"
      ]
     },
     "execution_count": 27,
     "metadata": {},
     "output_type": "execute_result"
    }
   ],
   "source": [
    "counting = golden_airbnb.count()\n",
    "counting"
   ]
  },
  {
   "cell_type": "code",
   "execution_count": 28,
   "metadata": {},
   "outputs": [
    {
     "data": {
      "text/html": [
       "<div>\n",
       "<style scoped>\n",
       "    .dataframe tbody tr th:only-of-type {\n",
       "        vertical-align: middle;\n",
       "    }\n",
       "\n",
       "    .dataframe tbody tr th {\n",
       "        vertical-align: top;\n",
       "    }\n",
       "\n",
       "    .dataframe thead th {\n",
       "        text-align: right;\n",
       "    }\n",
       "</style>\n",
       "<table border=\"1\" class=\"dataframe\">\n",
       "  <thead>\n",
       "    <tr style=\"text-align: right;\">\n",
       "      <th></th>\n",
       "      <th>zipcode</th>\n",
       "      <th>price</th>\n",
       "      <th>accommodates</th>\n",
       "      <th>bathrooms</th>\n",
       "      <th>bedrooms</th>\n",
       "      <th>beds</th>\n",
       "      <th>bed_type</th>\n",
       "      <th>host_is_superhost</th>\n",
       "      <th>host_identity_verified</th>\n",
       "      <th>property_type</th>\n",
       "      <th>...</th>\n",
       "      <th>calculated_host_listings_count</th>\n",
       "      <th>host_total_listings_count</th>\n",
       "      <th>number_of_reviews</th>\n",
       "      <th>minimum_nights</th>\n",
       "      <th>city</th>\n",
       "      <th>comfort</th>\n",
       "      <th>availability_30</th>\n",
       "      <th>availability_60</th>\n",
       "      <th>availability_90</th>\n",
       "      <th>availability_365</th>\n",
       "    </tr>\n",
       "  </thead>\n",
       "  <tbody>\n",
       "    <tr>\n",
       "      <th>1530</th>\n",
       "      <td>20064</td>\n",
       "      <td>$50.00</td>\n",
       "      <td>2</td>\n",
       "      <td>1.0</td>\n",
       "      <td>1.0</td>\n",
       "      <td>2.0</td>\n",
       "      <td>Real Bed</td>\n",
       "      <td>f</td>\n",
       "      <td>f</td>\n",
       "      <td>Apartment</td>\n",
       "      <td>...</td>\n",
       "      <td>1</td>\n",
       "      <td>1</td>\n",
       "      <td>4</td>\n",
       "      <td>1</td>\n",
       "      <td>Washington</td>\n",
       "      <td>1.0</td>\n",
       "      <td>5</td>\n",
       "      <td>5</td>\n",
       "      <td>5</td>\n",
       "      <td>249</td>\n",
       "    </tr>\n",
       "    <tr>\n",
       "      <th>1532</th>\n",
       "      <td>20064</td>\n",
       "      <td>$1,200.00</td>\n",
       "      <td>4</td>\n",
       "      <td>2.0</td>\n",
       "      <td>2.0</td>\n",
       "      <td>2.0</td>\n",
       "      <td>Real Bed</td>\n",
       "      <td>f</td>\n",
       "      <td>f</td>\n",
       "      <td>Apartment</td>\n",
       "      <td>...</td>\n",
       "      <td>1</td>\n",
       "      <td>1</td>\n",
       "      <td>0</td>\n",
       "      <td>1</td>\n",
       "      <td>Washington</td>\n",
       "      <td>2.0</td>\n",
       "      <td>0</td>\n",
       "      <td>0</td>\n",
       "      <td>0</td>\n",
       "      <td>0</td>\n",
       "    </tr>\n",
       "    <tr>\n",
       "      <th>1552</th>\n",
       "      <td>20064</td>\n",
       "      <td>$1,200.00</td>\n",
       "      <td>2</td>\n",
       "      <td>1.0</td>\n",
       "      <td>1.0</td>\n",
       "      <td>1.0</td>\n",
       "      <td>Real Bed</td>\n",
       "      <td>f</td>\n",
       "      <td>f</td>\n",
       "      <td>Apartment</td>\n",
       "      <td>...</td>\n",
       "      <td>1</td>\n",
       "      <td>1</td>\n",
       "      <td>0</td>\n",
       "      <td>2</td>\n",
       "      <td>Washington</td>\n",
       "      <td>2.0</td>\n",
       "      <td>0</td>\n",
       "      <td>0</td>\n",
       "      <td>0</td>\n",
       "      <td>0</td>\n",
       "    </tr>\n",
       "  </tbody>\n",
       "</table>\n",
       "<p>3 rows × 23 columns</p>\n",
       "</div>"
      ],
      "text/plain": [
       "     zipcode      price  accommodates  bathrooms  bedrooms  beds  bed_type  \\\n",
       "1530   20064     $50.00             2        1.0       1.0   2.0  Real Bed   \n",
       "1532   20064  $1,200.00             4        2.0       2.0   2.0  Real Bed   \n",
       "1552   20064  $1,200.00             2        1.0       1.0   1.0  Real Bed   \n",
       "\n",
       "     host_is_superhost host_identity_verified property_type        ...         \\\n",
       "1530                 f                      f     Apartment        ...          \n",
       "1532                 f                      f     Apartment        ...          \n",
       "1552                 f                      f     Apartment        ...          \n",
       "\n",
       "     calculated_host_listings_count host_total_listings_count  \\\n",
       "1530                              1                         1   \n",
       "1532                              1                         1   \n",
       "1552                              1                         1   \n",
       "\n",
       "     number_of_reviews  minimum_nights        city  comfort  availability_30  \\\n",
       "1530                 4               1  Washington      1.0                5   \n",
       "1532                 0               1  Washington      2.0                0   \n",
       "1552                 0               2  Washington      2.0                0   \n",
       "\n",
       "     availability_60  availability_90  availability_365  \n",
       "1530               5                5               249  \n",
       "1532               0                0                 0  \n",
       "1552               0                0                 0  \n",
       "\n",
       "[3 rows x 23 columns]"
      ]
     },
     "execution_count": 28,
     "metadata": {},
     "output_type": "execute_result"
    }
   ],
   "source": [
    "golden_airbnb[golden_airbnb['zipcode'] == '20064']"
   ]
  },
  {
   "cell_type": "code",
   "execution_count": 29,
   "metadata": {},
   "outputs": [],
   "source": [
    "golden_airbnb['price'] = golden_airbnb['price'].str.replace(r'\\$','').str.replace(r'\\,','').astype(float)"
   ]
  },
  {
   "cell_type": "code",
   "execution_count": 30,
   "metadata": {},
   "outputs": [
    {
     "data": {
      "text/plain": [
       "19"
      ]
     },
     "execution_count": 30,
     "metadata": {},
     "output_type": "execute_result"
    }
   ],
   "source": [
    "golden_airbnb['price'][golden_airbnb['price'] > 999].count()"
   ]
  },
  {
   "cell_type": "code",
   "execution_count": 31,
   "metadata": {},
   "outputs": [
    {
     "data": {
      "text/plain": [
       "30"
      ]
     },
     "execution_count": 31,
     "metadata": {},
     "output_type": "execute_result"
    }
   ],
   "source": [
    "golden_airbnb['price'][golden_airbnb['price'] > 699].count()"
   ]
  },
  {
   "cell_type": "code",
   "execution_count": 32,
   "metadata": {},
   "outputs": [
    {
     "data": {
      "text/plain": [
       "<matplotlib.axes._subplots.AxesSubplot at 0x15543518>"
      ]
     },
     "execution_count": 32,
     "metadata": {},
     "output_type": "execute_result"
    },
    {
     "data": {
      "image/png": "[encoded data removed]",
      "text/plain": [
       "<Figure size 432x288 with 1 Axes>"
      ]
     },
     "metadata": {
      "needs_background": "light"
     },
     "output_type": "display_data"
    }
   ],
   "source": [
    "pd.DataFrame(golden_airbnb['price']).plot.bar()"
   ]
  },
  {
   "cell_type": "code",
   "execution_count": 33,
   "metadata": {},
   "outputs": [
    {
     "data": {
      "image/png": "[encoded data removed]",
      "text/plain": [
       "<Figure size 432x288 with 1 Axes>"
      ]
     },
     "metadata": {
      "needs_background": "light"
     },
     "output_type": "display_data"
    }
   ],
   "source": [
    "df = pd.DataFrame(golden_airbnb['price'])\n",
    "hist = df.hist(bins=10)"
   ]
  },
  {
   "cell_type": "code",
   "execution_count": 34,
   "metadata": {},
   "outputs": [
    {
     "data": {
      "text/plain": [
       "2822.0"
      ]
     },
     "execution_count": 34,
     "metadata": {},
     "output_type": "execute_result"
    }
   ],
   "source": [
    "golden_airbnb['price'].max()"
   ]
  },
  {
   "cell_type": "code",
   "execution_count": 35,
   "metadata": {},
   "outputs": [
    {
     "data": {
      "image/png": "[encoded data removed]",
      "text/plain": [
       "<Figure size 432x288 with 1 Axes>"
      ]
     },
     "metadata": {
      "needs_background": "light"
     },
     "output_type": "display_data"
    }
   ],
   "source": [
    "x =plt.hist(golden_airbnb['price'],bins= 200)\n",
    "plt.xlabel('Cost per night')\n",
    "plt.ylabel('Number of Listings')\n",
    "plt.title('Availability at Cost per Night', fontsize=20)\n",
    "plt.xlim(0,1200)\n",
    "# set the ylim to ymin, ymax\n",
    "plt.savefig(\"Figures/Room_Prices.png\")"
   ]
  },
  {
   "cell_type": "code",
   "execution_count": 36,
   "metadata": {},
   "outputs": [
    {
     "data": {
      "text/plain": [
       "64"
      ]
     },
     "execution_count": 36,
     "metadata": {},
     "output_type": "execute_result"
    }
   ],
   "source": [
    "golden_airbnb['price'][golden_airbnb['price'] > 529].count()"
   ]
  },
  {
   "cell_type": "code",
   "execution_count": 37,
   "metadata": {},
   "outputs": [
    {
     "data": {
      "text/plain": [
       "0.017190437818963202"
      ]
     },
     "execution_count": 37,
     "metadata": {},
     "output_type": "execute_result"
    }
   ],
   "source": [
    "# % of observations above $529\n",
    "64/c"
   ]
  },
  {
   "cell_type": "code",
   "execution_count": 38,
   "metadata": {},
   "outputs": [
    {
     "data": {
      "text/plain": [
       "1404"
      ]
     },
     "execution_count": 38,
     "metadata": {},
     "output_type": "execute_result"
    }
   ],
   "source": [
    "golden_airbnb['price'][golden_airbnb['price'] < 100].count()"
   ]
  },
  {
   "cell_type": "code",
   "execution_count": 39,
   "metadata": {},
   "outputs": [
    {
     "data": {
      "text/plain": [
       "0.37711522965350525"
      ]
     },
     "execution_count": 39,
     "metadata": {},
     "output_type": "execute_result"
    }
   ],
   "source": [
    "# % of observations below $100\n",
    "1404/c"
   ]
  },
  {
   "cell_type": "code",
   "execution_count": 40,
   "metadata": {},
   "outputs": [
    {
     "data": {
      "text/plain": [
       "0.6056943325275316"
      ]
     },
     "execution_count": 40,
     "metadata": {},
     "output_type": "execute_result"
    }
   ],
   "source": [
    "# % of observations above $99 and below $530\n",
    "(c-1404-64)/c"
   ]
  },
  {
   "cell_type": "code",
   "execution_count": 41,
   "metadata": {},
   "outputs": [
    {
     "data": {
      "text/plain": [
       "100.0     165\n",
       "150.0     144\n",
       "125.0     124\n",
       "120.0     118\n",
       "99.0      110\n",
       "75.0      108\n",
       "90.0      106\n",
       "95.0      103\n",
       "85.0       94\n",
       "110.0      81\n",
       "65.0       80\n",
       "80.0       78\n",
       "70.0       73\n",
       "175.0      68\n",
       "60.0       67\n",
       "115.0      67\n",
       "130.0      59\n",
       "200.0      57\n",
       "105.0      55\n",
       "250.0      55\n",
       "50.0       54\n",
       "89.0       53\n",
       "135.0      52\n",
       "140.0      45\n",
       "149.0      43\n",
       "55.0       42\n",
       "79.0       39\n",
       "300.0      35\n",
       "129.0      35\n",
       "119.0      33\n",
       "         ... \n",
       "81.0        1\n",
       "418.0       1\n",
       "219.0       1\n",
       "975.0       1\n",
       "695.0       1\n",
       "720.0       1\n",
       "253.0       1\n",
       "171.0       1\n",
       "161.0       1\n",
       "223.0       1\n",
       "390.0       1\n",
       "167.0       1\n",
       "268.0       1\n",
       "186.0       1\n",
       "319.0       1\n",
       "345.0       1\n",
       "2822.0      1\n",
       "310.0       1\n",
       "267.0       1\n",
       "700.0       1\n",
       "379.0       1\n",
       "163.0       1\n",
       "191.0       1\n",
       "133.0       1\n",
       "679.0       1\n",
       "1300.0      1\n",
       "750.0       1\n",
       "193.0       1\n",
       "312.0       1\n",
       "474.0       1\n",
       "Name: price, Length: 284, dtype: int64"
      ]
     },
     "execution_count": 41,
     "metadata": {},
     "output_type": "execute_result"
    }
   ],
   "source": [
    "golden_airbnb['price'].value_counts()"
   ]
  },
  {
   "cell_type": "code",
   "execution_count": 42,
   "metadata": {},
   "outputs": [],
   "source": [
    "#creating CSV file of the golden version to import for machine learning analysis\n",
    "\n",
    "golden_airbnb.to_csv('golden.csv')"
   ]
  },
  {
   "cell_type": "code",
   "execution_count": 43,
   "metadata": {},
   "outputs": [],
   "source": [
    "def lin_reg(X, y):\n",
    "    # Splitting data into train & test\n",
    "    X_train, X_test, y_train, y_test = train_test_split(X, y, random_state=42)\n",
    "    # Create a LinearRegression model and fit it to the training data\n",
    "    model = LinearRegression()\n",
    "    model.fit(X_train, y_train)\n",
    "    #print out interesting results\n",
    "    print(f'The intercept value is: {model.intercept_}')\n",
    "    predictions = model.predict(X_test)\n",
    "    MSE = mean_squared_error(y_test, predictions)\n",
    "    r2 = model.score(X_test, y_test)\n",
    "    r2a = 1 - (1-model.score(X_test, y_test))*(len(y_test)-1)/(len(y_test)-X_test.shape[1]-1)\n",
    "    print(f''' MSE: {MSE}, \\n R2: {r2}, \\n Radjusted: {r2a} \\n \\n''')\n",
    "    print([x for x in zip(model.coef_, X.columns)])\n",
    "    print('----------------------------------------')\n",
    "    pd.DataFrame(model.coef_).plot.bar()"
   ]
  },
  {
   "cell_type": "markdown",
   "metadata": {},
   "source": [
    "# Initial Exploration Regressions on golden data"
   ]
  },
  {
   "cell_type": "markdown",
   "metadata": {},
   "source": [
    "# Test 1"
   ]
  },
  {
   "cell_type": "code",
   "execution_count": 44,
   "metadata": {},
   "outputs": [
    {
     "name": "stdout",
     "output_type": "stream",
     "text": [
      "(3661, 92) (3661,)\n"
     ]
    }
   ],
   "source": [
    "# Assign X (data) and y (target)\n",
    "# Maybe instead of city use zipcode but either dummy variable that or scale it? Descale it?\n",
    "X_t1 = pd.get_dummies(golden_airbnb[[\"comfort\", \"zipcode\", \"host_is_superhost\", \"host_identity_verified\", \"property_type\", \"room_type\",\n",
    " \"cancellation_policy\", \"instant_bookable\", \"calculated_host_listings_count\", \"number_of_reviews\", \"minimum_nights\",\n",
    " \"accommodates\", \"bathrooms\", \"bedrooms\", \"beds\", \"city\", \"host_total_listings_count\", \"bed_type\"]])\n",
    "y_t1 = golden_airbnb[\"price\"]\n",
    "print(X_t1.shape, y_t1.shape)"
   ]
  },
  {
   "cell_type": "code",
   "execution_count": 45,
   "metadata": {},
   "outputs": [
    {
     "name": "stdout",
     "output_type": "stream",
     "text": [
      "The intercept value is: -145.70564650249452\n",
      " MSE: 18129.445088268374, \n",
      " R2: 0.39412730446248545, \n",
      " Radjusted: 0.3263991295056794 \n",
      " \n",
      "\n",
      "[(18.54759419508785, 'comfort'), (0.0005299273525971038, 'calculated_host_listings_count'), (-0.17084144761210068, 'number_of_reviews'), (-0.9374566724378135, 'minimum_nights'), (-0.3502438403377113, 'accommodates'), (46.92235895220273, 'bathrooms'), (38.346210206465834, 'bedrooms'), (14.959891670460895, 'beds'), (0.9686660208815248, 'host_total_listings_count'), (-10.797464727627135, 'zipcode_20001'), (-54.279331475134256, 'zipcode_20001-4044'), (-28.156296525738103, 'zipcode_20002'), (-18.441500911522418, 'zipcode_20002-6645'), (-8.69906592433787, 'zipcode_20003'), (-40.31857606741692, 'zipcode_20003-3021'), (53.11997331642294, 'zipcode_20004'), (0.6881274434267335, 'zipcode_20005'), (20.359502026472974, 'zipcode_20006'), (28.586372589673953, 'zipcode_20007'), (44.70791198301417, 'zipcode_20007-3413'), (1.915985252070162, 'zipcode_20008'), (-18.245755324288222, 'zipcode_20009'), (-42.59448689120377, 'zipcode_20010'), (-51.18187426699877, 'zipcode_20011'), (-54.52208042114222, 'zipcode_20012'), (-29.45126054982634, 'zipcode_20015'), (-14.934752107906537, 'zipcode_20016'), (40.27558805628775, 'zipcode_20017'), (-5.812199722596985, 'zipcode_20018'), (-3.866383841527617, 'zipcode_20019'), (-45.554781568332494, 'zipcode_20020'), (-20.13720369443449, 'zipcode_20024'), (-42.10975597069883, 'zipcode_20032'), (12.414289396584177, 'zipcode_20036'), (0.8542643683472846, 'zipcode_20037'), (30.03930305315893, 'zipcode_20052'), (491.6177207106287, 'zipcode_20064'), (-77.70121406551159, 'zipcode_20229'), (-102.07099678428962, 'zipcode_20268'), (-31.712034480886356, 'zipcode_20712'), (-34.286530851720585, 'zipcode_20743'), (-34.98630873378543, 'zipcode_20782'), (-20.658666909579576, 'zipcode_20815'), (-18.661109279905887, 'zipcode_20910'), (-39.66006860588631, 'zipcode_20912'), (124.26066150620994, 'zipcode_21403'), (3.552713678800501e-14, 'zipcode_22209'), (-7.004477207229072, 'host_is_superhost_f'), (7.004477207228803, 'host_is_superhost_t'), (3.840826977625019, 'host_identity_verified_f'), (-3.840826977624415, 'host_identity_verified_t'), (16.661748245216383, 'property_type_Apartment'), (46.53163363913186, 'property_type_Bed & Breakfast'), (-75.9833420746348, 'property_type_Boat'), (12.944632129468054, 'property_type_Bungalow'), (23.103019112974135, 'property_type_Cabin'), (3.632122887646849, 'property_type_Condominium'), (-159.03914965039485, 'property_type_Dorm'), (13.412515039238095, 'property_type_House'), (13.775900482141225, 'property_type_Loft'), (90.47170096782, 'property_type_Other'), (14.489219221391604, 'property_type_Townhouse'), (37.229220117484644, 'room_type_Entire home/apt'), (-1.7699855711587134, 'room_type_Private room'), (-35.45923454632371, 'room_type_Shared room'), (98.78827460955486, 'cancellation_policy_flexible'), (86.41358019892118, 'cancellation_policy_moderate'), (95.00952401414722, 'cancellation_policy_strict'), (-280.21137882262303, 'cancellation_policy_super_strict_30'), (4.627341156342673, 'instant_bookable_f'), (-4.627341156342247, 'instant_bookable_t'), (9.780916907990358, 'city_Adams Morgan'), (124.2606615062096, 'city_Annapolis'), (0.0, 'city_Arlington'), (-34.28653085172046, 'city_Capitol Heights'), (0.0, 'city_Capitol Hill, Washington'), (0.0, 'city_Columbia Heights, middle of DC!'), (32.41693388572325, 'city_Dupont Circle'), (-34.98630873378555, 'city_Hyattsville'), (-31.712034480885865, 'city_Mount Rainier'), (0.0, 'city_New York'), (-18.661109279906103, 'city_Silver Spring'), (-39.66006860588645, 'city_Takoma Park'), (14.16881080828988, 'city_Washington'), (-22.031054083963987, 'city_Washington '), (21.36844983751525, 'city_Washington, D.C.'), (-20.65866690957936, 'city_chevy chase'), (7.033779740019597, 'bed_type_Airbed'), (15.840929954244972, 'bed_type_Couch'), (-15.183982910400246, 'bed_type_Futon'), (-3.915872392095905, 'bed_type_Pull-out Sofa'), (-3.7748543917681303, 'bed_type_Real Bed')]\n",
      "----------------------------------------\n"
     ]
    },
    {
     "data": {
      "image/png": "[encoded data removed]",
      "text/plain": [
       "<Figure size 432x288 with 1 Axes>"
      ]
     },
     "metadata": {
      "needs_background": "light"
     },
     "output_type": "display_data"
    }
   ],
   "source": [
    "lin_reg(X_t1, y_t1)"
   ]
  },
  {
   "cell_type": "markdown",
   "metadata": {},
   "source": [
    "# Test 2"
   ]
  },
  {
   "cell_type": "code",
   "execution_count": 46,
   "metadata": {},
   "outputs": [
    {
     "name": "stdout",
     "output_type": "stream",
     "text": [
      "(3661, 54) (3661,)\n"
     ]
    }
   ],
   "source": [
    "# Assign X (data) and y (target)\n",
    "# Model Has no Zipcodes\n",
    "X_t2 = golden_airbnb[[\"minimum_nights\", \"beds\", \"host_total_listings_count\", \"number_of_reviews\", \"calculated_host_listings_count\", \n",
    " \"comfort\"]].join(pd.get_dummies(golden_airbnb[[\"host_is_superhost\", \"host_identity_verified\", \"property_type\", \"room_type\",\n",
    " \"cancellation_policy\", \"instant_bookable\", \"accommodates\", \"bathrooms\", \"bedrooms\", \"city\", \"bed_type\"]]))\n",
    "y_t2 = golden_airbnb[\"price\"]\n",
    "print(X_t2.shape, y_t2.shape)"
   ]
  },
  {
   "cell_type": "code",
   "execution_count": 47,
   "metadata": {},
   "outputs": [
    {
     "name": "stdout",
     "output_type": "stream",
     "text": [
      "The intercept value is: -167.07349527609813\n",
      " MSE: 19136.55292854973, \n",
      " R2: 0.3604705025627364, \n",
      " Radjusted: 0.3203606386119672 \n",
      " \n",
      "\n",
      "[(-0.7315545022476231, 'minimum_nights'), (14.924014305849282, 'beds'), (0.9838060175793917, 'host_total_listings_count'), (-0.17719910598376742, 'number_of_reviews'), (0.2518290390367106, 'calculated_host_listings_count'), (18.48392266893715, 'comfort'), (-0.19761701117816344, 'accommodates'), (47.23523513218484, 'bathrooms'), (36.91853026757836, 'bedrooms'), (-6.558091094293724, 'host_is_superhost_f'), (6.558091094293944, 'host_is_superhost_t'), (5.05546398376147, 'host_identity_verified_f'), (-5.055463983761644, 'host_identity_verified_t'), (22.923700496266225, 'property_type_Apartment'), (51.51217631905585, 'property_type_Bed & Breakfast'), (-75.9247570547646, 'property_type_Boat'), (-14.988141741856111, 'property_type_Bungalow'), (13.144030730286687, 'property_type_Cabin'), (10.56704268571548, 'property_type_Condominium'), (-152.3255452277589, 'property_type_Dorm'), (15.224655732275892, 'property_type_House'), (25.804850391791916, 'property_type_Loft'), (82.49991086023343, 'property_type_Other'), (21.56207680875401, 'property_type_Townhouse'), (38.15044178593698, 'room_type_Entire home/apt'), (-3.621864580382379, 'room_type_Private room'), (-34.52857720555421, 'room_type_Shared room'), (100.09654009238497, 'cancellation_policy_flexible'), (85.95562461578709, 'cancellation_policy_moderate'), (94.18360280656383, 'cancellation_policy_strict'), (-280.2357675147354, 'cancellation_policy_super_strict_30'), (5.191035666054536, 'instant_bookable_f'), (-5.191035666053706, 'instant_bookable_t'), (2.0603665628692247, 'city_Adams Morgan'), (263.55538356081377, 'city_Annapolis'), (0.0, 'city_Arlington'), (-50.82892865253703, 'city_Capitol Heights'), (-3.552713678800501e-15, 'city_Capitol Hill, Washington'), (3.552713678800501e-15, 'city_Columbia Heights, middle of DC!'), (25.237351799212885, 'city_Dupont Circle'), (-52.66946329657855, 'city_Hyattsville'), (-49.862018905446945, 'city_Mount Rainier'), (0.0, 'city_New York'), (-27.542116993287244, 'city_Silver Spring'), (-65.58678143730185, 'city_Takoma Park'), (11.92020851408491, 'city_Washington'), (-40.817121534677035, 'city_Washington '), (17.760880893482895, 'city_Washington, D.C.'), (-33.22776051063502, 'city_chevy chase'), (6.744903706726588, 'bed_type_Airbed'), (6.390839790173604, 'bed_type_Couch'), (-13.041757550392207, 'bed_type_Futon'), (0.6183207723661557, 'bed_type_Pull-out Sofa'), (-0.712306718874816, 'bed_type_Real Bed')]\n",
      "----------------------------------------\n"
     ]
    },
    {
     "data": {
      "image/png": "[encoded data removed]",
      "text/plain": [
       "<Figure size 432x288 with 1 Axes>"
      ]
     },
     "metadata": {
      "needs_background": "light"
     },
     "output_type": "display_data"
    }
   ],
   "source": [
    "lin_reg(X_t2, y_t2)"
   ]
  },
  {
   "cell_type": "markdown",
   "metadata": {},
   "source": [
    "# Testing Correlation for feature selection of Beds vs Bedrooms vs Accommodations"
   ]
  },
  {
   "cell_type": "markdown",
   "metadata": {},
   "source": [
    "# Regression Test 1 for Feature Selection for beds/bedrooms/accommodates"
   ]
  },
  {
   "cell_type": "code",
   "execution_count": 48,
   "metadata": {},
   "outputs": [
    {
     "name": "stdout",
     "output_type": "stream",
     "text": [
      "(3661, 31) (3661,)\n"
     ]
    }
   ],
   "source": [
    "# Assign X (data) and y (target)\n",
    "# Test one for beds\n",
    "X_bed = golden_airbnb[[\"beds\"]].join(pd.get_dummies(golden_airbnb[[\"property_type\", \"room_type\", \"city\"]]))\n",
    "y_bed = golden_airbnb[\"price\"]\n",
    "print(X_bed.shape, y_bed.shape)"
   ]
  },
  {
   "cell_type": "code",
   "execution_count": 49,
   "metadata": {},
   "outputs": [
    {
     "name": "stdout",
     "output_type": "stream",
     "text": [
      "The intercept value is: -82801751609154.86\n",
      " MSE: 1.2635348455022634e+22, \n",
      " R2: -4.222640345707093e+17, \n",
      " Radjusted: -4.370719362355192e+17 \n",
      " \n",
      "\n",
      "[(42.248320123265835, 'beds'), (-4693990403968.727, 'property_type_Apartment'), (-4693990403904.671, 'property_type_Bed & Breakfast'), (-4693990404131.283, 'property_type_Boat'), (-4693990403979.963, 'property_type_Bungalow'), (-4693990403993.671, 'property_type_Cabin'), (-4693990403973.885, 'property_type_Condominium'), (-4693990404384.8125, 'property_type_Dorm'), (-4693990403953.607, 'property_type_House'), (-4693990403937.001, 'property_type_Loft'), (-4693990403916.136, 'property_type_Other'), (-4693990403942.719, 'property_type_Townhouse'), (86996714061423.16, 'room_type_Entire home/apt'), (86996714061364.56, 'room_type_Private room'), (86996714061323.55, 'room_type_Shared room'), (499027951783.1291, 'city_Adams Morgan'), (499027952069.0396, 'city_Annapolis'), (-1346030244195.2222, 'city_Arlington'), (499027951739.65784, 'city_Capitol Heights'), (-2097536480510.9805, 'city_Capitol Hill, Washington'), (-586588780997.0079, 'city_Columbia Heights, middle of DC!'), (499027951758.9055, 'city_Dupont Circle'), (499027951751.6332, 'city_Hyattsville'), (499027951718.39526, 'city_Mount Rainier'), (0.07568359375, 'city_New York'), (499027951761.6769, 'city_Silver Spring'), (499027951754.34204, 'city_Takoma Park'), (499027951793.0574, 'city_Washington'), (499027951737.94586, 'city_Washington '), (499027951793.8077, 'city_Washington, D.C.'), (499027951758.13696, 'city_chevy chase')]\n",
      "----------------------------------------\n"
     ]
    },
    {
     "data": {
      "image/png": "[encoded data removed]",
      "text/plain": [
       "<Figure size 432x288 with 1 Axes>"
      ]
     },
     "metadata": {
      "needs_background": "light"
     },
     "output_type": "display_data"
    }
   ],
   "source": [
    "lin_reg(X_bed, y_bed)"
   ]
  },
  {
   "cell_type": "markdown",
   "metadata": {},
   "source": [
    "# Regression Test 2 for Feature Selection for beds/bedrooms/accommodates"
   ]
  },
  {
   "cell_type": "code",
   "execution_count": 50,
   "metadata": {},
   "outputs": [
    {
     "name": "stdout",
     "output_type": "stream",
     "text": [
      "(3661, 31) (3661,)\n"
     ]
    }
   ],
   "source": [
    "# test 2 for bedrooms\n",
    "# Assign X (data) and y (target)\n",
    "X_br = golden_airbnb[[\"bedrooms\"]].join(pd.get_dummies(golden_airbnb[[\"property_type\", \"room_type\", \"city\"]]))\n",
    "y_br = golden_airbnb[\"price\"]\n",
    "print(X_br.shape, y_br.shape)"
   ]
  },
  {
   "cell_type": "code",
   "execution_count": 51,
   "metadata": {},
   "outputs": [
    {
     "name": "stdout",
     "output_type": "stream",
     "text": [
      "The intercept value is: -480909474200306.5\n",
      " MSE: 6.870051169092845e+23, \n",
      " R2: -2.2959204763484033e+19, \n",
      " Radjusted: -2.376433524727137e+19 \n",
      " \n",
      "\n",
      "[(73.29408214098882, 'bedrooms'), (74388420960517.66, 'property_type_Apartment'), (74388420960572.88, 'property_type_Bed & Breakfast'), (74388420960388.52, 'property_type_Boat'), (74388420960486.12, 'property_type_Bungalow'), (74388420960471.27, 'property_type_Cabin'), (74388420960501.58, 'property_type_Condominium'), (74388420960499.89, 'property_type_Dorm'), (74388420960510.45, 'property_type_House'), (74388420960535.52, 'property_type_Loft'), (74388420960614.84, 'property_type_Other'), (74388420960510.98, 'property_type_Townhouse'), (419060297733192.6, 'room_type_Entire home/apt'), (419060297733133.75, 'room_type_Private room'), (419060297733097.2, 'room_type_Shared room'), (-12539244493351.904, 'city_Adams Morgan'), (-12539244493046.04, 'city_Annapolis'), (14595727588.46875, 'city_Arlington'), (-12539244493373.36, 'city_Capitol Heights'), (-6929193.265625, 'city_Capitol Hill, Washington'), (-32810.46875, 'city_Columbia Heights, middle of DC!'), (-12539244493333.896, 'city_Dupont Circle'), (-12539244493361.174, 'city_Hyattsville'), (-12539244493408.299, 'city_Mount Rainier'), (1.1102230246251565e-16, 'city_New York'), (-12539244493355.777, 'city_Silver Spring'), (-12539244493418.41, 'city_Takoma Park'), (-12539244493322.182, 'city_Washington'), (-12539244493374.77, 'city_Washington '), (-12539244493321.025, 'city_Washington, D.C.'), (-12539244493376.916, 'city_chevy chase')]\n",
      "----------------------------------------\n"
     ]
    },
    {
     "data": {
      "image/png": "[encoded data removed]",
      "text/plain": [
       "<Figure size 432x288 with 1 Axes>"
      ]
     },
     "metadata": {
      "needs_background": "light"
     },
     "output_type": "display_data"
    }
   ],
   "source": [
    "lin_reg(X_br, y_br)"
   ]
  },
  {
   "cell_type": "markdown",
   "metadata": {},
   "source": [
    "# Regression Test 3 for Feature Selection for beds/bedrooms/accommodates"
   ]
  },
  {
   "cell_type": "code",
   "execution_count": 52,
   "metadata": {},
   "outputs": [
    {
     "name": "stdout",
     "output_type": "stream",
     "text": [
      "(3661, 31) (3661,)\n"
     ]
    }
   ],
   "source": [
    "# test 3 for accommodates\n",
    "# Assign X (data) and y (target)\n",
    "X_acc = golden_airbnb[[\"accommodates\"]].join(pd.get_dummies(golden_airbnb[[\"property_type\", \"room_type\", \"city\"]]))\n",
    "y_acc = golden_airbnb[\"price\"]\n",
    "print(X_acc.shape, y_acc.shape)"
   ]
  },
  {
   "cell_type": "code",
   "execution_count": 53,
   "metadata": {},
   "outputs": [
    {
     "name": "stdout",
     "output_type": "stream",
     "text": [
      "The intercept value is: 768659434161524.6\n",
      " MSE: 7.0740063135506165e+22, \n",
      " R2: -2.364080782711744e+18, \n",
      " Radjusted: -2.4469840680783324e+18 \n",
      " \n",
      "\n",
      "[(28.40966143336184, 'accommodates'), (-27489975454605.273, 'property_type_Apartment'), (-27489975454539.7, 'property_type_Bed & Breakfast'), (-27489975454605.266, 'property_type_Boat'), (-27489975454703.125, 'property_type_Bungalow'), (-27489975454367.637, 'property_type_Cabin'), (-27489975454622.63, 'property_type_Condominium'), (-27489975454588.098, 'property_type_Dorm'), (-27489975454594.6, 'property_type_House'), (-27489975454596.395, 'property_type_Loft'), (-27489975454564.664, 'property_type_Other'), (-27489975454596.855, 'property_type_Townhouse'), (-744869626379564.9, 'room_type_Entire home/apt'), (-744869626379603.6, 'room_type_Private room'), (-744869626379638.6, 'room_type_Shared room'), (3700167672712.1577, 'city_Adams Morgan'), (3700167672376.0127, 'city_Annapolis'), (9148111769588.234, 'city_Arlington'), (3700167672581.4775, 'city_Capitol Heights'), (1646010783215.5625, 'city_Capitol Hill, Washington'), (-447964632027.3125, 'city_Columbia Heights, middle of DC!'), (3700167672614.0596, 'city_Dupont Circle'), (3700167672709.4795, 'city_Hyattsville'), (3700167672609.91, 'city_Mount Rainier'), (1.46875, 'city_New York'), (3700167672812.929, 'city_Silver Spring'), (3700167672488.518, 'city_Takoma Park'), (3700167672711.27, 'city_Washington'), (3700167672704.348, 'city_Washington '), (3700167672709.563, 'city_Washington, D.C.'), (3700167672687.4897, 'city_chevy chase')]\n",
      "----------------------------------------\n"
     ]
    },
    {
     "data": {
      "image/png": "[encoded data removed]",
      "text/plain": [
       "<Figure size 432x288 with 1 Axes>"
      ]
     },
     "metadata": {
      "needs_background": "light"
     },
     "output_type": "display_data"
    }
   ],
   "source": [
    "lin_reg(X_acc, y_acc)"
   ]
  },
  {
   "cell_type": "markdown",
   "metadata": {},
   "source": [
    "# Regression Test 4 for Feature Selection for beds/bedrooms/accommodates"
   ]
  },
  {
   "cell_type": "code",
   "execution_count": 54,
   "metadata": {},
   "outputs": [
    {
     "name": "stdout",
     "output_type": "stream",
     "text": [
      "(3661, 1) (3661,)\n"
     ]
    }
   ],
   "source": [
    "# Assign X (data) and y (target)\n",
    "# Test four for beds\n",
    "X_beds = golden_airbnb[[\"beds\"]]\n",
    "y_beds = golden_airbnb[\"price\"]\n",
    "print(X_beds.shape, y_beds.shape)"
   ]
  },
  {
   "cell_type": "code",
   "execution_count": 55,
   "metadata": {},
   "outputs": [
    {
     "name": "stdout",
     "output_type": "stream",
     "text": [
      "The intercept value is: 68.11036434920739\n",
      " MSE: 23567.59910121577, \n",
      " R2: 0.21238820464278482, \n",
      " Radjusted: 0.21152648495421011 \n",
      " \n",
      "\n",
      "[(47.7556401460101, 'beds')]\n",
      "----------------------------------------\n"
     ]
    },
    {
     "data": {
      "image/png": "[encoded data removed]",
      "text/plain": [
       "<Figure size 432x288 with 1 Axes>"
      ]
     },
     "metadata": {
      "needs_background": "light"
     },
     "output_type": "display_data"
    }
   ],
   "source": [
    "lin_reg(X_beds, y_beds)"
   ]
  },
  {
   "cell_type": "markdown",
   "metadata": {},
   "source": [
    "# Regression Test 5 for Feature Selection for beds/bedrooms/accommodates"
   ]
  },
  {
   "cell_type": "code",
   "execution_count": 56,
   "metadata": {},
   "outputs": [
    {
     "name": "stdout",
     "output_type": "stream",
     "text": [
      "(3661, 1) (3661,)\n"
     ]
    }
   ],
   "source": [
    "# Assign X (data) and y (target)\n",
    "# Test five for bedrooms\n",
    "X_brs = golden_airbnb[[\"bedrooms\"]]\n",
    "y_brs = golden_airbnb[\"price\"]\n",
    "print(X_brs.shape, y_brs.shape)"
   ]
  },
  {
   "cell_type": "code",
   "execution_count": 57,
   "metadata": {},
   "outputs": [
    {
     "name": "stdout",
     "output_type": "stream",
     "text": [
      "The intercept value is: 52.88296422135069\n",
      " MSE: 21935.339205479027, \n",
      " R2: 0.26693712757080923, \n",
      " Radjusted: 0.2661350894171668 \n",
      " \n",
      "\n",
      "[(77.75068169047964, 'bedrooms')]\n",
      "----------------------------------------\n"
     ]
    },
    {
     "data": {
      "image/png": "[encoded data removed]",
      "text/plain": [
       "<Figure size 432x288 with 1 Axes>"
      ]
     },
     "metadata": {
      "needs_background": "light"
     },
     "output_type": "display_data"
    }
   ],
   "source": [
    "lin_reg(X_brs, y_brs)"
   ]
  },
  {
   "cell_type": "markdown",
   "metadata": {},
   "source": [
    "# Regression Test 6 for Feature Selection for beds/bedrooms/accommodates"
   ]
  },
  {
   "cell_type": "code",
   "execution_count": 58,
   "metadata": {},
   "outputs": [
    {
     "name": "stdout",
     "output_type": "stream",
     "text": [
      "(3661, 1) (3661,)\n"
     ]
    }
   ],
   "source": [
    "# Assign X (data) and y (target)\n",
    "# Test six for accommodates\n",
    "X_accommodates = golden_airbnb[[\"accommodates\"]]\n",
    "y_accommodates = golden_airbnb[\"price\"]\n",
    "print(X_accommodates.shape, y_accommodates.shape)"
   ]
  },
  {
   "cell_type": "code",
   "execution_count": 59,
   "metadata": {},
   "outputs": [
    {
     "name": "stdout",
     "output_type": "stream",
     "text": [
      "The intercept value is: 42.8673637871738\n",
      " MSE: 22932.664250557835, \n",
      " R2: 0.23360725947793604, \n",
      " Radjusted: 0.23276875538546105 \n",
      " \n",
      "\n",
      "[(32.42055464292939, 'accommodates')]\n",
      "----------------------------------------\n"
     ]
    },
    {
     "data": {
      "image/png": "[encoded data removed]",
      "text/plain": [
       "<Figure size 432x288 with 1 Axes>"
      ]
     },
     "metadata": {
      "needs_background": "light"
     },
     "output_type": "display_data"
    }
   ],
   "source": [
    "lin_reg(X_accommodates, y_accommodates)"
   ]
  },
  {
   "cell_type": "markdown",
   "metadata": {},
   "source": [
    "# Regression Test 7 for Feature Selection for beds/bedrooms/accommodates: comfort"
   ]
  },
  {
   "cell_type": "code",
   "execution_count": 60,
   "metadata": {},
   "outputs": [
    {
     "name": "stdout",
     "output_type": "stream",
     "text": [
      "(3661, 1) (3661,)\n"
     ]
    }
   ],
   "source": [
    "# Assign X (data) and y (target)\n",
    "# Test seven for comfort (acc/beds)\n",
    "X_comfort = golden_airbnb[[\"comfort\"]]\n",
    "y_comfort = golden_airbnb[\"price\"]\n",
    "print(X_comfort.shape, y_comfort.shape)"
   ]
  },
  {
   "cell_type": "code",
   "execution_count": 61,
   "metadata": {},
   "outputs": [
    {
     "name": "stdout",
     "output_type": "stream",
     "text": [
      "The intercept value is: 106.53178371886288\n",
      " MSE: 30056.8516076187, \n",
      " R2: -0.004477832289702777, \n",
      " Radjusted: -0.0055768233534769784 \n",
      " \n",
      "\n",
      "[(19.651928471300504, 'comfort')]\n",
      "----------------------------------------\n"
     ]
    },
    {
     "data": {
      "image/png": "[encoded data removed]",
      "text/plain": [
       "<Figure size 432x288 with 1 Axes>"
      ]
     },
     "metadata": {
      "needs_background": "light"
     },
     "output_type": "display_data"
    }
   ],
   "source": [
    "lin_reg(X_comfort, y_comfort)"
   ]
  },
  {
   "cell_type": "markdown",
   "metadata": {},
   "source": [
    "# Testing with accommodates vs bedrooms"
   ]
  },
  {
   "cell_type": "code",
   "execution_count": 62,
   "metadata": {},
   "outputs": [
    {
     "name": "stdout",
     "output_type": "stream",
     "text": [
      "(3661, 89) (3661,)\n"
     ]
    }
   ],
   "source": [
    "# Assign X (data) and y (target)\n",
    "#test 8 for bedrooms comfort removed\n",
    "X_t8br = golden_airbnb[[\"minimum_nights\", \"bedrooms\", \"host_total_listings_count\", \"number_of_reviews\", \n",
    "                   \"calculated_host_listings_count\"]].join(pd.get_dummies(golden_airbnb[[\"host_is_superhost\", \"host_identity_verified\", \"property_type\", \"room_type\",\n",
    " \"cancellation_policy\", \"instant_bookable\", \"bathrooms\", \"city\", \"zipcode\", \"bed_type\"]]))\n",
    "y_t8br = golden_airbnb[\"price\"]\n",
    "print(X_t8br.shape, y_t8br.shape)"
   ]
  },
  {
   "cell_type": "code",
   "execution_count": 63,
   "metadata": {},
   "outputs": [
    {
     "name": "stdout",
     "output_type": "stream",
     "text": [
      "The intercept value is: -99.30266908481562\n",
      " MSE: 18384.191913758244, \n",
      " R2: 0.38561385327367614, \n",
      " Radjusted: 0.3194148616772563 \n",
      " \n",
      "\n",
      "[(-1.0560424518427314, 'minimum_nights'), (48.000784860259856, 'bedrooms'), (0.948002738966899, 'host_total_listings_count'), (-0.13656525978553447, 'number_of_reviews'), (0.21527512104095337, 'calculated_host_listings_count'), (52.353490233288795, 'bathrooms'), (-7.404600312568817, 'host_is_superhost_f'), (7.4046003125695705, 'host_is_superhost_t'), (3.3722841703918327, 'host_identity_verified_f'), (-3.3722841703916924, 'host_identity_verified_t'), (1.5458823388808511, 'property_type_Apartment'), (28.092427953253242, 'property_type_Bed & Breakfast'), (-88.40966241196587, 'property_type_Boat'), (13.917237965446981, 'property_type_Bungalow'), (-10.256168727923704, 'property_type_Cabin'), (-10.892318959646587, 'property_type_Condominium'), (-53.61630214163217, 'property_type_Dorm'), (-2.341912283273073, 'property_type_House'), (7.956692956436385, 'property_type_Loft'), (114.05278087068484, 'property_type_Other'), (-0.04865756026041934, 'property_type_Townhouse'), (45.92156707695935, 'room_type_Entire home/apt'), (-6.1452137507904645, 'room_type_Private room'), (-39.77635332616897, 'room_type_Shared room'), (97.28906993913965, 'cancellation_policy_flexible'), (85.16162870326747, 'cancellation_policy_moderate'), (95.06174169956465, 'cancellation_policy_strict'), (-277.5124403419706, 'cancellation_policy_super_strict_30'), (3.6589350763220834, 'instant_bookable_f'), (-3.658935076323127, 'instant_bookable_t'), (2.021529921470923, 'city_Adams Morgan'), (134.4237357584644, 'city_Annapolis'), (-9.592326932761353e-14, 'city_Arlington'), (-32.6897776870299, 'city_Capitol Heights'), (-5.684341886080802e-14, 'city_Capitol Hill, Washington'), (-2.1316282072803006e-14, 'city_Columbia Heights, middle of DC!'), (28.650922350177606, 'city_Dupont Circle'), (-43.28451355231895, 'city_Hyattsville'), (-31.307244579300402, 'city_Mount Rainier'), (-1.4566126083082054e-13, 'city_New York'), (-16.669605569947773, 'city_Silver Spring'), (-40.05763167824336, 'city_Takoma Park'), (15.680743904084457, 'city_Washington'), (-13.530839379516653, 'city_Washington '), (20.3423233295077, 'city_Washington, D.C.'), (-23.579642817347825, 'city_chevy chase'), (-8.416876759974159, 'zipcode_20001'), (-66.03941874615833, 'zipcode_20001-4044'), (-26.117378393974715, 'zipcode_20002'), (-12.57158732784839, 'zipcode_20002-6645'), (-6.768589802578252, 'zipcode_20003'), (-56.04868229200685, 'zipcode_20003-3021'), (35.00945796808228, 'zipcode_20004'), (1.7386931352947834, 'zipcode_20005'), (17.711080171023607, 'zipcode_20006'), (27.87539897944604, 'zipcode_20007'), (30.658083439897762, 'zipcode_20007-3413'), (5.450767905130304, 'zipcode_20008'), (-17.29968195560143, 'zipcode_20009'), (-42.03360495812461, 'zipcode_20010'), (-45.59488462235417, 'zipcode_20011'), (-53.745933324810174, 'zipcode_20012'), (-27.765500763940157, 'zipcode_20015'), (-15.000053898470767, 'zipcode_20016'), (47.86436551998193, 'zipcode_20017'), (-2.9582232534202744, 'zipcode_20018'), (1.7086790805396768, 'zipcode_20019'), (-44.87141002634251, 'zipcode_20020'), (-15.140701307409646, 'zipcode_20024'), (-37.66215437585795, 'zipcode_20032'), (20.236012926511783, 'zipcode_20036'), (4.321935214496319, 'zipcode_20037'), (33.50309098248636, 'zipcode_20052'), (488.9945126205832, 'zipcode_20064'), (-81.26638374866138, 'zipcode_20229'), (-102.60633226021805, 'zipcode_20268'), (-31.307244579300505, 'zipcode_20712'), (-32.6897776870302, 'zipcode_20743'), (-43.28451355231868, 'zipcode_20782'), (-23.57964281734796, 'zipcode_20815'), (-16.669605569947745, 'zipcode_20910'), (-40.05763167824347, 'zipcode_20912'), (134.42373575846392, 'zipcode_21403'), (0.0, 'zipcode_22209'), (6.841876958391587, 'bed_type_Airbed'), (7.787867850862294, 'bed_type_Couch'), (-15.60300544206217, 'bed_type_Futon'), (-0.6440452958662222, 'bed_type_Pull-out Sofa'), (1.6173059286750942, 'bed_type_Real Bed')]\n",
      "----------------------------------------\n"
     ]
    },
    {
     "data": {
      "image/png": "[encoded data removed]",
      "text/plain": [
       "<Figure size 432x288 with 1 Axes>"
      ]
     },
     "metadata": {
      "needs_background": "light"
     },
     "output_type": "display_data"
    }
   ],
   "source": [
    "lin_reg(X_t8br, y_t8br)"
   ]
  },
  {
   "cell_type": "code",
   "execution_count": 64,
   "metadata": {},
   "outputs": [
    {
     "name": "stdout",
     "output_type": "stream",
     "text": [
      "(3661, 89) (3661,)\n"
     ]
    }
   ],
   "source": [
    "# Assign X (data) and y (target)\n",
    "#test 9 for accommodates comfort removed\n",
    "X_t9acc = golden_airbnb[[\"minimum_nights\", \"accommodates\", \"host_total_listings_count\", \"number_of_reviews\", \n",
    "                   \"calculated_host_listings_count\"]].join(pd.get_dummies(golden_airbnb[[\"host_is_superhost\", \"host_identity_verified\", \"property_type\", \"room_type\",\n",
    " \"cancellation_policy\", \"instant_bookable\", \"bathrooms\", \"city\", \"zipcode\", \"bed_type\"]]))\n",
    "y_t9acc = golden_airbnb[\"price\"]\n",
    "print(X_t9acc.shape, y_t9acc.shape)"
   ]
  },
  {
   "cell_type": "code",
   "execution_count": 65,
   "metadata": {},
   "outputs": [
    {
     "name": "stdout",
     "output_type": "stream",
     "text": [
      "The intercept value is: -107.40630409878278\n",
      " MSE: 18738.668729635865, \n",
      " R2: 0.3737674992956216, \n",
      " Radjusted: 0.3062920845708157 \n",
      " \n",
      "\n",
      "[(-0.8674087444976778, 'minimum_nights'), (17.798332746394134, 'accommodates'), (1.0013379450102518, 'host_total_listings_count'), (-0.21626185450953272, 'number_of_reviews'), (-0.16170697916608034, 'calculated_host_listings_count'), (64.39994688338912, 'bathrooms'), (-6.338266185303645, 'host_is_superhost_f'), (6.338266185306271, 'host_is_superhost_t'), (4.797660151209186, 'host_identity_verified_f'), (-4.797660151209955, 'host_identity_verified_t'), (3.707435267046554, 'property_type_Apartment'), (35.88628334426173, 'property_type_Bed & Breakfast'), (-45.01516985172138, 'property_type_Boat'), (8.469311233473306, 'property_type_Bungalow'), (29.017937563642995, 'property_type_Cabin'), (-10.274196125862717, 'property_type_Condominium'), (-123.16789396468994, 'property_type_Dorm'), (6.1252035346056175, 'property_type_House'), (3.943306194458934, 'property_type_Loft'), (82.09663226082928, 'property_type_Other'), (9.211150543951144, 'property_type_Townhouse'), (35.44350746544859, 'room_type_Entire home/apt'), (-0.8659530126227004, 'room_type_Private room'), (-34.577554452829105, 'room_type_Shared room'), (99.71198717798839, 'cancellation_policy_flexible'), (87.9624418836528, 'cancellation_policy_moderate'), (96.94665718804869, 'cancellation_policy_strict'), (-284.62108624968363, 'cancellation_policy_super_strict_30'), (6.3194174329345, 'instant_bookable_f'), (-6.319417432934733, 'instant_bookable_t'), (21.266045471779506, 'city_Adams Morgan'), (101.75138604018517, 'city_Annapolis'), (-2.4868995751603507e-14, 'city_Arlington'), (-36.03621372422966, 'city_Capitol Heights'), (1.2434497875801753e-13, 'city_Capitol Hill, Washington'), (7.283063041541027e-14, 'city_Columbia Heights, middle of DC!'), (30.54422090705142, 'city_Dupont Circle'), (-41.629550165741925, 'city_Hyattsville'), (-26.835824079890507, 'city_Mount Rainier'), (-1.6253665080512292e-13, 'city_New York'), (-16.53721872653414, 'city_Silver Spring'), (-31.55927396490265, 'city_Takoma Park'), (15.931197750179162, 'city_Washington'), (-20.65569276483967, 'city_Washington '), (18.87433893765121, 'city_Washington, D.C.'), (-15.113415680708574, 'city_chevy chase'), (-9.988059819330969, 'zipcode_20001'), (-46.695300064678726, 'zipcode_20001-4044'), (-25.86547599232297, 'zipcode_20002'), (-30.031126656327746, 'zipcode_20002-6645'), (-7.4112086412992895, 'zipcode_20003'), (-42.920189345617835, 'zipcode_20003-3021'), (64.01568698112675, 'zipcode_20004'), (-0.7452531824337996, 'zipcode_20005'), (5.419603153451565, 'zipcode_20006'), (29.387371566491936, 'zipcode_20007'), (52.34398503249746, 'zipcode_20007-3413'), (1.1890394577409604, 'zipcode_20008'), (-16.68129467626755, 'zipcode_20009'), (-40.592165371674284, 'zipcode_20010'), (-51.797115256964126, 'zipcode_20011'), (-51.84279053741908, 'zipcode_20012'), (-28.031041592010958, 'zipcode_20015'), (-15.207590665537662, 'zipcode_20016'), (38.755842842229264, 'zipcode_20017'), (-7.036777266110784, 'zipcode_20018'), (1.7152508511736837, 'zipcode_20019'), (-43.21408562131842, 'zipcode_20020'), (-24.436769183196173, 'zipcode_20024'), (-43.80171334611239, 'zipcode_20032'), (10.14315846755603, 'zipcode_20036'), (-2.4104293711355576, 'zipcode_20037'), (35.790745487994705, 'zipcode_20052'), (497.86292920870795, 'zipcode_20064'), (-77.01584303393032, 'zipcode_20229'), (-104.93927312346614, 'zipcode_20268'), (-26.835824079890475, 'zipcode_20712'), (-36.0362137242297, 'zipcode_20743'), (-41.62955016574172, 'zipcode_20782'), (-15.113415680708496, 'zipcode_20815'), (-16.53721872653386, 'zipcode_20910'), (-31.55927396490263, 'zipcode_20912'), (101.75138604018521, 'zipcode_21403'), (0.0, 'zipcode_22209'), (6.160048978216462, 'bed_type_Airbed'), (19.777773082171194, 'bed_type_Couch'), (-18.27357709454972, 'bed_type_Futon'), (-1.6868045191900713, 'bed_type_Pull-out Sofa'), (-5.977440446648659, 'bed_type_Real Bed')]\n",
      "----------------------------------------\n"
     ]
    },
    {
     "data": {
      "image/png": "[encoded data removed]",
      "text/plain": [
       "<Figure size 432x288 with 1 Axes>"
      ]
     },
     "metadata": {
      "needs_background": "light"
     },
     "output_type": "display_data"
    }
   ],
   "source": [
    "lin_reg(X_t9acc, y_t9acc)"
   ]
  },
  {
   "cell_type": "markdown",
   "metadata": {},
   "source": [
    "# Conclusion is bedrooms matters more than accommodates"
   ]
  },
  {
   "cell_type": "markdown",
   "metadata": {},
   "source": [
    "# EDA for Room Type"
   ]
  },
  {
   "cell_type": "code",
   "execution_count": 66,
   "metadata": {},
   "outputs": [
    {
     "data": {
      "text/plain": [
       "Entire home/apt    2376\n",
       "Private room       1188\n",
       "Shared room          97\n",
       "Name: room_type, dtype: int64"
      ]
     },
     "execution_count": 66,
     "metadata": {},
     "output_type": "execute_result"
    }
   ],
   "source": [
    "#Next Tests... maybe divide data out by Roomtype?\n",
    "golden_airbnb['room_type'].value_counts()"
   ]
  },
  {
   "cell_type": "code",
   "execution_count": 67,
   "metadata": {},
   "outputs": [
    {
     "data": {
      "text/plain": [
       "Private room    1188\n",
       "Name: room_type, dtype: int64"
      ]
     },
     "execution_count": 67,
     "metadata": {},
     "output_type": "execute_result"
    }
   ],
   "source": [
    "entire_home = golden_airbnb[golden_airbnb['room_type'] == 'Entire home/apt'].copy()\n",
    "private_room = golden_airbnb[golden_airbnb['room_type'] == 'Private room'].copy()\n",
    "private_room['room_type'].value_counts()"
   ]
  },
  {
   "cell_type": "code",
   "execution_count": 68,
   "metadata": {},
   "outputs": [
    {
     "data": {
      "text/plain": [
       "Entire home/apt    2376\n",
       "Name: room_type, dtype: int64"
      ]
     },
     "execution_count": 68,
     "metadata": {},
     "output_type": "execute_result"
    }
   ],
   "source": [
    "entire_home['room_type'].value_counts()"
   ]
  },
  {
   "cell_type": "code",
   "execution_count": 69,
   "metadata": {},
   "outputs": [
    {
     "data": {
      "text/html": [
       "<div>\n",
       "<style scoped>\n",
       "    .dataframe tbody tr th:only-of-type {\n",
       "        vertical-align: middle;\n",
       "    }\n",
       "\n",
       "    .dataframe tbody tr th {\n",
       "        vertical-align: top;\n",
       "    }\n",
       "\n",
       "    .dataframe thead th {\n",
       "        text-align: right;\n",
       "    }\n",
       "</style>\n",
       "<table border=\"1\" class=\"dataframe\">\n",
       "  <thead>\n",
       "    <tr style=\"text-align: right;\">\n",
       "      <th></th>\n",
       "      <th>zipcode</th>\n",
       "      <th>price</th>\n",
       "      <th>accommodates</th>\n",
       "      <th>bathrooms</th>\n",
       "      <th>bedrooms</th>\n",
       "      <th>beds</th>\n",
       "      <th>bed_type</th>\n",
       "      <th>host_is_superhost</th>\n",
       "      <th>host_identity_verified</th>\n",
       "      <th>property_type</th>\n",
       "      <th>...</th>\n",
       "      <th>calculated_host_listings_count</th>\n",
       "      <th>host_total_listings_count</th>\n",
       "      <th>number_of_reviews</th>\n",
       "      <th>minimum_nights</th>\n",
       "      <th>city</th>\n",
       "      <th>comfort</th>\n",
       "      <th>availability_30</th>\n",
       "      <th>availability_60</th>\n",
       "      <th>availability_90</th>\n",
       "      <th>availability_365</th>\n",
       "    </tr>\n",
       "  </thead>\n",
       "  <tbody>\n",
       "    <tr>\n",
       "      <th>0</th>\n",
       "      <td>20003</td>\n",
       "      <td>160.0</td>\n",
       "      <td>4</td>\n",
       "      <td>1.0</td>\n",
       "      <td>1.0</td>\n",
       "      <td>2.0</td>\n",
       "      <td>Real Bed</td>\n",
       "      <td>f</td>\n",
       "      <td>t</td>\n",
       "      <td>House</td>\n",
       "      <td>...</td>\n",
       "      <td>18</td>\n",
       "      <td>26</td>\n",
       "      <td>0</td>\n",
       "      <td>1</td>\n",
       "      <td>Washington</td>\n",
       "      <td>2.0</td>\n",
       "      <td>0</td>\n",
       "      <td>0</td>\n",
       "      <td>8</td>\n",
       "      <td>283</td>\n",
       "    </tr>\n",
       "    <tr>\n",
       "      <th>1</th>\n",
       "      <td>20003</td>\n",
       "      <td>350.0</td>\n",
       "      <td>6</td>\n",
       "      <td>3.0</td>\n",
       "      <td>3.0</td>\n",
       "      <td>3.0</td>\n",
       "      <td>Real Bed</td>\n",
       "      <td>f</td>\n",
       "      <td>f</td>\n",
       "      <td>House</td>\n",
       "      <td>...</td>\n",
       "      <td>1</td>\n",
       "      <td>1</td>\n",
       "      <td>65</td>\n",
       "      <td>2</td>\n",
       "      <td>Washington</td>\n",
       "      <td>2.0</td>\n",
       "      <td>12</td>\n",
       "      <td>38</td>\n",
       "      <td>68</td>\n",
       "      <td>343</td>\n",
       "    </tr>\n",
       "    <tr>\n",
       "      <th>4</th>\n",
       "      <td>20910</td>\n",
       "      <td>50.0</td>\n",
       "      <td>4</td>\n",
       "      <td>1.0</td>\n",
       "      <td>1.0</td>\n",
       "      <td>1.0</td>\n",
       "      <td>Real Bed</td>\n",
       "      <td>f</td>\n",
       "      <td>t</td>\n",
       "      <td>Townhouse</td>\n",
       "      <td>...</td>\n",
       "      <td>1</td>\n",
       "      <td>1</td>\n",
       "      <td>0</td>\n",
       "      <td>7</td>\n",
       "      <td>Silver Spring</td>\n",
       "      <td>4.0</td>\n",
       "      <td>16</td>\n",
       "      <td>46</td>\n",
       "      <td>76</td>\n",
       "      <td>351</td>\n",
       "    </tr>\n",
       "    <tr>\n",
       "      <th>5</th>\n",
       "      <td>20024</td>\n",
       "      <td>99.0</td>\n",
       "      <td>4</td>\n",
       "      <td>1.0</td>\n",
       "      <td>2.0</td>\n",
       "      <td>4.0</td>\n",
       "      <td>Real Bed</td>\n",
       "      <td>f</td>\n",
       "      <td>t</td>\n",
       "      <td>Boat</td>\n",
       "      <td>...</td>\n",
       "      <td>1</td>\n",
       "      <td>1</td>\n",
       "      <td>0</td>\n",
       "      <td>1</td>\n",
       "      <td>Washington</td>\n",
       "      <td>1.0</td>\n",
       "      <td>26</td>\n",
       "      <td>56</td>\n",
       "      <td>86</td>\n",
       "      <td>361</td>\n",
       "    </tr>\n",
       "    <tr>\n",
       "      <th>6</th>\n",
       "      <td>20012</td>\n",
       "      <td>100.0</td>\n",
       "      <td>4</td>\n",
       "      <td>2.0</td>\n",
       "      <td>2.0</td>\n",
       "      <td>2.0</td>\n",
       "      <td>Real Bed</td>\n",
       "      <td>f</td>\n",
       "      <td>t</td>\n",
       "      <td>Condominium</td>\n",
       "      <td>...</td>\n",
       "      <td>1</td>\n",
       "      <td>1</td>\n",
       "      <td>0</td>\n",
       "      <td>3</td>\n",
       "      <td>Washington</td>\n",
       "      <td>2.0</td>\n",
       "      <td>13</td>\n",
       "      <td>13</td>\n",
       "      <td>17</td>\n",
       "      <td>21</td>\n",
       "    </tr>\n",
       "  </tbody>\n",
       "</table>\n",
       "<p>5 rows × 22 columns</p>\n",
       "</div>"
      ],
      "text/plain": [
       "  zipcode  price  accommodates  bathrooms  bedrooms  beds  bed_type  \\\n",
       "0   20003  160.0             4        1.0       1.0   2.0  Real Bed   \n",
       "1   20003  350.0             6        3.0       3.0   3.0  Real Bed   \n",
       "4   20910   50.0             4        1.0       1.0   1.0  Real Bed   \n",
       "5   20024   99.0             4        1.0       2.0   4.0  Real Bed   \n",
       "6   20012  100.0             4        2.0       2.0   2.0  Real Bed   \n",
       "\n",
       "  host_is_superhost host_identity_verified property_type        ...         \\\n",
       "0                 f                      t         House        ...          \n",
       "1                 f                      f         House        ...          \n",
       "4                 f                      t     Townhouse        ...          \n",
       "5                 f                      t          Boat        ...          \n",
       "6                 f                      t   Condominium        ...          \n",
       "\n",
       "  calculated_host_listings_count host_total_listings_count  number_of_reviews  \\\n",
       "0                             18                        26                  0   \n",
       "1                              1                         1                 65   \n",
       "4                              1                         1                  0   \n",
       "5                              1                         1                  0   \n",
       "6                              1                         1                  0   \n",
       "\n",
       "   minimum_nights           city  comfort availability_30  availability_60  \\\n",
       "0               1     Washington      2.0               0                0   \n",
       "1               2     Washington      2.0              12               38   \n",
       "4               7  Silver Spring      4.0              16               46   \n",
       "5               1     Washington      1.0              26               56   \n",
       "6               3     Washington      2.0              13               13   \n",
       "\n",
       "   availability_90  availability_365  \n",
       "0                8               283  \n",
       "1               68               343  \n",
       "4               76               351  \n",
       "5               86               361  \n",
       "6               17                21  \n",
       "\n",
       "[5 rows x 22 columns]"
      ]
     },
     "execution_count": 69,
     "metadata": {},
     "output_type": "execute_result"
    }
   ],
   "source": [
    "#Removing Room Type\n",
    "entire_home = entire_home[[\n",
    "    'zipcode',\n",
    "    'price',\n",
    "    'accommodates',\n",
    "    'bathrooms',\n",
    "    'bedrooms',\n",
    "    'beds',\n",
    "    'bed_type',\n",
    "    'host_is_superhost',\n",
    "    'host_identity_verified',\n",
    "    'property_type',\n",
    "    'cancellation_policy',\n",
    "    'instant_bookable',\n",
    "    'calculated_host_listings_count',\n",
    "    'host_total_listings_count',\n",
    "    'number_of_reviews',\n",
    "    'minimum_nights',\n",
    "    'city',\n",
    "    'comfort',\n",
    "    'availability_30',\n",
    "    'availability_60',\n",
    "    'availability_90',\n",
    "    'availability_365'\n",
    "]]\n",
    "entire_home.head()"
   ]
  },
  {
   "cell_type": "code",
   "execution_count": 70,
   "metadata": {},
   "outputs": [
    {
     "data": {
      "text/html": [
       "<div>\n",
       "<style scoped>\n",
       "    .dataframe tbody tr th:only-of-type {\n",
       "        vertical-align: middle;\n",
       "    }\n",
       "\n",
       "    .dataframe tbody tr th {\n",
       "        vertical-align: top;\n",
       "    }\n",
       "\n",
       "    .dataframe thead th {\n",
       "        text-align: right;\n",
       "    }\n",
       "</style>\n",
       "<table border=\"1\" class=\"dataframe\">\n",
       "  <thead>\n",
       "    <tr style=\"text-align: right;\">\n",
       "      <th></th>\n",
       "      <th>zipcode</th>\n",
       "      <th>price</th>\n",
       "      <th>accommodates</th>\n",
       "      <th>bathrooms</th>\n",
       "      <th>bedrooms</th>\n",
       "      <th>beds</th>\n",
       "      <th>bed_type</th>\n",
       "      <th>host_is_superhost</th>\n",
       "      <th>host_identity_verified</th>\n",
       "      <th>property_type</th>\n",
       "      <th>...</th>\n",
       "      <th>calculated_host_listings_count</th>\n",
       "      <th>host_total_listings_count</th>\n",
       "      <th>number_of_reviews</th>\n",
       "      <th>minimum_nights</th>\n",
       "      <th>city</th>\n",
       "      <th>comfort</th>\n",
       "      <th>availability_30</th>\n",
       "      <th>availability_60</th>\n",
       "      <th>availability_90</th>\n",
       "      <th>availability_365</th>\n",
       "    </tr>\n",
       "  </thead>\n",
       "  <tbody>\n",
       "    <tr>\n",
       "      <th>0</th>\n",
       "      <td>20003</td>\n",
       "      <td>160.0</td>\n",
       "      <td>4</td>\n",
       "      <td>1.0</td>\n",
       "      <td>1.0</td>\n",
       "      <td>2.0</td>\n",
       "      <td>Real Bed</td>\n",
       "      <td>f</td>\n",
       "      <td>t</td>\n",
       "      <td>House</td>\n",
       "      <td>...</td>\n",
       "      <td>18</td>\n",
       "      <td>26</td>\n",
       "      <td>0</td>\n",
       "      <td>1</td>\n",
       "      <td>Washington</td>\n",
       "      <td>2.0</td>\n",
       "      <td>0</td>\n",
       "      <td>0</td>\n",
       "      <td>8</td>\n",
       "      <td>283</td>\n",
       "    </tr>\n",
       "    <tr>\n",
       "      <th>1</th>\n",
       "      <td>20003</td>\n",
       "      <td>350.0</td>\n",
       "      <td>6</td>\n",
       "      <td>3.0</td>\n",
       "      <td>3.0</td>\n",
       "      <td>3.0</td>\n",
       "      <td>Real Bed</td>\n",
       "      <td>f</td>\n",
       "      <td>f</td>\n",
       "      <td>House</td>\n",
       "      <td>...</td>\n",
       "      <td>1</td>\n",
       "      <td>1</td>\n",
       "      <td>65</td>\n",
       "      <td>2</td>\n",
       "      <td>Washington</td>\n",
       "      <td>2.0</td>\n",
       "      <td>12</td>\n",
       "      <td>38</td>\n",
       "      <td>68</td>\n",
       "      <td>343</td>\n",
       "    </tr>\n",
       "    <tr>\n",
       "      <th>4</th>\n",
       "      <td>20910</td>\n",
       "      <td>50.0</td>\n",
       "      <td>4</td>\n",
       "      <td>1.0</td>\n",
       "      <td>1.0</td>\n",
       "      <td>1.0</td>\n",
       "      <td>Real Bed</td>\n",
       "      <td>f</td>\n",
       "      <td>t</td>\n",
       "      <td>Townhouse</td>\n",
       "      <td>...</td>\n",
       "      <td>1</td>\n",
       "      <td>1</td>\n",
       "      <td>0</td>\n",
       "      <td>7</td>\n",
       "      <td>Silver Spring</td>\n",
       "      <td>4.0</td>\n",
       "      <td>16</td>\n",
       "      <td>46</td>\n",
       "      <td>76</td>\n",
       "      <td>351</td>\n",
       "    </tr>\n",
       "    <tr>\n",
       "      <th>5</th>\n",
       "      <td>20024</td>\n",
       "      <td>99.0</td>\n",
       "      <td>4</td>\n",
       "      <td>1.0</td>\n",
       "      <td>2.0</td>\n",
       "      <td>4.0</td>\n",
       "      <td>Real Bed</td>\n",
       "      <td>f</td>\n",
       "      <td>t</td>\n",
       "      <td>Boat</td>\n",
       "      <td>...</td>\n",
       "      <td>1</td>\n",
       "      <td>1</td>\n",
       "      <td>0</td>\n",
       "      <td>1</td>\n",
       "      <td>Washington</td>\n",
       "      <td>1.0</td>\n",
       "      <td>26</td>\n",
       "      <td>56</td>\n",
       "      <td>86</td>\n",
       "      <td>361</td>\n",
       "    </tr>\n",
       "    <tr>\n",
       "      <th>6</th>\n",
       "      <td>20012</td>\n",
       "      <td>100.0</td>\n",
       "      <td>4</td>\n",
       "      <td>2.0</td>\n",
       "      <td>2.0</td>\n",
       "      <td>2.0</td>\n",
       "      <td>Real Bed</td>\n",
       "      <td>f</td>\n",
       "      <td>t</td>\n",
       "      <td>Condominium</td>\n",
       "      <td>...</td>\n",
       "      <td>1</td>\n",
       "      <td>1</td>\n",
       "      <td>0</td>\n",
       "      <td>3</td>\n",
       "      <td>Washington</td>\n",
       "      <td>2.0</td>\n",
       "      <td>13</td>\n",
       "      <td>13</td>\n",
       "      <td>17</td>\n",
       "      <td>21</td>\n",
       "    </tr>\n",
       "  </tbody>\n",
       "</table>\n",
       "<p>5 rows × 22 columns</p>\n",
       "</div>"
      ],
      "text/plain": [
       "  zipcode  price  accommodates  bathrooms  bedrooms  beds  bed_type  \\\n",
       "0   20003  160.0             4        1.0       1.0   2.0  Real Bed   \n",
       "1   20003  350.0             6        3.0       3.0   3.0  Real Bed   \n",
       "4   20910   50.0             4        1.0       1.0   1.0  Real Bed   \n",
       "5   20024   99.0             4        1.0       2.0   4.0  Real Bed   \n",
       "6   20012  100.0             4        2.0       2.0   2.0  Real Bed   \n",
       "\n",
       "  host_is_superhost host_identity_verified property_type        ...         \\\n",
       "0                 f                      t         House        ...          \n",
       "1                 f                      f         House        ...          \n",
       "4                 f                      t     Townhouse        ...          \n",
       "5                 f                      t          Boat        ...          \n",
       "6                 f                      t   Condominium        ...          \n",
       "\n",
       "  calculated_host_listings_count host_total_listings_count  number_of_reviews  \\\n",
       "0                             18                        26                  0   \n",
       "1                              1                         1                 65   \n",
       "4                              1                         1                  0   \n",
       "5                              1                         1                  0   \n",
       "6                              1                         1                  0   \n",
       "\n",
       "   minimum_nights           city  comfort availability_30  availability_60  \\\n",
       "0               1     Washington      2.0               0                0   \n",
       "1               2     Washington      2.0              12               38   \n",
       "4               7  Silver Spring      4.0              16               46   \n",
       "5               1     Washington      1.0              26               56   \n",
       "6               3     Washington      2.0              13               13   \n",
       "\n",
       "   availability_90  availability_365  \n",
       "0                8               283  \n",
       "1               68               343  \n",
       "4               76               351  \n",
       "5               86               361  \n",
       "6               17                21  \n",
       "\n",
       "[5 rows x 22 columns]"
      ]
     },
     "execution_count": 70,
     "metadata": {},
     "output_type": "execute_result"
    }
   ],
   "source": [
    "#Removing Room Type\n",
    "private_room = private_room[[\n",
    "    'zipcode',\n",
    "    'price',\n",
    "    'accommodates',\n",
    "    'bathrooms',\n",
    "    'bedrooms',\n",
    "    'beds',\n",
    "    'bed_type',\n",
    "    'host_is_superhost',\n",
    "    'host_identity_verified',\n",
    "    'property_type',\n",
    "    'cancellation_policy',\n",
    "    'instant_bookable',\n",
    "    'calculated_host_listings_count',\n",
    "    'host_total_listings_count',\n",
    "    'number_of_reviews',\n",
    "    'minimum_nights',\n",
    "    'city',\n",
    "    'comfort',\n",
    "    'availability_30',\n",
    "    'availability_60',\n",
    "    'availability_90',\n",
    "    'availability_365'\n",
    "]]\n",
    "entire_home.head()"
   ]
  },
  {
   "cell_type": "code",
   "execution_count": 71,
   "metadata": {},
   "outputs": [],
   "source": [
    "private_room.to_csv(\"private.csv\")\n",
    "entire_home.to_csv(\"entire.csv\")"
   ]
  },
  {
   "cell_type": "code",
   "execution_count": 72,
   "metadata": {},
   "outputs": [
    {
     "name": "stdout",
     "output_type": "stream",
     "text": [
      "The highest price per night for a room is: 1300.0\n",
      "The highest price per night for an entire home is: 2822.0\n"
     ]
    }
   ],
   "source": [
    "max_room = private_room['price'].max()\n",
    "max_home = entire_home['price'].max()\n",
    "print(f'The highest price per night for a room is: {max_room}')\n",
    "print(f'The highest price per night for an entire home is: {max_home}')"
   ]
  },
  {
   "cell_type": "code",
   "execution_count": 73,
   "metadata": {},
   "outputs": [
    {
     "data": {
      "image/png": "[encoded data removed]",
      "text/plain": [
       "<Figure size 432x288 with 1 Axes>"
      ]
     },
     "metadata": {
      "needs_background": "light"
     },
     "output_type": "display_data"
    }
   ],
   "source": [
    "x =plt.hist(private_room['price'],bins= 200)\n",
    "plt.xlabel('Cost per night for a ROOM')\n",
    "plt.ylabel('Number of Listings')\n",
    "plt.title('A single ROOM: Availability at Cost per Night', fontsize=20)\n",
    "plt.xlim(0,max_room)\n",
    "# set the ylim to ymin, ymax\n",
    "plt.savefig(\"Figures/Individual_Room_Prices.png\")"
   ]
  },
  {
   "cell_type": "code",
   "execution_count": 74,
   "metadata": {},
   "outputs": [
    {
     "data": {
      "image/png": "[encoded data removed]",
      "text/plain": [
       "<Figure size 432x288 with 1 Axes>"
      ]
     },
     "metadata": {
      "needs_background": "light"
     },
     "output_type": "display_data"
    }
   ],
   "source": [
    "x =plt.hist(entire_home['price'],bins= 200)\n",
    "plt.xlabel('Cost per night for a ROOM')\n",
    "plt.ylabel('Number of Listings')\n",
    "plt.title('A single ROOM: Availability at Cost per Night', fontsize=20)\n",
    "plt.xlim(0,250)\n",
    "# set the ylim to ymin, ymax\n",
    "plt.savefig(\"Figures/Individual_Room_Prices_250.png\")"
   ]
  },
  {
   "cell_type": "code",
   "execution_count": 75,
   "metadata": {},
   "outputs": [
    {
     "data": {
      "image/png": "[encoded data removed]",
      "text/plain": [
       "<Figure size 432x288 with 1 Axes>"
      ]
     },
     "metadata": {
      "needs_background": "light"
     },
     "output_type": "display_data"
    }
   ],
   "source": [
    "x =plt.hist(private_room['price'],bins= 200)\n",
    "plt.xlabel('Cost per night for an entire home')\n",
    "plt.ylabel('Number of Listings')\n",
    "plt.title('An entire home: Availability at Cost per Night', fontsize=20)\n",
    "plt.xlim(0, max_home)\n",
    "# set the ylim to ymin, ymax\n",
    "plt.savefig(\"Figures/Entire_Home_Prices.png\")"
   ]
  },
  {
   "cell_type": "code",
   "execution_count": 76,
   "metadata": {},
   "outputs": [
    {
     "data": {
      "image/png": "[encoded data removed]",
      "text/plain": [
       "<Figure size 432x288 with 1 Axes>"
      ]
     },
     "metadata": {
      "needs_background": "light"
     },
     "output_type": "display_data"
    }
   ],
   "source": [
    "x =plt.hist(private_room['price'],bins= 200)\n",
    "plt.xlabel('Cost per night for an entire home')\n",
    "plt.ylabel('Number of Listings')\n",
    "plt.title('An entire home: Availability at Cost per Night', fontsize=20)\n",
    "plt.xlim(0, 305)\n",
    "# set the ylim to ymin, ymax\n",
    "plt.savefig(\"Figures/Entire_Home_Prices_305.png\")"
   ]
  },
  {
   "cell_type": "code",
   "execution_count": 77,
   "metadata": {},
   "outputs": [
    {
     "data": {
      "text/plain": [
       "208"
      ]
     },
     "execution_count": 77,
     "metadata": {},
     "output_type": "execute_result"
    }
   ],
   "source": [
    "entire_home['price'][entire_home['price'] > 305].count()"
   ]
  },
  {
   "cell_type": "code",
   "execution_count": 78,
   "metadata": {},
   "outputs": [
    {
     "data": {
      "text/plain": [
       "13"
      ]
     },
     "execution_count": 78,
     "metadata": {},
     "output_type": "execute_result"
    }
   ],
   "source": [
    "private_room['price'][private_room['price'] > 250].count()"
   ]
  },
  {
   "cell_type": "code",
   "execution_count": 79,
   "metadata": {},
   "outputs": [
    {
     "data": {
      "text/plain": [
       "9"
      ]
     },
     "execution_count": 79,
     "metadata": {},
     "output_type": "execute_result"
    }
   ],
   "source": [
    "private_room['price'][private_room['price'] > 305].count()"
   ]
  },
  {
   "cell_type": "code",
   "execution_count": 80,
   "metadata": {},
   "outputs": [
    {
     "data": {
      "text/plain": [
       "House              692\n",
       "Apartment          379\n",
       "Bed & Breakfast     48\n",
       "Townhouse           30\n",
       "Condominium         24\n",
       "Loft                 8\n",
       "Other                6\n",
       "Bungalow             1\n",
       "Name: property_type, dtype: int64"
      ]
     },
     "execution_count": 80,
     "metadata": {},
     "output_type": "execute_result"
    }
   ],
   "source": [
    "private_room['property_type'].value_counts()"
   ]
  },
  {
   "cell_type": "code",
   "execution_count": 81,
   "metadata": {},
   "outputs": [
    {
     "data": {
      "text/plain": [
       "Apartment          1762\n",
       "House               487\n",
       "Condominium          61\n",
       "Townhouse            39\n",
       "Loft                 16\n",
       "Bed & Breakfast       5\n",
       "Other                 3\n",
       "Boat                  2\n",
       "Cabin                 1\n",
       "Name: property_type, dtype: int64"
      ]
     },
     "execution_count": 81,
     "metadata": {},
     "output_type": "execute_result"
    }
   ],
   "source": [
    "entire_home['property_type'].value_counts()"
   ]
  },
  {
   "cell_type": "code",
   "execution_count": 82,
   "metadata": {},
   "outputs": [
    {
     "name": "stdout",
     "output_type": "stream",
     "text": [
      "There are 2376 Entire Homes available for rent out of 3661 total rental options which is 0.65 %\n",
      "There are 1188 Entire Homes available for rent out of 3661 total rental options which is 0.32 %\n",
      "There are 97 Shared Rooms available for rent out of 3661 total rental options which is 0.03 %\n"
     ]
    }
   ],
   "source": [
    "shared_total = golden_airbnb['room_type'][golden_airbnb['room_type'] == 'Shared room'].count()\n",
    "c2 = golden_airbnb['room_type'].count()\n",
    "print(f'''There are {entire_home['price'].count()} Entire Homes available for rent out of {c2} total rental options which is {round(entire_home['price'].count()/c2,2)} %''')\n",
    "print(f'''There are {private_room['price'].count()} Entire Homes available for rent out of {c2} total rental options which is {round(private_room['price'].count()/c2,2)} %''')\n",
    "print(f'''There are {shared_total} Shared Rooms available for rent out of {c2} total rental options which is {round(shared_total/c2,2)} %''')"
   ]
  },
  {
   "cell_type": "markdown",
   "metadata": {},
   "source": [
    "# Let's see if a regression works better with room type separate data types instead of as dummy variables."
   ]
  },
  {
   "cell_type": "code",
   "execution_count": 83,
   "metadata": {},
   "outputs": [
    {
     "name": "stdout",
     "output_type": "stream",
     "text": [
      "(1188, 69) (1188,)\n"
     ]
    }
   ],
   "source": [
    "# Assign X (data) and y (target)\n",
    "# Model has no room types\n",
    "# Private Room Per Night is the price\n",
    "X_priv = private_room[[\"minimum_nights\", \"beds\", \"host_total_listings_count\", \"number_of_reviews\", \"calculated_host_listings_count\", \n",
    " \"comfort\"]].join(pd.get_dummies(private_room[[\"host_is_superhost\", \"host_identity_verified\", \"property_type\", \"zipcode\",\n",
    " \"cancellation_policy\", \"instant_bookable\", \"accommodates\", \"bathrooms\", \"bedrooms\", \"city\", \"bed_type\"]]))\n",
    "y_priv = private_room[\"price\"]\n",
    "print(X_priv.shape, y_priv.shape)"
   ]
  },
  {
   "cell_type": "code",
   "execution_count": 84,
   "metadata": {},
   "outputs": [
    {
     "name": "stdout",
     "output_type": "stream",
     "text": [
      "The intercept value is: -64.93823485146739\n",
      " MSE: 3441.466835031398, \n",
      " R2: 0.24500891133765246, \n",
      " Radjusted: 0.015518227999758327 \n",
      " \n",
      "\n",
      "[(-0.6935537562345878, 'minimum_nights'), (-4.090910151653323, 'beds'), (1.2493645138357596, 'host_total_listings_count'), (-0.110605898702266, 'number_of_reviews'), (-0.9075491745189614, 'calculated_host_listings_count'), (3.664312864333807, 'comfort'), (9.368556582489873, 'accommodates'), (2.748529669526679, 'bathrooms'), (-1.0118128557223827e-11, 'bedrooms'), (-6.632475087700634, 'host_is_superhost_f'), (6.632475087729535, 'host_is_superhost_t'), (6.980924466271317, 'host_identity_verified_f'), (-6.9809244662715795, 'host_identity_verified_t'), (-7.643596422836449, 'property_type_Apartment'), (43.00250775885616, 'property_type_Bed & Breakfast'), (-22.914758750232846, 'property_type_Bungalow'), (-14.321361608551495, 'property_type_Condominium'), (-7.747651370775342, 'property_type_House'), (18.431422209088414, 'property_type_Loft'), (-9.568684694375476, 'property_type_Other'), (0.7621228788597438, 'property_type_Townhouse'), (-49.044924244001265, 'zipcode_20001'), (-57.35314736310952, 'zipcode_20002'), (-39.45673409836443, 'zipcode_20003'), (-4.263256414560601e-13, 'zipcode_20003-3021'), (-28.402069152468766, 'zipcode_20005'), (17.648624893643237, 'zipcode_20006'), (-48.189781531230466, 'zipcode_20007'), (-40.79541501487641, 'zipcode_20008'), (-47.89024077258213, 'zipcode_20009'), (-65.21679078481986, 'zipcode_20010'), (-63.31338759782325, 'zipcode_20011'), (-80.30655068784192, 'zipcode_20012'), (-61.12712412119075, 'zipcode_20015'), (-19.963468969075016, 'zipcode_20016'), (-45.347724757934536, 'zipcode_20017'), (-55.35808745692374, 'zipcode_20018'), (-16.59738030304532, 'zipcode_20019'), (-62.86772974352759, 'zipcode_20020'), (-57.90233381268052, 'zipcode_20024'), (-83.96255982687347, 'zipcode_20032'), (-20.73205867157654, 'zipcode_20036'), (-28.861402687174746, 'zipcode_20037'), (1038.3573734685813, 'zipcode_20064'), (-20.73860443869618, 'zipcode_20712'), (-26.97684781718182, 'zipcode_20743'), (-21.637447264958986, 'zipcode_20782'), (-30.45881386265092, 'zipcode_20910'), (16.494626618166695, 'zipcode_20912'), (146.2739192683248, 'cancellation_policy_flexible'), (133.39366334056965, 'cancellation_policy_moderate'), (130.86374735642235, 'cancellation_policy_strict'), (-410.5313299653481, 'cancellation_policy_super_strict_30'), (6.015684461587867, 'instant_bookable_f'), (-6.015684461610151, 'instant_bookable_t'), (-26.97684781718158, 'city_Capitol Heights'), (38.10332200663882, 'city_Columbia Heights, middle of DC!'), (-21.63744726495979, 'city_Hyattsville'), (-20.73860443869621, 'city_Mount Rainier'), (-30.45881386265159, 'city_Silver Spring'), (16.4946266181668, 'city_Takoma Park'), (54.68246163107595, 'city_Washington'), (-56.135739686172926, 'city_Washington '), (46.667042813742555, 'city_Washington, D.C.'), (-28.610970569818086, 'bed_type_Airbed'), (50.61890429208677, 'bed_type_Couch'), (-15.403011025191857, 'bed_type_Futon'), (-9.83079952488093, 'bed_type_Pull-out Sofa'), (3.225876827805862, 'bed_type_Real Bed')]\n",
      "----------------------------------------\n"
     ]
    },
    {
     "data": {
      "image/png": "[encoded data removed]",
      "text/plain": [
       "<Figure size 432x288 with 1 Axes>"
      ]
     },
     "metadata": {
      "needs_background": "light"
     },
     "output_type": "display_data"
    }
   ],
   "source": [
    "lin_reg(X_priv, y_priv)"
   ]
  },
  {
   "cell_type": "markdown",
   "metadata": {},
   "source": [
    "# Wow, it's terrible at predicting a room!"
   ]
  },
  {
   "cell_type": "code",
   "execution_count": 85,
   "metadata": {},
   "outputs": [
    {
     "name": "stdout",
     "output_type": "stream",
     "text": [
      "(2376, 80) (2376,)\n"
     ]
    }
   ],
   "source": [
    "# Assign X (data) and y (target)\n",
    "# Model has no room types\n",
    "# Entire Home Per Night is the price\n",
    "X_entire = entire_home[[\"minimum_nights\", \"beds\", \"host_total_listings_count\", \"number_of_reviews\", \"calculated_host_listings_count\", \n",
    " \"comfort\"]].join(pd.get_dummies(entire_home[[\"host_is_superhost\", \"host_identity_verified\", \"property_type\", \"zipcode\",\n",
    " \"cancellation_policy\", \"instant_bookable\", \"accommodates\", \"bathrooms\", \"bedrooms\", \"city\", \"bed_type\"]]))\n",
    "y_entire = entire_home[\"price\"]\n",
    "print(X_entire.shape, y_entire.shape)"
   ]
  },
  {
   "cell_type": "code",
   "execution_count": 86,
   "metadata": {},
   "outputs": [
    {
     "name": "stdout",
     "output_type": "stream",
     "text": [
      "The intercept value is: -76.61546544839047\n",
      " MSE: 16370.977333710776, \n",
      " R2: 0.48484904119980415, \n",
      " Radjusted: 0.4045136090282335 \n",
      " \n",
      "\n",
      "[(-2.4600332138984387, 'minimum_nights'), (4.611228538492233, 'beds'), (0.8587047769595206, 'host_total_listings_count'), (-0.22898432722769257, 'number_of_reviews'), (0.07545384862110005, 'calculated_host_listings_count'), (5.626979319833595, 'comfort'), (6.459011696612636, 'accommodates'), (70.86401858406717, 'bathrooms'), (29.16895082984022, 'bedrooms'), (-14.452363534330464, 'host_is_superhost_f'), (14.452363534330095, 'host_is_superhost_t'), (2.6848977428289365, 'host_identity_verified_f'), (-2.684897742828379, 'host_identity_verified_t'), (11.503933385340163, 'property_type_Apartment'), (67.22559927782909, 'property_type_Bed & Breakfast'), (-69.60168075994386, 'property_type_Boat'), (-2.1316282072803006e-14, 'property_type_Cabin'), (-4.3858442862468054, 'property_type_Condominium'), (-11.382578047973434, 'property_type_House'), (16.04242826067059, 'property_type_Loft'), (-3.5994015183304855, 'property_type_Other'), (-5.802456311342878, 'property_type_Townhouse'), (-7.130994102616446, 'zipcode_20001'), (-56.28420115482029, 'zipcode_20001-4044'), (-22.992158793298284, 'zipcode_20002'), (-19.212153233540917, 'zipcode_20002-6645'), (-15.53586351518539, 'zipcode_20003'), (35.82939571510003, 'zipcode_20004'), (-9.291015528408488, 'zipcode_20005'), (-7.525823500626941, 'zipcode_20006'), (37.90324616843238, 'zipcode_20007'), (-2.3803181647963356e-13, 'zipcode_20007-3413'), (6.779955563346281, 'zipcode_20008'), (-21.021608758406675, 'zipcode_20009'), (-45.46212402100768, 'zipcode_20010'), (-63.5205099160859, 'zipcode_20011'), (-71.55648963771945, 'zipcode_20012'), (-47.92112635802307, 'zipcode_20015'), (-33.505391064373065, 'zipcode_20016'), (81.37226706493573, 'zipcode_20017'), (-57.80249680941519, 'zipcode_20018'), (14.77741185340431, 'zipcode_20019'), (-7.79751494507799, 'zipcode_20020'), (-18.948051523484075, 'zipcode_20024'), (68.850588292363, 'zipcode_20032'), (29.598072400370746, 'zipcode_20036'), (-1.2841269055632072, 'zipcode_20037'), (48.04777675447787, 'zipcode_20052'), (413.05495273659625, 'zipcode_20064'), (-92.49060651342687, 'zipcode_20229'), (-97.43522331057409, 'zipcode_20268'), (-32.63886402919607, 'zipcode_20712'), (-19.47403998979868, 'zipcode_20815'), (-50.43193906565709, 'zipcode_20910'), (-77.04893031774284, 'zipcode_20912'), (121.2039396451531, 'zipcode_21403'), (18.893646799869874, 'zipcode_22209'), (83.31709901126372, 'cancellation_policy_flexible'), (71.13685920360717, 'cancellation_policy_moderate'), (83.92174703082574, 'cancellation_policy_strict'), (-238.37570524569844, 'cancellation_policy_super_strict_30'), (5.021048941678783, 'instant_bookable_f'), (-5.021048941679978, 'instant_bookable_t'), (12.672308591694051, 'city_Adams Morgan'), (121.2039396451532, 'city_Annapolis'), (18.893646799869874, 'city_Arlington'), (-49.77069828842488, 'city_Capitol Hill, Washington'), (37.69780959980303, 'city_Dupont Circle'), (-32.63886402919594, 'city_Mount Rainier'), (0.0, 'city_New York'), (-50.431939065656984, 'city_Silver Spring'), (-77.04893031774265, 'city_Takoma Park'), (15.181700656119954, 'city_Washington'), (0.0, 'city_Washington '), (23.71506639817851, 'city_Washington, D.C.'), (-19.474039989798648, 'city_chevy chase'), (37.97585076546985, 'bed_type_Airbed'), (-28.905181266512272, 'bed_type_Futon'), (-9.269293983189794, 'bed_type_Pull-out Sofa'), (0.19862448423252443, 'bed_type_Real Bed')]\n",
      "----------------------------------------\n"
     ]
    },
    {
     "data": {
      "image/png": "[encoded data removed]",
      "text/plain": [
       "<Figure size 432x288 with 1 Axes>"
      ]
     },
     "metadata": {
      "needs_background": "light"
     },
     "output_type": "display_data"
    }
   ],
   "source": [
    "lin_reg(X_entire, y_entire)"
   ]
  },
  {
   "cell_type": "markdown",
   "metadata": {},
   "source": [
    "# But it does much better with an entire home!"
   ]
  },
  {
   "cell_type": "markdown",
   "metadata": {},
   "source": [
    "# Time to do EDA on availability driving price 30/60/90/365"
   ]
  },
  {
   "cell_type": "markdown",
   "metadata": {},
   "source": [
    "# Test 14 for a30"
   ]
  },
  {
   "cell_type": "code",
   "execution_count": 87,
   "metadata": {},
   "outputs": [
    {
     "name": "stdout",
     "output_type": "stream",
     "text": [
      "(2376, 2) (2376,)\n"
     ]
    }
   ],
   "source": [
    "# Assign X (data) and y (target)\n",
    "# Test 14 for a30\n",
    "X_a30 = entire_home[[\"accommodates\", \"availability_30\"]]\n",
    "y_a30 = entire_home[\"price\"]\n",
    "print(X_a30.shape, y_a30.shape)"
   ]
  },
  {
   "cell_type": "code",
   "execution_count": 88,
   "metadata": {},
   "outputs": [
    {
     "name": "stdout",
     "output_type": "stream",
     "text": [
      "The intercept value is: 41.973492357591795\n",
      " MSE: 22252.706763383732, \n",
      " R2: 0.299766715732278, \n",
      " Radjusted: 0.29739705994795407 \n",
      " \n",
      "\n",
      "[(30.760819143848387, 'accommodates'), (2.1294173913751306, 'availability_30')]\n",
      "----------------------------------------\n"
     ]
    },
    {
     "data": {
      "image/png": "[encoded data removed]",
      "text/plain": [
       "<Figure size 432x288 with 1 Axes>"
      ]
     },
     "metadata": {
      "needs_background": "light"
     },
     "output_type": "display_data"
    }
   ],
   "source": [
    "lin_reg(X_a30, y_a30)"
   ]
  },
  {
   "cell_type": "markdown",
   "metadata": {},
   "source": [
    "# Test 15 for a60"
   ]
  },
  {
   "cell_type": "code",
   "execution_count": 89,
   "metadata": {},
   "outputs": [
    {
     "name": "stdout",
     "output_type": "stream",
     "text": [
      "(2376, 2) (2376,)\n"
     ]
    }
   ],
   "source": [
    "# Assign X (data) and y (target)\n",
    "# Test 15 for a60\n",
    "X_a60 = entire_home[[\"accommodates\", \"availability_60\"]]\n",
    "y_a60 = entire_home[\"price\"]\n",
    "print(X_a60.shape, y_a60.shape)"
   ]
  },
  {
   "cell_type": "code",
   "execution_count": 90,
   "metadata": {},
   "outputs": [
    {
     "name": "stdout",
     "output_type": "stream",
     "text": [
      "The intercept value is: 42.13483188820396\n",
      " MSE: 22600.31498554599, \n",
      " R2: 0.2888284128268688, \n",
      " Radjusted: 0.2864217407890579 \n",
      " \n",
      "\n",
      "[(31.08062660366636, 'accommodates'), (0.726088496325359, 'availability_60')]\n",
      "----------------------------------------\n"
     ]
    },
    {
     "data": {
      "image/png": "[encoded data removed]",
      "text/plain": [
       "<Figure size 432x288 with 1 Axes>"
      ]
     },
     "metadata": {
      "needs_background": "light"
     },
     "output_type": "display_data"
    }
   ],
   "source": [
    "lin_reg(X_a60, y_a60)"
   ]
  },
  {
   "cell_type": "markdown",
   "metadata": {},
   "source": [
    "# Test 16 for a90"
   ]
  },
  {
   "cell_type": "code",
   "execution_count": 91,
   "metadata": {},
   "outputs": [
    {
     "name": "stdout",
     "output_type": "stream",
     "text": [
      "(2376, 2) (2376,)\n"
     ]
    }
   ],
   "source": [
    "# Assign X (data) and y (target)\n",
    "# Test 16 for a90\n",
    "X_a90 = entire_home[[\"accommodates\", \"availability_90\"]]\n",
    "y_a90 = entire_home[\"price\"]\n",
    "print(X_a90.shape, y_a90.shape)"
   ]
  },
  {
   "cell_type": "code",
   "execution_count": 92,
   "metadata": {},
   "outputs": [
    {
     "name": "stdout",
     "output_type": "stream",
     "text": [
      "The intercept value is: 44.330523367632\n",
      " MSE: 22696.944821041307, \n",
      " R2: 0.2857877298310152, \n",
      " Radjusted: 0.2833707678338274 \n",
      " \n",
      "\n",
      "[(31.40171570900514, 'accommodates'), (0.33138529767226715, 'availability_90')]\n",
      "----------------------------------------\n"
     ]
    },
    {
     "data": {
      "image/png": "[encoded data removed]",
      "text/plain": [
       "<Figure size 432x288 with 1 Axes>"
      ]
     },
     "metadata": {
      "needs_background": "light"
     },
     "output_type": "display_data"
    }
   ],
   "source": [
    "lin_reg(X_a90, y_a90)"
   ]
  },
  {
   "cell_type": "markdown",
   "metadata": {},
   "source": [
    "# Test 17 for a365"
   ]
  },
  {
   "cell_type": "code",
   "execution_count": 93,
   "metadata": {},
   "outputs": [
    {
     "name": "stdout",
     "output_type": "stream",
     "text": [
      "(2376, 2) (2376,)\n"
     ]
    }
   ],
   "source": [
    "# Assign X (data) and y (target)\n",
    "# Test 17 for a365\n",
    "X_a365 = entire_home[[\"accommodates\", \"availability_365\"]]\n",
    "y_a365 = entire_home[\"price\"]\n",
    "print(X_a365.shape, y_a365.shape)"
   ]
  },
  {
   "cell_type": "code",
   "execution_count": 94,
   "metadata": {},
   "outputs": [
    {
     "name": "stdout",
     "output_type": "stream",
     "text": [
      "The intercept value is: 57.4908189653527\n",
      " MSE: 22723.76945376792, \n",
      " R2: 0.2849436302402032, \n",
      " Radjusted: 0.2825238117300177 \n",
      " \n",
      "\n",
      "[(32.195515681070276, 'accommodates'), (-0.010784734468327756, 'availability_365')]\n",
      "----------------------------------------\n"
     ]
    },
    {
     "data": {
      "image/png": "[encoded data removed]",
      "text/plain": [
       "<Figure size 432x288 with 1 Axes>"
      ]
     },
     "metadata": {
      "needs_background": "light"
     },
     "output_type": "display_data"
    }
   ],
   "source": [
    "lin_reg(X_a365, y_a365)"
   ]
  },
  {
   "cell_type": "markdown",
   "metadata": {},
   "source": [
    "# Results are inconclusive but as predicted a30 is better than all others. Worth exploring further"
   ]
  },
  {
   "cell_type": "markdown",
   "metadata": {},
   "source": [
    "# Test 18 to include a30 in entire_home best lin_reg"
   ]
  },
  {
   "cell_type": "code",
   "execution_count": 95,
   "metadata": {},
   "outputs": [
    {
     "name": "stdout",
     "output_type": "stream",
     "text": [
      "(2376, 81) (2376,)\n"
     ]
    }
   ],
   "source": [
    "# Assign X (data) and y (target)\n",
    "# Model has no room types\n",
    "# Entire Home Per Night is the price\n",
    "# A30 included\n",
    "X_t18 = entire_home[[\"minimum_nights\", \"beds\", \"host_total_listings_count\", \"number_of_reviews\", \"calculated_host_listings_count\", \"availability_30\", \n",
    " \"comfort\"]].join(pd.get_dummies(entire_home[[\"host_is_superhost\", \"host_identity_verified\", \"property_type\", \"zipcode\",\n",
    " \"cancellation_policy\", \"instant_bookable\", \"accommodates\", \"bathrooms\", \"bedrooms\", \"city\", \"bed_type\"]]))\n",
    "y_t18 = entire_home[\"price\"]\n",
    "print(X_t18.shape, y_t18.shape)"
   ]
  },
  {
   "cell_type": "code",
   "execution_count": 96,
   "metadata": {},
   "outputs": [
    {
     "name": "stdout",
     "output_type": "stream",
     "text": [
      "The intercept value is: -87.92995244569039\n",
      " MSE: 16160.58251163741, \n",
      " R2: 0.4914696046584383, \n",
      " Radjusted: 0.41101850695791786 \n",
      " \n",
      "\n",
      "[(-2.1732209668661198, 'minimum_nights'), (4.535641576080598, 'beds'), (0.7695474506606099, 'host_total_listings_count'), (-0.21816489738006783, 'number_of_reviews'), (-0.20022842553976616, 'calculated_host_listings_count'), (1.3525700144970685, 'availability_30'), (5.304713082471299, 'comfort'), (6.063220315081178, 'accommodates'), (71.42094888417358, 'bathrooms'), (28.86332578896425, 'bedrooms'), (-14.34395526376256, 'host_is_superhost_f'), (14.343955263763497, 'host_is_superhost_t'), (1.6666562073719309, 'host_identity_verified_f'), (-1.6666562073716875, 'host_identity_verified_t'), (13.601973320648632, 'property_type_Apartment'), (65.37882837142587, 'property_type_Bed & Breakfast'), (-87.79170698741915, 'property_type_Boat'), (-2.7000623958883807e-13, 'property_type_Cabin'), (0.018890105601049534, 'property_type_Condominium'), (-10.427121642153004, 'property_type_House'), (21.588322415166665, 'property_type_Loft'), (2.475771059157826, 'property_type_Other'), (-4.84495664243024, 'property_type_Townhouse'), (-6.930217427437519, 'zipcode_20001'), (-47.00642487209826, 'zipcode_20001-4044'), (-21.17773771126651, 'zipcode_20002'), (-7.402131675890725, 'zipcode_20002-6645'), (-12.716330119945816, 'zipcode_20003'), (32.78145892839853, 'zipcode_20004'), (-4.5145356531109275, 'zipcode_20005'), (-0.9156637880273755, 'zipcode_20006'), (38.788068270839624, 'zipcode_20007'), (-4.121147867408581e-13, 'zipcode_20007-3413'), (6.684907657355199, 'zipcode_20008'), (-18.424163011207, 'zipcode_20009'), (-46.35569145724546, 'zipcode_20010'), (-65.64426207804584, 'zipcode_20011'), (-76.7150274551329, 'zipcode_20012'), (-48.67915144570764, 'zipcode_20015'), (-32.31318251202181, 'zipcode_20016'), (82.06402857928599, 'zipcode_20017'), (-59.452327916286514, 'zipcode_20018'), (9.000913357390191, 'zipcode_20019'), (-10.788456572120593, 'zipcode_20020'), (-23.013835479096677, 'zipcode_20024'), (56.1163100824346, 'zipcode_20032'), (31.45357574814065, 'zipcode_20036'), (1.789713460539879, 'zipcode_20037'), (38.81012230236457, 'zipcode_20052'), (421.68423231194095, 'zipcode_20064'), (-97.17158863754126, 'zipcode_20229'), (-82.28260536715958, 'zipcode_20268'), (-37.457796325526246, 'zipcode_20712'), (-31.873137953993073, 'zipcode_20815'), (-50.149546869494536, 'zipcode_20910'), (-71.20810337362046, 'zipcode_20912'), (118.17998654197588, 'zipcode_21403'), (14.838600461309959, 'zipcode_22209'), (79.44162864239921, 'cancellation_policy_flexible'), (67.91744099166897, 'cancellation_policy_moderate'), (78.27287710865153, 'cancellation_policy_strict'), (-225.63194674271583, 'cancellation_policy_super_strict_30'), (5.157537129444829, 'instant_bookable_f'), (-5.157537129445124, 'instant_bookable_t'), (19.74875480671488, 'city_Adams Morgan'), (118.17998654197588, 'city_Annapolis'), (14.838600461310069, 'city_Arlington'), (-45.601457123378005, 'city_Capitol Hill, Washington'), (45.40449184315438, 'city_Dupont Circle'), (-37.457796325525955, 'city_Mount Rainier'), (0.0, 'city_New York'), (-50.14954686949454, 'city_Silver Spring'), (-71.20810337362094, 'city_Takoma Park'), (15.055144243497043, 'city_Washington'), (0.0, 'city_Washington '), (23.063063749358978, 'city_Washington, D.C.'), (-31.873137953992988, 'city_chevy chase'), (29.785065958610875, 'bed_type_Airbed'), (-28.968657159847897, 'bed_type_Futon'), (-4.497525622356314, 'bed_type_Pull-out Sofa'), (3.68111682359344, 'bed_type_Real Bed')]\n",
      "----------------------------------------\n"
     ]
    },
    {
     "data": {
      "image/png": "[encoded data removed]",
      "text/plain": [
       "<Figure size 432x288 with 1 Axes>"
      ]
     },
     "metadata": {
      "needs_background": "light"
     },
     "output_type": "display_data"
    }
   ],
   "source": [
    "lin_reg(X_t18, y_t18)"
   ]
  },
  {
   "cell_type": "markdown",
   "metadata": {},
   "source": [
    "# A30 seems to help!"
   ]
  },
  {
   "cell_type": "markdown",
   "metadata": {},
   "source": [
    "# Test 19 removing Accommodates"
   ]
  },
  {
   "cell_type": "code",
   "execution_count": 97,
   "metadata": {},
   "outputs": [
    {
     "name": "stdout",
     "output_type": "stream",
     "text": [
      "(2376, 80) (2376,)\n"
     ]
    }
   ],
   "source": [
    "# Assign X (data) and y (target)\n",
    "# Model has no room types\n",
    "# Entire Home Per Night is the price\n",
    "# A30 included\n",
    "# Accommodates was removed\n",
    "X_t19 = entire_home[[\"minimum_nights\", \"beds\", \"host_total_listings_count\", \"number_of_reviews\", \"calculated_host_listings_count\", \"availability_30\", \n",
    " \"comfort\"]].join(pd.get_dummies(entire_home[[\"host_is_superhost\", \"host_identity_verified\", \"property_type\", \"zipcode\",\n",
    " \"cancellation_policy\", \"instant_bookable\", \"bathrooms\", \"bedrooms\", \"city\", \"bed_type\"]]))\n",
    "y_t19 = entire_home[\"price\"]\n",
    "print(X_t19.shape, y_t19.shape)"
   ]
  },
  {
   "cell_type": "code",
   "execution_count": 98,
   "metadata": {},
   "outputs": [
    {
     "name": "stdout",
     "output_type": "stream",
     "text": [
      "The intercept value is: -100.34327528044861\n",
      " MSE: 15953.984444655654, \n",
      " R2: 0.497970694368749, \n",
      " Radjusted: 0.41968152389993785 \n",
      " \n",
      "\n",
      "[(-2.1915371006878077, 'minimum_nights'), (13.276940245967966, 'beds'), (0.7644771738169314, 'host_total_listings_count'), (-0.21369297649999286, 'number_of_reviews'), (-0.15225287366693507, 'calculated_host_listings_count'), (1.3599090067657826, 'availability_30'), (12.655537894611484, 'comfort'), (72.294705386527, 'bathrooms'), (30.491286495550806, 'bedrooms'), (-14.628763166211902, 'host_is_superhost_f'), (14.628763166211357, 'host_is_superhost_t'), (1.5148148365661633, 'host_identity_verified_f'), (-1.5148148365653107, 'host_identity_verified_t'), (14.137590290976156, 'property_type_Apartment'), (66.62337351265028, 'property_type_Bed & Breakfast'), (-97.04916078702719, 'property_type_Boat'), (4.476419235288631e-13, 'property_type_Cabin'), (1.223546604812796, 'property_type_Condominium'), (-9.278708221016972, 'property_type_House'), (20.872106435945327, 'property_type_Loft'), (5.281713952222103, 'property_type_Other'), (-1.810461788562092, 'property_type_Townhouse'), (-6.755329709842494, 'zipcode_20001'), (-49.30999094998214, 'zipcode_20001-4044'), (-21.56051425849557, 'zipcode_20002'), (-4.696539320447125, 'zipcode_20002-6645'), (-12.933065955614925, 'zipcode_20003'), (32.59720634947359, 'zipcode_20004'), (-4.597781666726441, 'zipcode_20005'), (-0.15941350595247705, 'zipcode_20006'), (37.40809283868555, 'zipcode_20007'), (1.4210854715202004e-13, 'zipcode_20007-3413'), (5.872179873745473, 'zipcode_20008'), (-18.66272267509701, 'zipcode_20009'), (-46.89852599457255, 'zipcode_20010'), (-65.05269697689712, 'zipcode_20011'), (-78.08377823824746, 'zipcode_20012'), (-47.42493644003565, 'zipcode_20015'), (-33.51774545858432, 'zipcode_20016'), (83.04003413826928, 'zipcode_20017'), (-59.569008801691055, 'zipcode_20018'), (10.501110331816964, 'zipcode_20019'), (-9.94101314960172, 'zipcode_20020'), (-22.717578136063192, 'zipcode_20024'), (55.126560395774995, 'zipcode_20032'), (31.174254466027463, 'zipcode_20036'), (1.2669734274713313, 'zipcode_20037'), (36.780676925316655, 'zipcode_20052'), (420.77569082393927, 'zipcode_20064'), (-96.7549368531254, 'zipcode_20229'), (-82.41712153736775, 'zipcode_20268'), (-37.44816240671225, 'zipcode_20712'), (-32.39662850489935, 'zipcode_20815'), (-51.27372568292775, 'zipcode_20910'), (-70.59044927906483, 'zipcode_20912'), (124.69553355714402, 'zipcode_21403'), (13.52335237428477, 'zipcode_22209'), (79.01519605856055, 'cancellation_policy_flexible'), (67.43997822009331, 'cancellation_policy_moderate'), (77.94135299950428, 'cancellation_policy_strict'), (-224.3965272781578, 'cancellation_policy_super_strict_30'), (4.909144256698418, 'instant_bookable_f'), (-4.909144256699285, 'instant_bookable_t'), (18.830331497603417, 'city_Adams Morgan'), (124.69553355714397, 'city_Annapolis'), (13.523352374284784, 'city_Arlington'), (-49.813211552550946, 'city_Capitol Hill, Washington'), (45.41523835047995, 'city_Dupont Circle'), (-37.448162406712235, 'city_Mount Rainier'), (0.0, 'city_New York'), (-51.27372568292787, 'city_Silver Spring'), (-70.59044927906496, 'city_Takoma Park'), (14.834041545320842, 'city_Washington'), (0.0, 'city_Washington '), (24.223680101321925, 'city_Washington, D.C.'), (-32.396628504899326, 'city_chevy chase'), (30.2011174711666, 'bed_type_Airbed'), (-28.157727018856367, 'bed_type_Futon'), (-5.719702166561349, 'bed_type_Pull-out Sofa'), (3.6763117142516357, 'bed_type_Real Bed')]\n",
      "----------------------------------------\n"
     ]
    },
    {
     "data": {
      "image/png": "[encoded data removed]",
      "text/plain": [
       "<Figure size 432x288 with 1 Axes>"
      ]
     },
     "metadata": {
      "needs_background": "light"
     },
     "output_type": "display_data"
    }
   ],
   "source": [
    "lin_reg(X_t19, y_t19)"
   ]
  },
  {
   "cell_type": "markdown",
   "metadata": {},
   "source": [
    "# PCA Test"
   ]
  },
  {
   "cell_type": "code",
   "execution_count": 104,
   "metadata": {},
   "outputs": [
    {
     "ename": "ValueError",
     "evalue": "Cannot index with multidimensional key",
     "output_type": "error",
     "traceback": [
      "\u001b[1;31m---------------------------------------------------------------------------\u001b[0m",
      "\u001b[1;31mValueError\u001b[0m                                Traceback (most recent call last)",
      "\u001b[1;32m<ipython-input-104-2e705676a403>\u001b[0m in \u001b[0;36m<module>\u001b[1;34m()\u001b[0m\n\u001b[0;32m      1\u001b[0m features = entire_home[[\"minimum_nights\", \"beds\", \"host_total_listings_count\", \"number_of_reviews\", \"calculated_host_listings_count\", \"availability_30\", \n\u001b[0;32m      2\u001b[0m  \"comfort\", \"bathrooms\", \"bedrooms\"]]\n\u001b[1;32m----> 3\u001b[1;33m \u001b[0mx\u001b[0m \u001b[1;33m=\u001b[0m \u001b[0mentire_home\u001b[0m\u001b[1;33m.\u001b[0m\u001b[0mloc\u001b[0m\u001b[1;33m[\u001b[0m\u001b[1;33m:\u001b[0m\u001b[1;33m,\u001b[0m \u001b[0mfeatures\u001b[0m\u001b[1;33m]\u001b[0m\u001b[1;33m.\u001b[0m\u001b[0mvalues\u001b[0m\u001b[1;33m\u001b[0m\u001b[0m\n\u001b[0m\u001b[0;32m      4\u001b[0m \u001b[0my\u001b[0m \u001b[1;33m=\u001b[0m \u001b[0mentire_home\u001b[0m\u001b[1;33m.\u001b[0m\u001b[0mloc\u001b[0m\u001b[1;33m[\u001b[0m\u001b[1;33m:\u001b[0m\u001b[1;33m,\u001b[0m\u001b[1;34m'price'\u001b[0m\u001b[1;33m]\u001b[0m\u001b[1;33m.\u001b[0m\u001b[0mvalues\u001b[0m\u001b[1;33m\u001b[0m\u001b[0m\n",
      "\u001b[1;32mC:\\ProgramData\\Anaconda3\\lib\\site-packages\\pandas\\core\\indexing.py\u001b[0m in \u001b[0;36m__getitem__\u001b[1;34m(self, key)\u001b[0m\n\u001b[0;32m   1470\u001b[0m             \u001b[1;32mexcept\u001b[0m \u001b[1;33m(\u001b[0m\u001b[0mKeyError\u001b[0m\u001b[1;33m,\u001b[0m \u001b[0mIndexError\u001b[0m\u001b[1;33m)\u001b[0m\u001b[1;33m:\u001b[0m\u001b[1;33m\u001b[0m\u001b[0m\n\u001b[0;32m   1471\u001b[0m                 \u001b[1;32mpass\u001b[0m\u001b[1;33m\u001b[0m\u001b[0m\n\u001b[1;32m-> 1472\u001b[1;33m             \u001b[1;32mreturn\u001b[0m \u001b[0mself\u001b[0m\u001b[1;33m.\u001b[0m\u001b[0m_getitem_tuple\u001b[0m\u001b[1;33m(\u001b[0m\u001b[0mkey\u001b[0m\u001b[1;33m)\u001b[0m\u001b[1;33m\u001b[0m\u001b[0m\n\u001b[0m\u001b[0;32m   1473\u001b[0m         \u001b[1;32melse\u001b[0m\u001b[1;33m:\u001b[0m\u001b[1;33m\u001b[0m\u001b[0m\n\u001b[0;32m   1474\u001b[0m             \u001b[1;31m# we by definition only have the 0th axis\u001b[0m\u001b[1;33m\u001b[0m\u001b[1;33m\u001b[0m\u001b[0m\n",
      "\u001b[1;32mC:\\ProgramData\\Anaconda3\\lib\\site-packages\\pandas\\core\\indexing.py\u001b[0m in \u001b[0;36m_getitem_tuple\u001b[1;34m(self, tup)\u001b[0m\n\u001b[0;32m    888\u001b[0m                 \u001b[1;32mcontinue\u001b[0m\u001b[1;33m\u001b[0m\u001b[0m\n\u001b[0;32m    889\u001b[0m \u001b[1;33m\u001b[0m\u001b[0m\n\u001b[1;32m--> 890\u001b[1;33m             \u001b[0mretval\u001b[0m \u001b[1;33m=\u001b[0m \u001b[0mgetattr\u001b[0m\u001b[1;33m(\u001b[0m\u001b[0mretval\u001b[0m\u001b[1;33m,\u001b[0m \u001b[0mself\u001b[0m\u001b[1;33m.\u001b[0m\u001b[0mname\u001b[0m\u001b[1;33m)\u001b[0m\u001b[1;33m.\u001b[0m\u001b[0m_getitem_axis\u001b[0m\u001b[1;33m(\u001b[0m\u001b[0mkey\u001b[0m\u001b[1;33m,\u001b[0m \u001b[0maxis\u001b[0m\u001b[1;33m=\u001b[0m\u001b[0mi\u001b[0m\u001b[1;33m)\u001b[0m\u001b[1;33m\u001b[0m\u001b[0m\n\u001b[0m\u001b[0;32m    891\u001b[0m \u001b[1;33m\u001b[0m\u001b[0m\n\u001b[0;32m    892\u001b[0m         \u001b[1;32mreturn\u001b[0m \u001b[0mretval\u001b[0m\u001b[1;33m\u001b[0m\u001b[0m\n",
      "\u001b[1;32mC:\\ProgramData\\Anaconda3\\lib\\site-packages\\pandas\\core\\indexing.py\u001b[0m in \u001b[0;36m_getitem_axis\u001b[1;34m(self, key, axis)\u001b[0m\n\u001b[0;32m   1897\u001b[0m \u001b[1;33m\u001b[0m\u001b[0m\n\u001b[0;32m   1898\u001b[0m                 \u001b[1;32mif\u001b[0m \u001b[0mhasattr\u001b[0m\u001b[1;33m(\u001b[0m\u001b[0mkey\u001b[0m\u001b[1;33m,\u001b[0m \u001b[1;34m'ndim'\u001b[0m\u001b[1;33m)\u001b[0m \u001b[1;32mand\u001b[0m \u001b[0mkey\u001b[0m\u001b[1;33m.\u001b[0m\u001b[0mndim\u001b[0m \u001b[1;33m>\u001b[0m \u001b[1;36m1\u001b[0m\u001b[1;33m:\u001b[0m\u001b[1;33m\u001b[0m\u001b[0m\n\u001b[1;32m-> 1899\u001b[1;33m                     \u001b[1;32mraise\u001b[0m \u001b[0mValueError\u001b[0m\u001b[1;33m(\u001b[0m\u001b[1;34m'Cannot index with multidimensional key'\u001b[0m\u001b[1;33m)\u001b[0m\u001b[1;33m\u001b[0m\u001b[0m\n\u001b[0m\u001b[0;32m   1900\u001b[0m \u001b[1;33m\u001b[0m\u001b[0m\n\u001b[0;32m   1901\u001b[0m                 \u001b[1;32mreturn\u001b[0m \u001b[0mself\u001b[0m\u001b[1;33m.\u001b[0m\u001b[0m_getitem_iterable\u001b[0m\u001b[1;33m(\u001b[0m\u001b[0mkey\u001b[0m\u001b[1;33m,\u001b[0m \u001b[0maxis\u001b[0m\u001b[1;33m=\u001b[0m\u001b[0maxis\u001b[0m\u001b[1;33m)\u001b[0m\u001b[1;33m\u001b[0m\u001b[0m\n",
      "\u001b[1;31mValueError\u001b[0m: Cannot index with multidimensional key"
     ]
    }
   ],
   "source": [
    "features = entire_home[[\"minimum_nights\", \"beds\", \"host_total_listings_count\", \"number_of_reviews\", \"calculated_host_listings_count\", \"availability_30\", \n",
    " \"comfort\", \"bathrooms\", \"bedrooms\"]]\n",
    "x = entire_home.loc[:, features].values\n",
    "y = entire_home.loc[:,'price'].values"
   ]
  },
  {
   "cell_type": "code",
   "execution_count": 100,
   "metadata": {},
   "outputs": [
    {
     "ename": "ValueError",
     "evalue": "could not convert string to float: 'f'",
     "output_type": "error",
     "traceback": [
      "\u001b[1;31m---------------------------------------------------------------------------\u001b[0m",
      "\u001b[1;31mValueError\u001b[0m                                Traceback (most recent call last)",
      "\u001b[1;32m<ipython-input-100-efe70f3b5fa7>\u001b[0m in \u001b[0;36m<module>\u001b[1;34m()\u001b[0m\n\u001b[1;32m----> 1\u001b[1;33m \u001b[0mx\u001b[0m \u001b[1;33m=\u001b[0m \u001b[0mStandardScaler\u001b[0m\u001b[1;33m(\u001b[0m\u001b[1;33m)\u001b[0m\u001b[1;33m.\u001b[0m\u001b[0mfit_transform\u001b[0m\u001b[1;33m(\u001b[0m\u001b[0mx\u001b[0m\u001b[1;33m)\u001b[0m\u001b[1;33m\u001b[0m\u001b[0m\n\u001b[0m",
      "\u001b[1;32mC:\\ProgramData\\Anaconda3\\lib\\site-packages\\sklearn\\base.py\u001b[0m in \u001b[0;36mfit_transform\u001b[1;34m(self, X, y, **fit_params)\u001b[0m\n\u001b[0;32m    515\u001b[0m         \u001b[1;32mif\u001b[0m \u001b[0my\u001b[0m \u001b[1;32mis\u001b[0m \u001b[1;32mNone\u001b[0m\u001b[1;33m:\u001b[0m\u001b[1;33m\u001b[0m\u001b[0m\n\u001b[0;32m    516\u001b[0m             \u001b[1;31m# fit method of arity 1 (unsupervised transformation)\u001b[0m\u001b[1;33m\u001b[0m\u001b[1;33m\u001b[0m\u001b[0m\n\u001b[1;32m--> 517\u001b[1;33m             \u001b[1;32mreturn\u001b[0m \u001b[0mself\u001b[0m\u001b[1;33m.\u001b[0m\u001b[0mfit\u001b[0m\u001b[1;33m(\u001b[0m\u001b[0mX\u001b[0m\u001b[1;33m,\u001b[0m \u001b[1;33m**\u001b[0m\u001b[0mfit_params\u001b[0m\u001b[1;33m)\u001b[0m\u001b[1;33m.\u001b[0m\u001b[0mtransform\u001b[0m\u001b[1;33m(\u001b[0m\u001b[0mX\u001b[0m\u001b[1;33m)\u001b[0m\u001b[1;33m\u001b[0m\u001b[0m\n\u001b[0m\u001b[0;32m    518\u001b[0m         \u001b[1;32melse\u001b[0m\u001b[1;33m:\u001b[0m\u001b[1;33m\u001b[0m\u001b[0m\n\u001b[0;32m    519\u001b[0m             \u001b[1;31m# fit method of arity 2 (supervised transformation)\u001b[0m\u001b[1;33m\u001b[0m\u001b[1;33m\u001b[0m\u001b[0m\n",
      "\u001b[1;32mC:\\ProgramData\\Anaconda3\\lib\\site-packages\\sklearn\\preprocessing\\data.py\u001b[0m in \u001b[0;36mfit\u001b[1;34m(self, X, y)\u001b[0m\n\u001b[0;32m    588\u001b[0m         \u001b[1;31m# Reset internal state before fitting\u001b[0m\u001b[1;33m\u001b[0m\u001b[1;33m\u001b[0m\u001b[0m\n\u001b[0;32m    589\u001b[0m         \u001b[0mself\u001b[0m\u001b[1;33m.\u001b[0m\u001b[0m_reset\u001b[0m\u001b[1;33m(\u001b[0m\u001b[1;33m)\u001b[0m\u001b[1;33m\u001b[0m\u001b[0m\n\u001b[1;32m--> 590\u001b[1;33m         \u001b[1;32mreturn\u001b[0m \u001b[0mself\u001b[0m\u001b[1;33m.\u001b[0m\u001b[0mpartial_fit\u001b[0m\u001b[1;33m(\u001b[0m\u001b[0mX\u001b[0m\u001b[1;33m,\u001b[0m \u001b[0my\u001b[0m\u001b[1;33m)\u001b[0m\u001b[1;33m\u001b[0m\u001b[0m\n\u001b[0m\u001b[0;32m    591\u001b[0m \u001b[1;33m\u001b[0m\u001b[0m\n\u001b[0;32m    592\u001b[0m     \u001b[1;32mdef\u001b[0m \u001b[0mpartial_fit\u001b[0m\u001b[1;33m(\u001b[0m\u001b[0mself\u001b[0m\u001b[1;33m,\u001b[0m \u001b[0mX\u001b[0m\u001b[1;33m,\u001b[0m \u001b[0my\u001b[0m\u001b[1;33m=\u001b[0m\u001b[1;32mNone\u001b[0m\u001b[1;33m)\u001b[0m\u001b[1;33m:\u001b[0m\u001b[1;33m\u001b[0m\u001b[0m\n",
      "\u001b[1;32mC:\\ProgramData\\Anaconda3\\lib\\site-packages\\sklearn\\preprocessing\\data.py\u001b[0m in \u001b[0;36mpartial_fit\u001b[1;34m(self, X, y)\u001b[0m\n\u001b[0;32m    610\u001b[0m         \"\"\"\n\u001b[0;32m    611\u001b[0m         X = check_array(X, accept_sparse=('csr', 'csc'), copy=self.copy,\n\u001b[1;32m--> 612\u001b[1;33m                         warn_on_dtype=True, estimator=self, dtype=FLOAT_DTYPES)\n\u001b[0m\u001b[0;32m    613\u001b[0m \u001b[1;33m\u001b[0m\u001b[0m\n\u001b[0;32m    614\u001b[0m         \u001b[1;31m# Even in the case of `with_mean=False`, we update the mean anyway\u001b[0m\u001b[1;33m\u001b[0m\u001b[1;33m\u001b[0m\u001b[0m\n",
      "\u001b[1;32mC:\\ProgramData\\Anaconda3\\lib\\site-packages\\sklearn\\utils\\validation.py\u001b[0m in \u001b[0;36mcheck_array\u001b[1;34m(array, accept_sparse, dtype, order, copy, force_all_finite, ensure_2d, allow_nd, ensure_min_samples, ensure_min_features, warn_on_dtype, estimator)\u001b[0m\n\u001b[0;32m    431\u001b[0m                                       force_all_finite)\n\u001b[0;32m    432\u001b[0m     \u001b[1;32melse\u001b[0m\u001b[1;33m:\u001b[0m\u001b[1;33m\u001b[0m\u001b[0m\n\u001b[1;32m--> 433\u001b[1;33m         \u001b[0marray\u001b[0m \u001b[1;33m=\u001b[0m \u001b[0mnp\u001b[0m\u001b[1;33m.\u001b[0m\u001b[0marray\u001b[0m\u001b[1;33m(\u001b[0m\u001b[0marray\u001b[0m\u001b[1;33m,\u001b[0m \u001b[0mdtype\u001b[0m\u001b[1;33m=\u001b[0m\u001b[0mdtype\u001b[0m\u001b[1;33m,\u001b[0m \u001b[0morder\u001b[0m\u001b[1;33m=\u001b[0m\u001b[0morder\u001b[0m\u001b[1;33m,\u001b[0m \u001b[0mcopy\u001b[0m\u001b[1;33m=\u001b[0m\u001b[0mcopy\u001b[0m\u001b[1;33m)\u001b[0m\u001b[1;33m\u001b[0m\u001b[0m\n\u001b[0m\u001b[0;32m    434\u001b[0m \u001b[1;33m\u001b[0m\u001b[0m\n\u001b[0;32m    435\u001b[0m         \u001b[1;32mif\u001b[0m \u001b[0mensure_2d\u001b[0m\u001b[1;33m:\u001b[0m\u001b[1;33m\u001b[0m\u001b[0m\n",
      "\u001b[1;31mValueError\u001b[0m: could not convert string to float: 'f'"
     ]
    }
   ],
   "source": [
    "x = StandardScaler().fit_transform(x)\n"
   ]
  },
  {
   "cell_type": "code",
   "execution_count": null,
   "metadata": {},
   "outputs": [],
   "source": [
    "pd.DataFrame(data = x, columns = features).head()"
   ]
  },
  {
   "cell_type": "code",
   "execution_count": null,
   "metadata": {},
   "outputs": [],
   "source": [
    "pca = PCA(n_components=2)"
   ]
  },
  {
   "cell_type": "code",
   "execution_count": null,
   "metadata": {},
   "outputs": [],
   "source": [
    "principalComponents = pca.fit_transform(x)"
   ]
  },
  {
   "cell_type": "code",
   "execution_count": null,
   "metadata": {},
   "outputs": [],
   "source": [
    "principalDf = pd.DataFrame(data = principalComponents\n",
    "             , columns = ['principal component 1', 'principal component 2'])"
   ]
  },
  {
   "cell_type": "code",
   "execution_count": null,
   "metadata": {},
   "outputs": [],
   "source": [
    "principalDf.head()"
   ]
  },
  {
   "cell_type": "code",
   "execution_count": null,
   "metadata": {},
   "outputs": [],
   "source": [
    "finalDf = pd.concat([principalDf, entire_home[['price']]], axis = 1)\n",
    "finalDf.head(5)"
   ]
  },
  {
   "cell_type": "code",
   "execution_count": null,
   "metadata": {},
   "outputs": [],
   "source": [
    "fig = plt.figure(figsize = (8,8))\n",
    "ax = fig.add_subplot(1,1,1) \n",
    "ax.set_xlabel('Principal Component 1', fontsize = 15)\n",
    "ax.set_ylabel('Principal Component 2', fontsize = 15)\n",
    "ax.set_title('2 Component PCA', fontsize = 20)\n",
    "\n",
    "\n",
    "targets = enitre_home['price']\n",
    "colors = ['r', 'g', 'b']\n",
    "for target, color in zip(targets,colors):\n",
    "    indicesToKeep = finalDf['price'] == target\n",
    "    ax.scatter(finalDf.loc[indicesToKeep, 'principal component 1']\n",
    "               , finalDf.loc[indicesToKeep, 'principal component 2']\n",
    "               , c = color\n",
    "               , s = 50)\n",
    "ax.legend(targets)\n",
    "ax.grid()\n",
    "\n"
   ]
  },
  {
   "cell_type": "code",
   "execution_count": null,
   "metadata": {},
   "outputs": [],
   "source": [
    "pca.explained_variance_ratio_"
   ]
  }
 ],
 "metadata": {
  "kernelspec": {
   "display_name": "Python 3",
   "language": "python",
   "name": "python3"
  },
  "language_info": {
   "codemirror_mode": {
    "name": "ipython",
    "version": 3
   },
   "file_extension": ".py",
   "mimetype": "text/x-python",
   "name": "python",
   "nbconvert_exporter": "python",
   "pygments_lexer": "ipython3",
   "version": "3.7.0"
  }
 },
 "nbformat": 4,
 "nbformat_minor": 2
}
